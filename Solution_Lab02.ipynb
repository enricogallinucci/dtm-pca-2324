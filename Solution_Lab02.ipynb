{
 "cells": [
  {
   "cell_type": "markdown",
   "id": "60d2c302-1d4b-470d-94b2-6f455c4e4e1c",
   "metadata": {
    "deletable": true,
    "editable": true,
    "tags": []
   },
   "source": [
    "<img src=\"icons/header.png\">"
   ]
  },
  {
   "cell_type": "markdown",
   "id": "1ce8d48f-24ef-4db1-8dbf-406d0dd72d15",
   "metadata": {
    "deletable": true,
    "editable": true
   },
   "source": [
    "# Lab 2: Branching and iteration"
   ]
  },
  {
   "cell_type": "markdown",
   "id": "c5ae5e09-92b7-43eb-9b11-86513ce39423",
   "metadata": {
    "deletable": true,
    "editable": true,
    "tags": []
   },
   "source": [
    "Welcome to the second lab of the course. This lab covers:\n",
    "- Using strings, printing to the screen, receiving input from the keyboard\n",
    "- Comparison operations and flow control with if/elif/else\n",
    "- Control flow with while and for loops\n",
    "- Using functions and checking their return value"
   ]
  },
  {
   "cell_type": "markdown",
   "id": "e734e5bf-5653-4320-bf81-0cca87fadf22",
   "metadata": {
    "deletable": true,
    "editable": true,
    "tags": []
   },
   "source": [
    "<img src=\"icons/problem.png\" style=\"float:left; margin-right: 20px; margin-top: 30px\">\n",
    "\n",
    "<br>\n",
    "\n",
    "## Exercise 1: String inupts and outputs\n",
    "\n",
    "<p style=\"clear: both\" />\n",
    "\n",
    "### Part 1\n",
    "\n",
    "In the next cell, write a Python program that does the following:\n",
    "- create variables 'fname' and 'lname' with your first and last names, respectively\n",
    "- create variable 'email' that concatenates your first name, a dot, your last name, and \"@studio.unibo.it\"\n",
    "- create variable 'yborn' and use the ```input()``` command to populate it with the year you were born (4-digits)\n",
    "- print an f-string that states something like \"I'm Alice Smith, I'm 25 years old, and my email is something like Alice.Smith@studio.unibo.it\"\n",
    "  - _Use the ```ytoday``` variable to calculate the age_\n",
    "  - _The input must be cast to integer in order to make the calculation_"
   ]
  },
  {
   "cell_type": "code",
   "execution_count": null,
   "id": "8866c495-8b24-42e3-88cd-4fe18b89a210",
   "metadata": {
    "deletable": true,
    "editable": true,
    "tags": [
     "exercise"
    ]
   },
   "outputs": [],
   "source": [
    "# Write your Python program here\n",
    "from datetime import datetime\n",
    "ytoday = datetime.today().year\n",
    "\n",
    "fname = \"Enrico\"\n",
    "lname = \"Gallinucci\"\n",
    "email = fname + \".\" + lname + \"@studio.unibo.it\"\n",
    "yborn = int(input(\"Insert the year you were born (4-digits)\"))\n",
    "\n",
    "print(f\"I'm {fname} {lname}, I'm {ytoday-yborn} years old, and my email is something like {email}\")"
   ]
  },
  {
   "cell_type": "markdown",
   "id": "a3876e98-02bb-4c0a-a9fd-b8d9c0c07e9c",
   "metadata": {
    "editable": true,
    "tags": []
   },
   "source": [
    "### Part 2\n",
    "\n",
    "The above program can go wrong in many ways. Implement some controls to verify that:\n",
    "- 'yborn' is lower than 'ytoday' minus 18 years\n",
    "- 'yborn' is higher than 'ytoday' minus 100 years\n",
    "\n",
    "Use the *logical and* to check both conditions and, if they fail, print an error line.\n",
    "\n",
    "(Other errors can happen; we will deal with them in future classes.)"
   ]
  },
  {
   "cell_type": "code",
   "execution_count": null,
   "id": "daf8ce67-e2a2-45e7-9743-f7fe8a08cfb1",
   "metadata": {
    "editable": true,
    "tags": [
     "exercise"
    ]
   },
   "outputs": [],
   "source": [
    "# Re-write your Python program here\n",
    "from datetime import datetime\n",
    "ytoday = datetime.today().year\n",
    "\n",
    "fname = \"Enrico\"\n",
    "lname = \"Gallinucci\"\n",
    "email = fname + \".\" + lname + \"@studio.unibo.it\"\n",
    "yborn = int(input(\"Insert the year you were born (4-digits)\"))\n",
    "\n",
    "if(yborn < ytoday-18 and yborn > ytoday-100):\n",
    "  print(f\"I'm {fname} {lname}, I'm {ytoday-yborn} years old, and my email is something like {email}\")\n",
    "else:\n",
    "  print(\"The date is not valid\")"
   ]
  },
  {
   "cell_type": "markdown",
   "id": "72ac0e80-f999-479b-b95c-3bb4f2dceeb5",
   "metadata": {
    "editable": true,
    "tags": []
   },
   "source": [
    "### Part 3\n",
    "\n",
    "If the date is valid, then also do the following:\n",
    "- Check whether you were born on an odd or even year, then print the result stating \"I was born on an odd year\" or \"I was born on an even year\".\n",
    "  - _Do not repeat the print command twice! Declare it only once, so that the output changes based on the result of the check._\n",
    "- Check whether your generation is Pre-war (born before 1946), Boomer (born between 1946-1964), Generation X (born between 1965 and 1980), Millennial, (born between 1981 and 1996), or Generation Z (born after 1997); then print the result stating \"My generation is ...\".\n",
    "  - _Again, do not repeat the print command twice!_"
   ]
  },
  {
   "cell_type": "code",
   "execution_count": null,
   "id": "ed0d453a-1e88-48d3-96a1-5f3c9fde4f6b",
   "metadata": {
    "editable": true,
    "tags": [
     "exercise"
    ]
   },
   "outputs": [],
   "source": [
    "# Re-write your Python program here\n",
    "from datetime import datetime\n",
    "ytoday = datetime.today().year\n",
    "\n",
    "fname = \"Enrico\"\n",
    "lname = \"Gallinucci\"\n",
    "email = fname + \".\" + lname + \"@studio.unibo.it\"\n",
    "yborn = int(input(\"Insert the year you were born (4-digits)\"))\n",
    "\n",
    "if(yborn < ytoday-18 and yborn > ytoday-100):\n",
    "  print(f\"I'm {fname} {lname}, I'm {ytoday-yborn} years old, and my email is something like {email}\")\n",
    "  \n",
    "  oddoreven = \"odd\"\n",
    "  if(yborn%2==1):\n",
    "    oddoreven = \"even\"\n",
    "  print(\"I was born on an\",oddoreven,\"year\")\n",
    "  \n",
    "  gen = \"Pre-war\"\n",
    "  if(yborn<=1964):\n",
    "    gen = \"Boomer\"\n",
    "  elif(yborn<=1980):\n",
    "    gen = \"Generation X\"\n",
    "  elif(yborn<=1996):\n",
    "    gen = \"Millennial\"\n",
    "  else:\n",
    "    gen = \"Generation Z\"\n",
    "    \n",
    "  print(\"My generation is\",gen)\n",
    "    \n",
    "else:\n",
    "  print(\"The date is not valid\")"
   ]
  },
  {
   "cell_type": "markdown",
   "id": "7be3a5c1-61f5-4da1-afd6-007b57534d8c",
   "metadata": {
    "editable": true,
    "tags": []
   },
   "source": [
    "<img src=\"icons/problem.png\" style=\"float:left; margin-right: 20px; margin-top: 30px\">\n",
    "\n",
    "<br>\n",
    "\n",
    "## Exercise 2: Magic trick\n",
    "\n",
    "<p style=\"clear: both\" />\n",
    "\n",
    "Replicate the following magic trick\n",
    "- Ask someone to pick a whole number (use the ```input()``` command and cast it to int)\n",
    "- Add the next higher number to it.\n",
    "- Add 9 and divide by 2, and then subtract the original number.\n",
    "- Print \"I guess that the result is 5!\" if the result is 5, otherwise print \"Wait, I'm not sure if this magic trick is working well..\"."
   ]
  },
  {
   "cell_type": "code",
   "execution_count": null,
   "id": "7c15dfc0-fb57-40ae-bdfa-2a232d6932ed",
   "metadata": {
    "tags": []
   },
   "outputs": [],
   "source": [
    "n = int(input(\"Pick a whole number\"))\n",
    "if(((n + (n+1) + 9)/2)-n==5):\n",
    "  print(\"I guess that the result is 5!\")\n",
    "else:\n",
    "  print(\"Wait, I'm not sure if this magic trick is working well..\")"
   ]
  },
  {
   "cell_type": "markdown",
   "id": "aab2c7dc-88bd-41d7-b651-086163668cc5",
   "metadata": {},
   "source": [
    "<img src=\"icons/problem.png\" style=\"float:left; margin-right: 20px; margin-top: 30px\">\n",
    "\n",
    "<br>\n",
    "\n",
    "## Exercise 3: Additional exercises\n",
    "\n",
    "<p style=\"clear: both\" />\n",
    "\n",
    "Write some Python program in the following cells."
   ]
  },
  {
   "cell_type": "code",
   "execution_count": null,
   "id": "8e0d420f-f114-4832-a128-4c26e5fb4582",
   "metadata": {
    "tags": []
   },
   "outputs": [],
   "source": [
    "# Ask someone to enter the length and breadth of a rectangle and print its perimeter and area\n",
    "# Example: length=9, breadth=5, perimeter=28, area=45\n",
    "l = int(input(\"Enter the length of the rectangle\"))\n",
    "b = int(input(\"Enter the breadth of the rectangle\"))\n",
    "p = (l+b)*2\n",
    "a = l*b\n",
    "print(\"The perimeter is\",p,\"and the area is\",a)"
   ]
  },
  {
   "cell_type": "code",
   "execution_count": null,
   "id": "c19a8da8-2217-4757-8927-e19f925c5df6",
   "metadata": {
    "tags": []
   },
   "outputs": [],
   "source": [
    "# Ask someone to enter the radius of a circle and print its diameter and area\n",
    "# Example: radius=8, diameter=16, area=200.96\n",
    "r = int(input(\"Enter the radius of the circle\"))\n",
    "d = r*2\n",
    "a = 3.14*(r**2)\n",
    "print(\"The diameter is\",d,\"and the area is\",a)"
   ]
  },
  {
   "cell_type": "code",
   "execution_count": null,
   "id": "4ea3fadc-1ddb-4289-be46-b1d72531fa86",
   "metadata": {
    "tags": []
   },
   "outputs": [],
   "source": [
    "# Ask someone to enter a temperature in Celsius degrees and convert it to Fahrenheit (multiply by 9/5, then add 32)\n",
    "# Example: celsius=0, fahrenheit=32; celsius=18, fahrenheit=64.4\n",
    "c = int(input(\"Enter a temperature in Celsius degrees\"))\n",
    "f = (c*9/5)+32\n",
    "print(\"The temperature in Fahrenheit is\",f,\"°F\")"
   ]
  },
  {
   "cell_type": "code",
   "execution_count": null,
   "id": "eee6d5a0-7f2b-403f-8a8c-57df1203e511",
   "metadata": {
    "tags": []
   },
   "outputs": [],
   "source": [
    "# Ask someone to enter the base and height of triangle and print its area\n",
    "# Example: base=7, height=11; area=38.5\n",
    "b = int(input(\"Enter the base of the triangle\"))\n",
    "h = int(input(\"Enter the height of the triangle\"))\n",
    "a = b*h/2\n",
    "print(\"The area is\",a)"
   ]
  },
  {
   "cell_type": "code",
   "execution_count": null,
   "id": "84711d65-66c2-4990-9355-2f0fe5682e1b",
   "metadata": {
    "tags": []
   },
   "outputs": [],
   "source": [
    "# Ask someone to enter 3 grades from 18-30, compute their average and convert it to a scale of 110\n",
    "# Example: g1=25, g2=29, g3=30, avg=28, avg110=102.67\n",
    "g1 = int(input(\"Enter the 1st grade\"))\n",
    "g2 = int(input(\"Enter the 2nd grade\"))\n",
    "g3 = int(input(\"Enter the 3rd grade\"))\n",
    "avg = (g1+g2+g3)/3\n",
    "avg110 = avg*110/30\n",
    "print(\"The average is\",avg,\"/30 or\",avg110,\"/110\")"
   ]
  },
  {
   "cell_type": "code",
   "execution_count": null,
   "id": "b65bf515-d928-4a1a-801f-9cd4dee23c0a",
   "metadata": {
    "tags": []
   },
   "outputs": [],
   "source": [
    "# Ask someone to enter two numbers and print which is the maximum without using Python's 'max' function\n",
    "n1 = int(input(\"Enter the 1st number\"))\n",
    "n2 = int(input(\"Enter the 2nd number\"))\n",
    "if(n1>n2):\n",
    "    print(\"The 1st one is greater\")\n",
    "elif(n2>n1):\n",
    "    print(\"The 2nd one is greater\")\n",
    "else:\n",
    "    print(\"The numbers are equal\")"
   ]
  },
  {
   "cell_type": "code",
   "execution_count": null,
   "id": "6d6d1132-37a4-4ed7-bea6-55c7a80531d6",
   "metadata": {
    "tags": []
   },
   "outputs": [],
   "source": [
    "# Ask someone to enter a number from 1 to 7 and print the corresponding weekday from Monday to Sunday\n",
    "n = int(input(\"Enter a number from 1 to 7\"))\n",
    "if(n==1):\n",
    "    print(\"It's Monday\")\n",
    "elif(n==2):\n",
    "    print(\"It's Tuesday\")\n",
    "elif(n==3):\n",
    "    print(\"It's Wednesday\")\n",
    "elif(n==4):\n",
    "    print(\"It's Thurday\")\n",
    "elif(n==5):\n",
    "    print(\"It's Friday\")\n",
    "elif(n==6):\n",
    "    print(\"It's Saturday\")\n",
    "elif(n==7):\n",
    "    print(\"It's Sunday\")\n",
    "else:\n",
    "    print(\"Wrong input!\")"
   ]
  },
  {
   "cell_type": "code",
   "execution_count": null,
   "id": "9fccb493-5b8b-491e-8003-035fa21b29f1",
   "metadata": {
    "tags": []
   },
   "outputs": [],
   "source": [
    "# Ask someone to enter a non-negative number corresponding to their gross income and print the amount of taxes that they have to pay, knowing that\n",
    "# - If the income is <=10000, they have to pay 10%\n",
    "# - If the income is <=20000, they have to pay 10% for the first 10000 and 20% for the remaining part\n",
    "# - Otherwise, they have to pay 10% for the first 10000, 20% for the second 10000, and 30% for the remaining part\n",
    "# Example: income=8000, taxes=800; income=18000, taxes=2600; income=38000, taxes=8400; income=48000, taxes=11400; income=-100, taxes=0\n",
    "income = int(input(\"Enter a gross income\"))\n",
    "if(income>0 and income<=10000):\n",
    "    taxes = income*0.1\n",
    "elif(income>0 and income<=20000):\n",
    "    taxes = 10000*0.1 + (income-10000)*0.2\n",
    "elif(income>0):\n",
    "    taxes = 10000*0.1 + 10000*0.2 + (income-20000)*0.3\n",
    "else:\n",
    "    taxes = 0\n",
    "print(\"The taxes to be paid are\",taxes)"
   ]
  }
 ],
 "metadata": {
  "kernelspec": {
   "display_name": "Python 3 (ipykernel)",
   "language": "python",
   "name": "python3"
  },
  "language_info": {
   "codemirror_mode": {
    "name": "ipython",
    "version": 3
   },
   "file_extension": ".py",
   "mimetype": "text/x-python",
   "name": "python",
   "nbconvert_exporter": "python",
   "pygments_lexer": "ipython3",
   "version": "3.11.4"
  },
  "toc-autonumbering": false,
  "toc-showcode": true,
  "toc-showmarkdowntxt": true,
  "toc-showtags": false
 },
 "nbformat": 4,
 "nbformat_minor": 5
}

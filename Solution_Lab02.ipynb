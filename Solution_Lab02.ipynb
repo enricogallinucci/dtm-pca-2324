{
 "cells": [
  {
   "cell_type": "markdown",
   "id": "60d2c302-1d4b-470d-94b2-6f455c4e4e1c",
   "metadata": {
    "deletable": true,
    "editable": true,
    "tags": []
   },
   "source": [
    "<img src=\"icons/header.png\">"
   ]
  },
  {
   "cell_type": "markdown",
   "id": "1ce8d48f-24ef-4db1-8dbf-406d0dd72d15",
   "metadata": {
    "deletable": true,
    "editable": true
   },
   "source": [
    "# Lab 2: Branching and iteration"
   ]
  },
  {
   "cell_type": "markdown",
   "id": "c5ae5e09-92b7-43eb-9b11-86513ce39423",
   "metadata": {
    "deletable": true,
    "editable": true,
    "tags": []
   },
   "source": [
    "Welcome to the second lab of the course. This lab covers:\n",
    "- Using strings, printing to the screen, receiving input from the keyboard\n",
    "- Comparison operations and flow control with if/elif/else\n",
    "- Control flow with while and for loops\n",
    "- Using functions and checking their return value"
   ]
  },
  {
   "cell_type": "markdown",
   "id": "e734e5bf-5653-4320-bf81-0cca87fadf22",
   "metadata": {
    "deletable": true,
    "editable": true,
    "tags": []
   },
   "source": [
    "<img src=\"icons/problem.png\" style=\"float:left; margin-right: 20px; margin-top: 30px\">\n",
    "\n",
    "<br>\n",
    "\n",
    "## Exercise 1: String inupts and outputs\n",
    "\n",
    "<p style=\"clear: both\" />\n",
    "\n",
    "### Part 1\n",
    "\n",
    "In the next cell, write a Python program that does the following:\n",
    "- create variables 'fname' and 'lname' with your first and last names, respectively\n",
    "- create variable 'email' that concatenates your first name, a dot, your last name, and \"@studio.unibo.it\"\n",
    "- create variable 'yborn' and use the ```input()``` command to populate it with the year you were born (4-digits)\n",
    "- print an f-string that states something like \"I'm Alice Smith, I'm 25 years old, and my email is something like Alice.Smith@studio.unibo.it\"\n",
    "  - _Use the ```ytoday``` variable to calculate the age_\n",
    "  - _The input must be cast to integer in order to make the calculation_"
   ]
  },
  {
   "cell_type": "code",
   "execution_count": null,
   "id": "8866c495-8b24-42e3-88cd-4fe18b89a210",
   "metadata": {
    "deletable": true,
    "editable": true,
    "tags": [
     "exercise"
    ]
   },
   "outputs": [],
   "source": [
    "# Write your Python program here\n",
    "from datetime import datetime\n",
    "ytoday = datetime.today().year\n",
    "\n",
    "fname = \"Enrico\"\n",
    "lname = \"Gallinucci\"\n",
    "email = fname + \".\" + lname + \"@studio.unibo.it\"\n",
    "yborn = int(input(\"Insert the year you were born (4-digits)\"))\n",
    "\n",
    "print(f\"I'm {fname} {lname}, I'm {ytoday-yborn} years old, and my email is something like {email}\")"
   ]
  },
  {
   "cell_type": "markdown",
   "id": "a3876e98-02bb-4c0a-a9fd-b8d9c0c07e9c",
   "metadata": {
    "editable": true,
    "tags": []
   },
   "source": [
    "### Part 2\n",
    "\n",
    "The above program can go wrong in many ways. Implement some controls to verify that:\n",
    "- 'yborn' is lower than 'ytoday' minus 18 years\n",
    "- 'yborn' is higher than 'ytoday' minus 100 years\n",
    "\n",
    "Use the *logical and* to check both conditions and, if they fail, print an error line.\n",
    "\n",
    "(Other errors can happen; we will deal with them in future classes.)"
   ]
  },
  {
   "cell_type": "code",
   "execution_count": null,
   "id": "daf8ce67-e2a2-45e7-9743-f7fe8a08cfb1",
   "metadata": {
    "editable": true,
    "tags": [
     "exercise"
    ]
   },
   "outputs": [],
   "source": [
    "# Re-write your Python program here\n",
    "from datetime import datetime\n",
    "ytoday = datetime.today().year\n",
    "\n",
    "fname = \"Enrico\"\n",
    "lname = \"Gallinucci\"\n",
    "email = fname + \".\" + lname + \"@studio.unibo.it\"\n",
    "yborn = int(input(\"Insert the year you were born (4-digits)\"))\n",
    "\n",
    "if(yborn < ytoday-18 and yborn > ytoday-100):\n",
    "  print(f\"I'm {fname} {lname}, I'm {ytoday-yborn} years old, and my email is something like {email}\")\n",
    "else:\n",
    "  print(\"The date is not valid\")"
   ]
  },
  {
   "cell_type": "markdown",
   "id": "72ac0e80-f999-479b-b95c-3bb4f2dceeb5",
   "metadata": {
    "editable": true,
    "tags": []
   },
   "source": [
    "### Part 3\n",
    "\n",
    "If the date is valid, then also do the following:\n",
    "- Check whether you were born on an odd or even year, then print the result stating \"I was born on an odd year\" or \"I was born on an even year\".\n",
    "  - _Do not repeat the print command twice! Declare it only once, so that the output changes based on the result of the check._\n",
    "- Check whether your generation is Pre-war (born before 1946), Boomer (born between 1946-1964), Generation X (born between 1965 and 1980), Millennial, (born between 1981 and 1996), or Generation Z (born after 1997); then print the result stating \"My generation is ...\".\n",
    "  - _Again, do not repeat the print command twice!_"
   ]
  },
  {
   "cell_type": "code",
   "execution_count": null,
   "id": "ed0d453a-1e88-48d3-96a1-5f3c9fde4f6b",
   "metadata": {
    "editable": true,
    "tags": [
     "exercise"
    ]
   },
   "outputs": [],
   "source": [
    "# Re-write your Python program here\n",
    "from datetime import datetime\n",
    "ytoday = datetime.today().year\n",
    "\n",
    "fname = \"Enrico\"\n",
    "lname = \"Gallinucci\"\n",
    "email = fname + \".\" + lname + \"@studio.unibo.it\"\n",
    "yborn = int(input(\"Insert the year you were born (4-digits)\"))\n",
    "\n",
    "if(yborn < ytoday-18 and yborn > ytoday-100):\n",
    "  print(f\"I'm {fname} {lname}, I'm {ytoday-yborn} years old, and my email is something like {email}\")\n",
    "  \n",
    "  oddoreven = \"odd\"\n",
    "  if(yborn%2==1):\n",
    "    oddoreven = \"even\"\n",
    "  print(\"I was born on an\",oddoreven,\"year\")\n",
    "  \n",
    "  gen = \"Pre-war\"\n",
    "  if(yborn<=1964):\n",
    "    gen = \"Boomer\"\n",
    "  elif(yborn<=1980):\n",
    "    gen = \"Generation X\"\n",
    "  elif(yborn<=1996):\n",
    "    gen = \"Millennial\"\n",
    "  else:\n",
    "    gen = \"Generation Z\"\n",
    "    \n",
    "  print(\"My generation is\",gen)\n",
    "    \n",
    "else:\n",
    "  print(\"The date is not valid\")"
   ]
  },
  {
   "cell_type": "markdown",
   "id": "7be3a5c1-61f5-4da1-afd6-007b57534d8c",
   "metadata": {
    "editable": true,
    "tags": []
   },
   "source": [
    "<img src=\"icons/problem.png\" style=\"float:left; margin-right: 20px; margin-top: 30px\">\n",
    "\n",
    "<br>\n",
    "\n",
    "## Exercise 2: Magic trick\n",
    "\n",
    "<p style=\"clear: both\" />\n",
    "\n",
    "Replicate the following magic trick\n",
    "- Ask someone to pick a whole number (use the ```input()``` command and cast it to int)\n",
    "- Add the next higher number to it.\n",
    "- Add 9 and divide by 2, and then subtract the original number.\n",
    "- Print \"I guess that the result is 5!\" if the result is 5, otherwise print \"Wait, I'm not sure if this magic trick is working well..\"."
   ]
  },
  {
   "cell_type": "code",
   "execution_count": null,
   "id": "7c15dfc0-fb57-40ae-bdfa-2a232d6932ed",
   "metadata": {
    "tags": []
   },
   "outputs": [],
   "source": [
    "n = int(input(\"Pick a whole number\"))\n",
    "if(((n + (n+1) + 9)/2)-n==5):\n",
    "  print(\"I guess that the result is 5!\")\n",
    "else:\n",
    "  print(\"Wait, I'm not sure if this magic trick is working well..\")"
   ]
  }
 ],
 "metadata": {
  "kernelspec": {
   "display_name": "Python 3 (ipykernel)",
   "language": "python",
   "name": "python3"
  },
  "language_info": {
   "codemirror_mode": {
    "name": "ipython",
    "version": 3
   },
   "file_extension": ".py",
   "mimetype": "text/x-python",
   "name": "python",
   "nbconvert_exporter": "python",
   "pygments_lexer": "ipython3",
   "version": "3.11.4"
  },
  "toc-autonumbering": false,
  "toc-showcode": true,
  "toc-showmarkdowntxt": true,
  "toc-showtags": false
 },
 "nbformat": 4,
 "nbformat_minor": 5
}

{
 "cells": [
  {
   "cell_type": "markdown",
   "id": "60d2c302-1d4b-470d-94b2-6f455c4e4e1c",
   "metadata": {
    "deletable": true,
    "editable": true
   },
   "source": [
    "<img src=\"icons/header.png\">"
   ]
  },
  {
   "cell_type": "markdown",
   "id": "1ce8d48f-24ef-4db1-8dbf-406d0dd72d15",
   "metadata": {
    "deletable": true,
    "editable": true
   },
   "source": [
    "# Lab 4: Functions and methods"
   ]
  },
  {
   "cell_type": "markdown",
   "id": "c5ae5e09-92b7-43eb-9b11-86513ce39423",
   "metadata": {
    "deletable": true,
    "editable": true,
    "tags": []
   },
   "source": [
    "Welcome to the fourth lab of the course. This lab covers:\n",
    "- Defining and calling functions\n",
    "- Abstraction and decomposition"
   ]
  },
  {
   "cell_type": "markdown",
   "id": "f9e0a490",
   "metadata": {},
   "source": [
    "<img src=\"icons/problem.png\" style=\"float:left; margin-right: 20px; margin-top: 30px\">\n",
    "\n",
    "<br>\n",
    "\n",
    "## Exercise 0: Warm-up\n",
    "\n",
    "<p style=\"clear: both\" />\n",
    "\n",
    "Implement the following functions:\n",
    "- a function 'pow' that takes in input a number x and returns x**2\n",
    "- a function 'fahrenheit' that takes in input a number of °C degrees and returns the corresponding value in °F\n",
    "- a function 'rectangleArea' that takes in input two numbers (length and breadth) returns the calculation of the area of the rectangle\n",
    "    "
   ]
  },
  {
   "cell_type": "code",
   "execution_count": null,
   "id": "e6ce28fd",
   "metadata": {},
   "outputs": [],
   "source": [
    "def pow(x):\n",
    "    return x**2"
   ]
  },
  {
   "cell_type": "code",
   "execution_count": null,
   "id": "4d3eb687",
   "metadata": {},
   "outputs": [],
   "source": [
    "def fahrenheit(celsius):\n",
    "    return (celsius*9/5)+32"
   ]
  },
  {
   "cell_type": "code",
   "execution_count": null,
   "id": "031befbf",
   "metadata": {},
   "outputs": [],
   "source": [
    "def rectangleArea(length,breadth):\n",
    "    return length*breadth"
   ]
  },
  {
   "cell_type": "markdown",
   "id": "0214afbf-69dd-43de-b55f-86fdd0e4825d",
   "metadata": {
    "editable": true,
    "tags": []
   },
   "source": [
    "<img src=\"icons/problem.png\" style=\"float:left; margin-right: 20px; margin-top: 30px\">\n",
    "\n",
    "<br>\n",
    "\n",
    "## Exercise 1: Let's write some functions\n",
    "\n",
    "<p style=\"clear: both\" />\n",
    "\n",
    "Take the solution of Exercise 1 from Lab02 and re-write it by implementing:\n",
    "- a function 'yearIsValid' that returns ```True``` or ```False``` depending on whether 'yborn' is valid\n",
    "- a function 'numOddOrEven' that returns \"odd\" or \"even\" if a number is odd or even\n",
    "- a function 'generation' that returns the name of the generation given the year in input *IF* the year is valid; otherwise, it returns ```None```\n",
    "- a function 'createEmail' that creates the @studio.unibo.it email address; this function should do the following:\n",
    "  - it mandatorily requires in input the first and last name\n",
    "  - it optionally accepts in input the middle name and an integer indicating how many students have already been created with the same names;\n",
    "  - transforms all names in lower case;\n",
    "  - if the middle name is given, the username should be in the format 'fname.mname.lname';\n",
    "  - if the integer is given, its value +1 should be written after the last name\n",
    "  - the length of the whole username (i.e., the string before the '@') should not exceed 30 characters; if the string is too long, you should (in this order):\n",
    "    1. remove vocals from the middle name, if any;\n",
    "    1. if still too long, remove vocals from the first name;\n",
    "    1. if still too long, truncate the final part of the last name;\n",
    "    1. if still too long, return None\n",
    "\n",
    "The 'createEmail' function is a bit complex; it is useful to break it down into more functions:\n",
    "- 'removeVocalsFromString', to just handle to removal of vocals from a generic string\n",
    "- 'emailPrefix', to just handle the creation of the part that preceeds '@studio.unibo.it'\n",
    "- 'createEmail', to implement the rules to create the username\n",
    "    "
   ]
  },
  {
   "cell_type": "code",
   "execution_count": null,
   "id": "029dcfde-0a76-44ca-8e9a-562a38ee8394",
   "metadata": {
    "editable": true,
    "tags": [
     "exercise"
    ]
   },
   "outputs": [],
   "source": [
    "# Write the Python function here\n",
    "from datetime import datetime\n",
    "ytoday = datetime.today().year\n",
    "\n",
    "def yearIsValid(year):\n",
    "    if(year < ytoday-18 and year > ytoday-100):\n",
    "        return True\n",
    "    else:\n",
    "        return False"
   ]
  },
  {
   "cell_type": "code",
   "execution_count": null,
   "id": "49ac9989-0889-4552-a09b-45e2d9be45c7",
   "metadata": {
    "editable": true,
    "tags": [
     "exercise"
    ]
   },
   "outputs": [],
   "source": [
    "# Write the Python function here\n",
    "def numOddOrEven(num):\n",
    "    if(yborn%2==1):\n",
    "        return \"even\"\n",
    "    else:\n",
    "        return \"odd\""
   ]
  },
  {
   "cell_type": "markdown",
   "id": "4d37d652-babc-4f94-90e7-f34ea408b4f2",
   "metadata": {},
   "source": [
    "<img src=\"icons/problem.png\" style=\"float:left; margin-right: 20px; margin-top: 30px\">\n",
    "\n",
    "<br>\n",
    "\n",
    "## Exercise 3: My base score\n",
    "\n",
    "<p style=\"clear: both\" />\n",
    "\n",
    "Implement a function called 'myBaseScore' to calculate the base score of your final grade as follows:\n",
    "\n",
    "- Take in input a variable number of 'grades' from 18 to 30, including \"30L\"\n",
    "  - An error message should be returned if the grade is lower than 18, greater than 30, or different from \"30L\"\n",
    "  - An error message should be returned if no grades ar entered\n",
    "- Take in input an optional boolean 'graduatingOnTime' (default: False)\n",
    "- Take in input an optional boolean 'internshipInCompany' (default: True)\n",
    "- The function should:\n",
    "  - Convert the grades to a scale of 110; \"30L\" should be considered as 30\n",
    "  - After the conversion, 0.33 should be added for every 30L\n",
    "  - Also add 1 if graduatingOnTime is True\n",
    "  - Also add 2 if internshipInCompany is True\n",
    "  - If the final value is greater than 110, return 110"
   ]
  },
  {
   "cell_type": "code",
   "execution_count": 8,
   "id": "0e389467-4510-42d6-8db7-c1c960ff69fa",
   "metadata": {},
   "outputs": [],
   "source": [
    "def myBaseScore(*grades,graduatingOnTime=False,internshipInCompany=True):\n",
    "    if(len(grades)==0):\n",
    "        return \"No grades entered\"\n",
    "    tot = 0\n",
    "    laude = 0\n",
    "    for grade in grades:\n",
    "        if grade==\"30L\":\n",
    "            tot += 30\n",
    "            laude += 1\n",
    "        elif grade >= 18 and grade <= 30:\n",
    "            tot += grade\n",
    "        else: \n",
    "            return \"Grade \" + str(grade) + \" is not valid\"\n",
    "    base = tot/len(grades)*110/30\n",
    "    if graduatingOnTime:\n",
    "        base += 1\n",
    "    if internshipInCompany:\n",
    "        base += 2\n",
    "    if base>110:\n",
    "        return 110\n",
    "    return base"
   ]
  }
 ],
 "metadata": {
  "kernelspec": {
   "display_name": "Python 3 (ipykernel)",
   "language": "python",
   "name": "python3"
  },
  "language_info": {
   "codemirror_mode": {
    "name": "ipython",
    "version": 3
   },
   "file_extension": ".py",
   "mimetype": "text/x-python",
   "name": "python",
   "nbconvert_exporter": "python",
   "pygments_lexer": "ipython3",
   "version": "3.10.9"
  },
  "toc-autonumbering": false,
  "toc-showcode": true,
  "toc-showmarkdowntxt": true,
  "toc-showtags": true
 },
 "nbformat": 4,
 "nbformat_minor": 5
}

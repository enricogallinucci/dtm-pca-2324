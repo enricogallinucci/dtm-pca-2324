{
 "cells": [
  {
   "cell_type": "markdown",
   "id": "60d2c302-1d4b-470d-94b2-6f455c4e4e1c",
   "metadata": {
    "deletable": true,
    "editable": true,
    "tags": []
   },
   "source": [
    "<img src=\"icons/header.png\">"
   ]
  },
  {
   "cell_type": "markdown",
   "id": "1ce8d48f-24ef-4db1-8dbf-406d0dd72d15",
   "metadata": {
    "deletable": true,
    "editable": true
   },
   "source": [
    "# Lab 2: Branching\n",
    "\n",
    "Welcome to the second lab of the course. This lab covers:\n",
    "- Using strings, printing to the screen, receiving input from the keyboard\n",
    "- Comparison operations and flow control with if/elif/else\n",
    "- Some additional exercises to combine this lab with the previous one"
   ]
  },
  {
   "cell_type": "markdown",
   "id": "a08dd0b7-75ab-468d-bd95-44c4a3f775b3",
   "metadata": {
    "editable": true,
    "tags": []
   },
   "source": [
    "<img src=\"icons/problem.png\" style=\"float:left; margin-right: 20px; margin-top: 30px\">\n",
    "\n",
    "<br>\n",
    "\n",
    "## Exercise 1: String inupts and outputs\n",
    "\n",
    "<p style=\"clear: both\" />\n",
    "\n",
    "### Part 1\n",
    "\n",
    "In the next cell, write a Python program that does the following:\n",
    "- create variables 'fname' and 'lname' with your first and last names, respectively\n",
    "- create variable 'email' that concatenates your first name, a dot, your last name, and \"@studio.unibo.it\"\n",
    "- create variable 'yborn' and use the ```input()``` command to populate it with the year you were born (4-digits)\n",
    "- print an f-string that states something like \"I'm Alice Smith, I'm 25 years old, and my email is something like Alice.Smith@studio.unibo.it\"\n",
    "  - _Use the ```ytoday``` variable to calculate the age_\n",
    "  - _The input must be cast to integer in order to make the calculation_"
   ]
  },
  {
   "cell_type": "code",
   "execution_count": null,
   "id": "8866c495-8b24-42e3-88cd-4fe18b89a210",
   "metadata": {
    "deletable": true,
    "editable": true,
    "tags": [
     "exercise"
    ]
   },
   "outputs": [],
   "source": [
    "# Write your Python program here\n",
    "from datetime import datetime\n",
    "ytoday = datetime.today().year\n",
    "..."
   ]
  },
  {
   "cell_type": "markdown",
   "id": "f7730318-b48b-47b7-a8de-0571bfa1f441",
   "metadata": {
    "editable": true,
    "tags": []
   },
   "source": [
    "### Part 2\n",
    "\n",
    "The above program can go wrong in many ways. Implement some controls to verify that:\n",
    "- 'yborn' is lower than 'ytoday' minus 18 years\n",
    "- 'yborn' is higher than 'ytoday' minus 100 years\n",
    "\n",
    "Use the *logical and* to check both conditions and, if they fail, print an error line.\n",
    "\n",
    "(Other errors can happen; we will deal with them in future classes.)"
   ]
  },
  {
   "cell_type": "code",
   "execution_count": 1,
   "id": "0cfa551c-9d31-4913-8c9a-74c1958c9fca",
   "metadata": {
    "editable": true,
    "tags": [
     "exercise"
    ]
   },
   "outputs": [],
   "source": [
    "# Re-write your Python program here\n",
    "..."
   ]
  },
  {
   "cell_type": "markdown",
   "id": "cde1b096-1cdb-4179-8e0b-1f902d8c4715",
   "metadata": {
    "editable": true,
    "tags": []
   },
   "source": [
    "### Part 3\n",
    "\n",
    "If the date is valid, then also do the following:\n",
    "- Check whether you were born on an odd or even year, then print the result stating \"I was born on an odd year\" or \"I was born on an even year\".\n",
    "  - _Do not repeat the print command twice! Declare it only once, so that the output changes based on the result of the check._\n",
    "- Check whether your generation is Pre-war (born before 1946), Boomer (born between 1946-1964), Generation X (born between 1965 and 1980), Millennial, (born between 1981 and 1996), or Generation Z (born after 1997); then print the result stating \"My generation is ...\".\n",
    "  - _Again, do not repeat the print command twice!_"
   ]
  },
  {
   "cell_type": "code",
   "execution_count": null,
   "id": "723e07ca-3f8d-4134-bbd8-43b0196b7f60",
   "metadata": {
    "editable": true,
    "tags": [
     "exercise"
    ]
   },
   "outputs": [],
   "source": [
    "# Re-write your Python program here\n",
    "..."
   ]
  },
  {
   "cell_type": "markdown",
   "id": "7be3a5c1-61f5-4da1-afd6-007b57534d8c",
   "metadata": {
    "editable": true,
    "tags": []
   },
   "source": [
    "<img src=\"icons/problem.png\" style=\"float:left; margin-right: 20px; margin-top: 30px\">\n",
    "\n",
    "<br>\n",
    "\n",
    "## Exercise 2: Magic trick\n",
    "\n",
    "<p style=\"clear: both\" />\n",
    "\n",
    "Replicate the following magic trick\n",
    "- Ask someone to pick a whole number (use the ```input()``` command and cast it to int)\n",
    "- Add the next higher number to it.\n",
    "- Add 9 and divide by 2, and then subtract the original number.\n",
    "- Print \"I guess that the result is 5!\" if the result is 5, otherwise print \"Wait, I'm not sure if this magic trick is working well..\"."
   ]
  },
  {
   "cell_type": "code",
   "execution_count": null,
   "id": "7c15dfc0-fb57-40ae-bdfa-2a232d6932ed",
   "metadata": {},
   "outputs": [],
   "source": [
    "# Write your Python program here\n",
    "..."
   ]
  },
  {
   "cell_type": "markdown",
   "id": "9ddd8c36-1104-4fa9-9e12-4c48064fff62",
   "metadata": {
    "editable": true,
    "tags": []
   },
   "source": [
    "<img src=\"icons/problem.png\" style=\"float:left; margin-right: 20px; margin-top: 30px\">\n",
    "\n",
    "<br>\n",
    "\n",
    "## Exercise 3: Additional exercises\n",
    "\n",
    "<p style=\"clear: both\" />\n",
    "\n",
    "Write some Python programs in the following cells."
   ]
  },
  {
   "cell_type": "code",
   "execution_count": null,
   "id": "b8d5c40d-e13d-49df-a9cb-9f039fe2c2f2",
   "metadata": {},
   "outputs": [],
   "source": [
    "# Ask someone to enter the length and breadth of a rectangle and print its perimeter and area\n",
    "# Example: length=9, breadth=5, perimeter=28, area=45\n",
    "..."
   ]
  },
  {
   "cell_type": "code",
   "execution_count": null,
   "id": "a8cd861f-551d-41b3-b0e6-218df4b0f2d1",
   "metadata": {},
   "outputs": [],
   "source": [
    "# Ask someone to enter the radius of a circle and print its diameter and area \n",
    "# Example: radius=8, diameter=16, area=200.96\n",
    "..."
   ]
  },
  {
   "cell_type": "code",
   "execution_count": null,
   "id": "5c8f013d-8817-4fcc-9cfb-5474e6ae9ce9",
   "metadata": {},
   "outputs": [],
   "source": [
    "# Ask someone to enter a temperature in Celsius degrees and convert it to Fahrenheit (multiply by 9/5, then add 32)\n",
    "# Example: celsius=0, fahrenheit=32; celsius=18, fahrenheit=64.4\n",
    "..."
   ]
  },
  {
   "cell_type": "code",
   "execution_count": null,
   "id": "fe534499-51ae-4040-93ba-aba2f383f6c8",
   "metadata": {},
   "outputs": [],
   "source": [
    "# Ask someone to enter the base and height of triangle and print its area\n",
    "# Example: base=7, height=11; area=38.5\n",
    "..."
   ]
  },
  {
   "cell_type": "code",
   "execution_count": null,
   "id": "a8b674f4-6495-4e7a-88e2-acebf818ed27",
   "metadata": {},
   "outputs": [],
   "source": [
    "# Ask someone to enter 3 grades from 18-30, compute their average and convert it to a scale of 110\n",
    "# Example: g1=25, g2=29, g3=30, avg=28, avg110=102.67\n",
    "..."
   ]
  },
  {
   "cell_type": "code",
   "execution_count": null,
   "id": "3c20646a-7843-472d-acd4-9463fb06eb73",
   "metadata": {},
   "outputs": [],
   "source": [
    "# Ask someone to enter two numbers and print the maximum without using Python's 'max' function\n",
    "..."
   ]
  },
  {
   "cell_type": "code",
   "execution_count": null,
   "id": "4734988c-d963-442a-8186-ecc1414360d5",
   "metadata": {},
   "outputs": [],
   "source": [
    "# Ask someone to enter a number from 1 to 7 and print the corresponding weekday from Monday to Sunday\n",
    "..."
   ]
  },
  {
   "cell_type": "code",
   "execution_count": null,
   "id": "a9a0b7b4-2339-4c79-8cb8-7cc594f10db6",
   "metadata": {},
   "outputs": [],
   "source": [
    "# Ask someone to enter a non-negative number corresponding to their gross income and print the amount of taxes that they have to pay, knowing that\n",
    "# - If the income is <=10000, they have to pay 10%\n",
    "# - If the income is <=20000, they have to pay 10% for the first 10000 and 20% for the remaining part\n",
    "# - Otherwise, they have to pay 10% for the first 10000, 20% for the second 10000, and 30% for the remaining part\n",
    "# Example: income=8000, taxes=800; income=18000, taxes=2600; income=38000, taxes=8400; income=48000, taxes=11400; income=-100, taxes=0\n",
    "..."
   ]
  }
 ],
 "metadata": {
  "kernelspec": {
   "display_name": "Python 3 (ipykernel)",
   "language": "python",
   "name": "python3"
  },
  "language_info": {
   "codemirror_mode": {
    "name": "ipython",
    "version": 3
   },
   "file_extension": ".py",
   "mimetype": "text/x-python",
   "name": "python",
   "nbconvert_exporter": "python",
   "pygments_lexer": "ipython3",
   "version": "3.11.4"
  },
  "toc-autonumbering": false,
  "toc-showcode": true,
  "toc-showmarkdowntxt": true,
  "toc-showtags": false
 },
 "nbformat": 4,
 "nbformat_minor": 5
}

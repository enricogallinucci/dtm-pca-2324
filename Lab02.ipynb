{
 "cells": [
  {
   "cell_type": "markdown",
   "id": "60d2c302-1d4b-470d-94b2-6f455c4e4e1c",
   "metadata": {
    "deletable": true,
    "editable": true,
    "tags": []
   },
   "source": [
    "<img src=\"icons/header.png\">"
   ]
  },
  {
   "cell_type": "markdown",
   "id": "1ce8d48f-24ef-4db1-8dbf-406d0dd72d15",
   "metadata": {
    "deletable": true,
    "editable": true
   },
   "source": [
    "# Lab 2: Branching and iteration"
   ]
  },
  {
   "cell_type": "markdown",
   "id": "c5ae5e09-92b7-43eb-9b11-86513ce39423",
   "metadata": {
    "deletable": true,
    "editable": true,
    "tags": []
   },
   "source": [
    "Welcome to the second lab of the course. This lab covers:\n",
    "- Using strings, printing to the screen, receiving input from the keyboard\n",
    "- Comparison operations and flow control with if/elif/else\n",
    "- Control flow with while and for loops\n",
    "- Using functions and checking their return value"
   ]
  },
  {
   "cell_type": "markdown",
   "id": "e734e5bf-5653-4320-bf81-0cca87fadf22",
   "metadata": {
    "deletable": true,
    "editable": true,
    "tags": []
   },
   "source": [
    "<img src=\"icons/problem.png\" style=\"float:left; margin-right: 20px; margin-top: 30px\">\n",
    "\n",
    "<br>\n",
    "\n",
    "## Exercise 1: String inupts and outputs\n",
    "\n",
    "<p style=\"clear: both\" />\n",
    "\n",
    "### Part 1\n",
    "\n",
    "In the next cell, write a Python program that does the following:\n",
    "- create variables 'fname' and 'lname' with your first and last names, respectively\n",
    "- create variable 'email' that concatenates your first name, a dot, your last name, and \"@studio.unibo.it\"\n",
    "- create variable 'yborn' and use the ```input()``` command to populate it with the year you were born (4-digits)\n",
    "- print an f-string that states something like \"I'm Alice Smith, I'm 25 years old, and my email is something like Alice.Smith@studio.unibo.it\"\n",
    "  - _Use the ```ytoday``` variable to calculate the age_\n",
    "  - _The input must be cast to integer in order to make the calculation_"
   ]
  },
  {
   "cell_type": "code",
   "execution_count": null,
   "id": "8866c495-8b24-42e3-88cd-4fe18b89a210",
   "metadata": {
    "deletable": true,
    "editable": true,
    "tags": [
     "exercise"
    ]
   },
   "outputs": [],
   "source": [
    "# Write your Python program here\n",
    "..."
   ]
  },
  {
   "cell_type": "markdown",
   "id": "f7730318-b48b-47b7-a8de-0571bfa1f441",
   "metadata": {
    "editable": true,
    "tags": []
   },
   "source": [
    "### Part 2\n",
    "\n",
    "The above program can go wrong in many ways. Implement some controls to verify that:\n",
    "- 'yborn' is lower than 'ytoday' minus 18 years\n",
    "- 'yborn' is higher than 'ytoday' minus 100 years\n",
    "\n",
    "Use the *logical and* to check both conditions and, if they fail, print an error line.\n",
    "\n",
    "(Other errors can happen; we will deal with them in future classes.)"
   ]
  },
  {
   "cell_type": "code",
   "execution_count": 1,
   "id": "0cfa551c-9d31-4913-8c9a-74c1958c9fca",
   "metadata": {
    "editable": true,
    "tags": [
     "exercise"
    ]
   },
   "outputs": [],
   "source": [
    "# Re-write your Python program here\n",
    "..."
   ]
  },
  {
   "cell_type": "markdown",
   "id": "cde1b096-1cdb-4179-8e0b-1f902d8c4715",
   "metadata": {
    "editable": true,
    "tags": []
   },
   "source": [
    "### Part 3\n",
    "\n",
    "If the date is valid, then also do the following:\n",
    "- Check whether you were born on an odd or even year, then print the result stating \"I was born on an odd year\" or \"I was born on an even year\".\n",
    "  - _Do not repeat the print command twice! Declare it only once, so that the output changes based on the result of the check._\n",
    "- Check whether your generation is Pre-war (born before 1946), Boomer (born between 1946-1964), Generation X (born between 1965 and 1980), Millennial, (born between 1981 and 1996), or Generation Z (born after 1997); then print the result stating \"My generation is ...\".\n",
    "  - _Again, do not repeat the print command twice!_"
   ]
  },
  {
   "cell_type": "code",
   "execution_count": null,
   "id": "723e07ca-3f8d-4134-bbd8-43b0196b7f60",
   "metadata": {
    "editable": true,
    "tags": [
     "exercise"
    ]
   },
   "outputs": [],
   "source": [
    "# Re-write your Python program here\n",
    "..."
   ]
  },
  {
   "cell_type": "markdown",
   "id": "7be3a5c1-61f5-4da1-afd6-007b57534d8c",
   "metadata": {
    "editable": true,
    "tags": []
   },
   "source": [
    "<img src=\"icons/problem.png\" style=\"float:left; margin-right: 20px; margin-top: 30px\">\n",
    "\n",
    "<br>\n",
    "\n",
    "## Exercise 2: Magic trick\n",
    "\n",
    "<p style=\"clear: both\" />\n",
    "\n",
    "Replicate the following magic trick\n",
    "- Ask someone to pick a whole number (use the ```input()``` command and cast it to int)\n",
    "- Add the next higher number to it.\n",
    "- Add 9 and divide by 2, and then subtract the original number.\n",
    "- Print \"I guess that the result is 5!\" if the result is 5, otherwise print \"Wait, I'm not sure if this magic trick is working well..\"."
   ]
  },
  {
   "cell_type": "code",
   "execution_count": null,
   "id": "7c15dfc0-fb57-40ae-bdfa-2a232d6932ed",
   "metadata": {},
   "outputs": [],
   "source": [
    "# Write your Python program here\n",
    "..."
   ]
  },
  {
   "cell_type": "markdown",
   "id": "d2fffd11-3803-473d-8ab3-337131ee1016",
   "metadata": {
    "editable": true,
    "tags": []
   },
   "source": [
    "<img src=\"icons/problem.png\" style=\"float:left; margin-right: 20px; margin-top: 30px\">\n",
    "\n",
    "<br>\n",
    "\n",
    "## Exercise 3: For and while loops\n",
    "\n",
    "<p style=\"clear: both\" />\n",
    "\n",
    "### For\n",
    "\n",
    "- Print the square of all numbers from 1 to 5 (included) in the form \"The square of 1 is 1\"\n",
    "- Print the overall sum of all even numbers from 2 to 20 (included)\n",
    "- Ask the user for an input number $n$ and print all numbers from $n$ backwards to its square root (included); if the numbers to print are more than 20, stop and write \"There are too many numbers to print\"\n",
    "\n",
    "### While\n",
    "\n",
    "- Convert the last exercise for the for-cycle to a while-cycle\n",
    "- Ask the user for an input number $n$ and print the number of iterations required to make it <=10 by dividing it by 3\n",
    "- Write a countdown from 5 to 0 that, after the one, divides the previous number in half; stop it after 20 iterations!"
   ]
  },
  {
   "cell_type": "code",
   "execution_count": null,
   "id": "566125f1-ab33-4b63-be17-613cb88cb05d",
   "metadata": {},
   "outputs": [],
   "source": [
    "# FOR-1\n",
    "..."
   ]
  },
  {
   "cell_type": "code",
   "execution_count": null,
   "id": "fdcd59cb-3193-4045-97c8-3b84a409d61e",
   "metadata": {},
   "outputs": [],
   "source": [
    "# FOR-2\n",
    "..."
   ]
  },
  {
   "cell_type": "code",
   "execution_count": null,
   "id": "e383557b-06e5-42fb-920e-5fb8c47cf067",
   "metadata": {},
   "outputs": [],
   "source": [
    "# FOR-3\n",
    "..."
   ]
  },
  {
   "cell_type": "code",
   "execution_count": null,
   "id": "986750cb-3c37-41fd-8a1b-9a89f5084e81",
   "metadata": {},
   "outputs": [],
   "source": [
    "# WHILE-1\n",
    "..."
   ]
  },
  {
   "cell_type": "code",
   "execution_count": null,
   "id": "cb4386e0-686b-4060-b36e-bb14626b8933",
   "metadata": {},
   "outputs": [],
   "source": [
    "# WHILE-2\n",
    "..."
   ]
  },
  {
   "cell_type": "code",
   "execution_count": null,
   "id": "b1ec74f6-3ada-400c-b835-d46eba88413c",
   "metadata": {},
   "outputs": [],
   "source": [
    "# WHILE-3\n",
    "..."
   ]
  },
  {
   "cell_type": "markdown",
   "id": "bcb1d79b-dd83-4349-8bc3-08375a52d96d",
   "metadata": {
    "editable": true,
    "tags": []
   },
   "source": [
    "<img src=\"icons/problem.png\" style=\"float:left; margin-right: 20px; margin-top: 30px\">\n",
    "\n",
    "<br>\n",
    "\n",
    "## Exercise 4: Fibonacci\n",
    "\n",
    "<p style=\"clear: both\" />\n",
    "\n",
    "Print all the Fibonacci numbers that are lower than 10000 (start from 0 and 1).\n",
    " - _Print them in a single line: \"0, 1, 1, 2, 3, 5, 8, ...\"_"
   ]
  },
  {
   "cell_type": "code",
   "execution_count": null,
   "id": "681bd331-c24e-4b16-a71f-c026156cca10",
   "metadata": {},
   "outputs": [],
   "source": [
    "# Write your Python program here\n",
    "..."
   ]
  },
  {
   "cell_type": "markdown",
   "id": "95fb4e06-19b1-431f-9091-1074ad54185e",
   "metadata": {
    "deletable": true,
    "editable": true
   },
   "source": [
    "<img src=\"icons/problem.png\" style=\"float:left; margin-right: 20px; margin-top: 30px\">\n",
    "\n",
    "<br>\n",
    "\n",
    "## Exercise 5: The maze\n",
    "<p style=\"clear: both\" />\n",
    "\n",
    "In this exercise a Python module will be loaded: it contains a set of functions to create, display, and interact with a maze.  \n",
    "Complete all the steps described in the cells below."
   ]
  },
  {
   "cell_type": "code",
   "execution_count": null,
   "id": "f5e26d94-12e1-4af0-981b-89ea30e8f4ba",
   "metadata": {
    "deletable": true,
    "editable": true
   },
   "outputs": [],
   "source": [
    "# Running the following Python code makes available a set of functions to create a maze and interact with it.\n",
    "# Note: importing Python modules will be explained later in the course, for now just run this cell and have faith that it works.\n",
    "from lab02utils import *"
   ]
  },
  {
   "cell_type": "code",
   "execution_count": null,
   "id": "77dc85f8-3b66-4db6-84d9-e3d31126fb46",
   "metadata": {
    "deletable": true,
    "editable": true,
    "tags": []
   },
   "outputs": [],
   "source": [
    "# The following Python function will create the maze and display it in the notebook just below this cell.\n",
    "start_maze()"
   ]
  },
  {
   "cell_type": "markdown",
   "id": "1eb8c97a-df00-4e28-b23a-337ff6aa447d",
   "metadata": {
    "deletable": true,
    "editable": true,
    "tags": []
   },
   "source": [
    "### Setup the window layout\n",
    "\n",
    "In the next exercises it will be important to see the maze and at the same time be able to scroll down the notebook, in order to read and edit the cells below. Arrange your JupyterLab layout as follows:\n",
    "- Create a new view of this notebook (or, if you prefer, create a view only for the output of the above cell, using the appropriate command);\n",
    "- Scroll and resize the new view so that you can see the maze at the right side of your screen and you can use the other view on the left to scroll down to work on the other cells.\n",
    "\n",
    "Your layout should look similar to this one:\n",
    "\n",
    "<img src=\"images/sample_layout.png\" style=\"margin-top: 30px\">\n"
   ]
  },
  {
   "cell_type": "markdown",
   "id": "cd98ee99-eed2-4349-933b-8bd31dc1c1a1",
   "metadata": {
    "deletable": true,
    "editable": true
   },
   "source": [
    "### Moving the hero\n",
    "\n",
    "In the next cell, test the following functions:  \n",
    "- ```hero_rotate_left()``` - The hero turns to the left\n",
    "- ```hero_rotate_right()``` - The hero turns to the right\n",
    "- ```hero_move()``` - The hero attempts to move forward: returns True if the movement was succesfull, otherwise False.\n",
    "    \n",
    "In particular, check the return value of ```hero_move()``` in the two cases (when he can move forward and when he can't).  \n",
    "If you want to move the hero back to the initial position, you can just run the previous code cell again (the one that calls ```start_maze()```)."
   ]
  },
  {
   "cell_type": "code",
   "execution_count": null,
   "id": "be43336c-6727-4430-aabb-11ab2bb0fd13",
   "metadata": {
    "deletable": true,
    "editable": true,
    "tags": [
     "exercise"
    ]
   },
   "outputs": [],
   "source": [
    "# Write a Python program to test the three above functions\n",
    "..."
   ]
  },
  {
   "cell_type": "markdown",
   "id": "a65a6a13-da58-4e37-9276-051d3b61b049",
   "metadata": {
    "deletable": true,
    "editable": true
   },
   "source": [
    "### Solve the maze\n",
    "\n",
    "Write a Python program to help the hero find the exit of the maze. Your program should implement the *Wall follower* algorithm (see https://en.wikipedia.org/wiki/Maze-solving_algorithm#Wall_follower), using the *left-hand rule* or the *right-hand rule*. For instance, the left-hand rule can be summarized as follows: if there is no wall at the left, then rotate left and move forward; otherwise if there is a wall in front, then rotate right, otherwise move forward.  \n",
    "\n",
    "Some of the following functions can be used, together with the ones already mentioned, to write your program:\n",
    "- ```wall_in_front()``` - True if there is a wall in front of the hero.\n",
    "- ```wall_at_right()``` - True if there is a wall on the right of the hero.\n",
    "- ```wall_at_left()``` - True if there is a wall on the left of the hero.\n",
    "- ```maze_solved()``` - True if there hero finally exited the maze.\n",
    "    \n",
    "_Suggestion: in case your program enters an infinite loop, or you want to terminate it in advance, the command \"Interrupt Kernel\" can come in handy._"
   ]
  },
  {
   "cell_type": "code",
   "execution_count": null,
   "id": "105cda47-864a-4e7b-a640-68bc70f68763",
   "metadata": {
    "deletable": true,
    "editable": true,
    "tags": [
     "exercise"
    ]
   },
   "outputs": [],
   "source": [
    "# Write your Python program here\n",
    "..."
   ]
  }
 ],
 "metadata": {
  "kernelspec": {
   "display_name": "Python 3 (ipykernel)",
   "language": "python",
   "name": "python3"
  },
  "language_info": {
   "codemirror_mode": {
    "name": "ipython",
    "version": 3
   },
   "file_extension": ".py",
   "mimetype": "text/x-python",
   "name": "python",
   "nbconvert_exporter": "python",
   "pygments_lexer": "ipython3",
   "version": "3.10.9"
  },
  "toc-autonumbering": false,
  "toc-showcode": true,
  "toc-showmarkdowntxt": true,
  "toc-showtags": false
 },
 "nbformat": 4,
 "nbformat_minor": 5
}

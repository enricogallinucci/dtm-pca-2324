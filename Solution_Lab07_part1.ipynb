{
 "cells": [
  {
   "cell_type": "markdown",
   "id": "f216d371",
   "metadata": {
    "deletable": true,
    "editable": true
   },
   "source": [
    "<img src=\"icons/header.png\">"
   ]
  },
  {
   "cell_type": "markdown",
   "id": "f5d6bef9",
   "metadata": {
    "deletable": true,
    "editable": true
   },
   "source": [
    "# Lab 7: Summing up\n",
    "\n",
    "Welcome to the seventh lab of the course. This lab make a summary of the exercises from previous labs.\n",
    "\n",
    "## Part 1"
   ]
  },
  {
   "cell_type": "code",
   "execution_count": 1,
   "id": "7569255d",
   "metadata": {
    "deletable": true,
    "editable": true,
    "tags": []
   },
   "outputs": [
    {
     "name": "stdout",
     "output_type": "stream",
     "text": [
      "[1, 2, 3, 4, 5, 6, 7, 8, 9, 10]\n"
     ]
    }
   ],
   "source": [
    "# Use a for loop to create a list 'myList' of 10 numbers, from 1 to 10\n",
    "myList = []\n",
    "for i in range(1,11):\n",
    "    myList.append(i)\n",
    "print(myList)\n",
    "# Expected result: [1, 2, 3, 4, 5, 6, 7, 8, 9, 10]"
   ]
  },
  {
   "cell_type": "code",
   "execution_count": 2,
   "id": "94f11432-4ed0-49ae-8e77-f2c339e9f6ae",
   "metadata": {
    "editable": true,
    "tags": []
   },
   "outputs": [
    {
     "name": "stdout",
     "output_type": "stream",
     "text": [
      "55\n"
     ]
    }
   ],
   "source": [
    "# Iterate over myList to sum all elements, then print the sum\n",
    "sum = 0\n",
    "for i in myList:\n",
    "    sum += i\n",
    "print(sum)\n",
    "# Expected result: 55"
   ]
  },
  {
   "cell_type": "code",
   "execution_count": 3,
   "id": "41d23fde-a004-4476-8b6d-2a4430c3367d",
   "metadata": {
    "editable": true,
    "tags": []
   },
   "outputs": [
    {
     "name": "stdout",
     "output_type": "stream",
     "text": [
      "[1, 4, 9, 16, 25, 36, 49, 64, 81, 100]\n"
     ]
    }
   ],
   "source": [
    "# Use a while loop to iterate over myList and create a new 'myList2' with the same numbers elevated to the power of 2\n",
    "myList2 = []\n",
    "i = 0\n",
    "while i<len(myList):\n",
    "    myList2.append(myList[i]**2)\n",
    "    i += 1\n",
    "print(myList2)\n",
    "# Expected result: [1, 4, 9, 16, 25, 36, 49, 64, 81, 100]"
   ]
  },
  {
   "cell_type": "code",
   "execution_count": 4,
   "id": "04326776-1c4f-49f6-9a80-9fb3477d77a5",
   "metadata": {
    "editable": true,
    "tags": []
   },
   "outputs": [
    {
     "name": "stdout",
     "output_type": "stream",
     "text": [
      "[1.0, 1.4142135623730951, 1.7320508075688772, 2.0, 2.23606797749979, 2.449489742783178, 2.6457513110645907, 2.8284271247461903, 3.0, 3.1622776601683795]\n"
     ]
    }
   ],
   "source": [
    "# Use list comprehension to create a new 'myList3' with the square values of myList\n",
    "myList3 = [i**0.5 for i in myList]\n",
    "print(myList3)\n",
    "# Expected result: [1.0, 1.4142135623730951, 1.7320508075688772, 2.0, 2.23606797749979, 2.449489742783178, 2.6457513110645907, 2.8284271247461903, 3.0, 3.1622776601683795]"
   ]
  },
  {
   "cell_type": "code",
   "execution_count": 5,
   "id": "d24e1ff3-c6b6-4ff2-a7a7-48a64396c4ea",
   "metadata": {
    "editable": true,
    "tags": []
   },
   "outputs": [
    {
     "name": "stdout",
     "output_type": "stream",
     "text": [
      "[2.0, 2.23606797749979, 2.449489742783178, 2.6457513110645907, 2.8284271247461903, 3.0, 3.1622776601683795]\n"
     ]
    }
   ],
   "source": [
    "# Use list comprehension to create a new 'myList4' with the square values of myList (as above), but keep only squared values that are greater than or equals to 2\n",
    "myList4 = [i**0.5 for i in myList if i**0.5>=2]\n",
    "print(myList4)\n",
    "# Expected result: [2.0, 2.23606797749979, 2.449489742783178, 2.6457513110645907, 2.8284271247461903, 3.0, 3.1622776601683795]"
   ]
  },
  {
   "cell_type": "code",
   "execution_count": 6,
   "id": "1a590f92-4bea-44a0-b298-506bd2d7b4dc",
   "metadata": {
    "editable": true,
    "tags": []
   },
   "outputs": [
    {
     "name": "stdout",
     "output_type": "stream",
     "text": [
      "[(1.0, 1, '*'), (1.4142135623730951, 1, '*'), (1.7320508075688772, 1, '*'), (2.0, 2, '**'), (2.23606797749979, 2, '**'), (2.449489742783178, 2, '**'), (2.6457513110645907, 2, '**'), (2.8284271247461903, 2, '**'), (3.0, 3, '***'), (3.1622776601683795, 3, '***')]\n"
     ]
    }
   ],
   "source": [
    "# Use list comprehension to create a new 'myList5' by iterating over myList3 and creating tuples in the form (a,b,c) \n",
    "# where a is the original number, b is its reduction to int (removing the decimals), and c is a string with b stars;\n",
    "# for instance, 2.23606797749979 should produce (2.23606797749979, 2, \"**\")\n",
    "myList5 = [(i,int(i),int(i)*\"*\") for i in myList3]\n",
    "print(myList5)\n",
    "# Expected result: \n",
    "# [(1.0, 1, '*'), (1.4142135623730951, 1, '*'), (1.7320508075688772, 1, '*'), (2.0, 2, '**'), (2.23606797749979, 2, '**'), \n",
    "#  (2.449489742783178, 2, '**'), (2.6457513110645907, 2, '**'), (2.8284271247461903, 2, '**'), (3.0, 3, '***'), (3.1622776601683795, 3, '***')]"
   ]
  },
  {
   "cell_type": "code",
   "execution_count": 7,
   "id": "13c86a87",
   "metadata": {
    "deletable": true,
    "editable": true,
    "tags": [
     "exercise"
    ]
   },
   "outputs": [
    {
     "name": "stdout",
     "output_type": "stream",
     "text": [
      "{1, 2, 3}\n"
     ]
    }
   ],
   "source": [
    "# Create a function listToSet that takes in input a list in the form of myList5 \n",
    "# and translates it into set containing the distinct values of the 'b' elements of each (a,b,c) tuple\n",
    "# Then, call the function on myList5 and put the results in a set called 'mySet'\n",
    "def listToSet(l):\n",
    "    s = set()\n",
    "    for i in l:\n",
    "        s.add(i[1])\n",
    "    return s\n",
    "\n",
    "mySet = listToSet(myList5)\n",
    "print(mySet)\n",
    "# Expected result: {1, 2, 3}"
   ]
  },
  {
   "cell_type": "code",
   "execution_count": 8,
   "id": "a2187f88-ac60-4d5e-b4a7-23b4a239d4a7",
   "metadata": {
    "editable": true,
    "tags": [
     "exercise"
    ]
   },
   "outputs": [],
   "source": [
    "# Create a function listToSet2 that behaves like listToSet, but it also takes in input an optional lambda function \n",
    "# which take in input an item in the form (a,b,c) and decides what should be returned;\n",
    "# if the function is not specified, it should do like above\n",
    "def listToSet2(l, fun=lambda x: x[1]):\n",
    "    s = set()\n",
    "    for i in l:\n",
    "        s.add(fun(i))\n",
    "    return s"
   ]
  },
  {
   "cell_type": "code",
   "execution_count": 9,
   "id": "1258cf74-aa2d-49fc-8c87-e1a1341fc94c",
   "metadata": {
    "editable": true,
    "tags": [
     "exercise"
    ]
   },
   "outputs": [
    {
     "name": "stdout",
     "output_type": "stream",
     "text": [
      "{1, 2, 3}\n",
      "{'*', '**', '***'}\n",
      "{1.0, 2.0000000000000004, 2.9999999999999996, 4.0, 5.000000000000001, 5.999999999999999, 7.000000000000001, 8.000000000000002, 9.0, 10.000000000000002}\n"
     ]
    }
   ],
   "source": [
    "# Test the function listToSet2 on myList5:\n",
    "# - with no lambda function in input\n",
    "# - with a lambda function that returns the third element of the (a,b,c) tuple\n",
    "# - with a lambda function that returns the first element of the (a,b,c) elevated to the power of 2\n",
    "print(listToSet2(myList5))\n",
    "print(listToSet2(myList5,lambda x:x[2]))\n",
    "print(listToSet2(myList5,lambda x:x[0]**2))\n",
    "# Expected results: \n",
    "# {1, 2, 3}\n",
    "# {'**', '***', '*'}\n",
    "# {1.0, 2.0000000000000004, 2.9999999999999996, 4.0, 5.000000000000001, 5.999999999999999, 7.000000000000001, 8.000000000000002, 9.0, 10.000000000000002}"
   ]
  },
  {
   "cell_type": "code",
   "execution_count": 10,
   "id": "3edf3be6-8ba1-4452-ab8e-598c90ee4bf2",
   "metadata": {
    "editable": true,
    "tags": [
     "exercise"
    ]
   },
   "outputs": [],
   "source": [
    "# Create a function listToDict that iterates over a list and creates a dictionary of key-value pairs,\n",
    "# where keys are the distinct elements of the list and values are the number of times that each key appears in the list\n",
    "def listToDict(l):\n",
    "    d = {}\n",
    "    for i in l:\n",
    "        if i in d:\n",
    "            d[i] = d[i]+1\n",
    "        else:\n",
    "            d[i] = 1\n",
    "    return d"
   ]
  },
  {
   "cell_type": "code",
   "execution_count": 11,
   "id": "db60bf48-39c1-45d5-8622-0685ab601b29",
   "metadata": {},
   "outputs": [
    {
     "name": "stdout",
     "output_type": "stream",
     "text": [
      "{'a': 2, 'b': 2, 'c': 3, 'd': 1}\n",
      "{1: 3, 2: 5, 3: 2}\n"
     ]
    }
   ],
   "source": [
    "# Test the listToDict function on:\n",
    "# - a list [\"a\",\"b\",\"b\",\"c\",\"c\",\"c\",\"a\",\"d\"]\n",
    "# - a list created with list comprehension from myList5 considers only the b elements of the (a,b,c) tuples\n",
    "print(listToDict([\"a\",\"b\",\"b\",\"c\",\"c\",\"c\",\"a\",\"d\"]))\n",
    "print(listToDict([x[1] for x in myList5]))\n",
    "# Expected results: \n",
    "# {'a': 2, 'b': 2, 'c': 3, 'd': 1}\n",
    "# {1: 3, 2: 5, 3: 2}"
   ]
  },
  {
   "cell_type": "code",
   "execution_count": 12,
   "id": "536c0428-4192-4572-b976-b14603b0de32",
   "metadata": {},
   "outputs": [
    {
     "name": "stdout",
     "output_type": "stream",
     "text": [
      "{3: 1, 5: 2, 2: 3}\n",
      "{1: 3, 2: 10, 3: 6}\n"
     ]
    }
   ],
   "source": [
    "# Use dictionary comprehension on the last dictionary obtained above to\n",
    "# - invert keys and values\n",
    "# - multiply values by their keys\n",
    "d = listToDict([x[1] for x in myList5])\n",
    "print({ d[k]:k for k in d.keys() })\n",
    "print({ k:k*d[k] for k in d.keys() })\n",
    "# Expected results: \n",
    "# {3: 1, 5: 2, 2: 3}\n",
    "# {1: 3, 2: 10, 3: 6}"
   ]
  }
 ],
 "metadata": {
  "kernelspec": {
   "display_name": "Python 3 (ipykernel)",
   "language": "python",
   "name": "python3"
  },
  "language_info": {
   "codemirror_mode": {
    "name": "ipython",
    "version": 3
   },
   "file_extension": ".py",
   "mimetype": "text/x-python",
   "name": "python",
   "nbconvert_exporter": "python",
   "pygments_lexer": "ipython3",
   "version": "3.11.4"
  },
  "toc-autonumbering": false,
  "toc-showcode": true,
  "toc-showmarkdowntxt": true,
  "toc-showtags": true
 },
 "nbformat": 4,
 "nbformat_minor": 5
}

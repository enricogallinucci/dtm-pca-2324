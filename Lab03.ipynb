{
 "cells": [
  {
   "cell_type": "markdown",
   "id": "60d2c302-1d4b-470d-94b2-6f455c4e4e1c",
   "metadata": {
    "deletable": false,
    "editable": true
   },
   "source": [
    "<img src=\"icons/header.png\">"
   ]
  },
  {
   "cell_type": "markdown",
   "id": "1ce8d48f-24ef-4db1-8dbf-406d0dd72d15",
   "metadata": {
    "deletable": false,
    "editable": true
   },
   "source": [
    "# Lab 3: Working with strings and implementing a binary search algorithm"
   ]
  },
  {
   "cell_type": "markdown",
   "id": "c5ae5e09-92b7-43eb-9b11-86513ce39423",
   "metadata": {
    "deletable": false,
    "editable": true,
    "tags": []
   },
   "source": [
    "Welcome to the third lab of the course. This lab covers:\n",
    "- String slicing\n",
    "- Manipulating and comparing strings\n",
    "- Implementing a simple binary search algorithm"
   ]
  },
  {
   "cell_type": "markdown",
   "id": "e734e5bf-5653-4320-bf81-0cca87fadf22",
   "metadata": {
    "deletable": false,
    "editable": true,
    "tags": []
   },
   "source": [
    "<img src=\"icons/problem.png\" style=\"float:left; margin-right: 20px; margin-top: 30px\">\n",
    "\n",
    "<br>\n",
    "\n",
    "## Exercise 1: Are you a string slicing master?\n",
    "\n",
    "<p style=\"clear: both\" />\n",
    "\n",
    "String slicing in Pyton is a powerful tool for extracting substrings. It is very important to become proficient in using this functionality because, as we will see later, it is not limited to strings, but is used in many other data structures.  \n",
    "Running the next cell will start a game where you will be asked to find slicing expressions to produce specific substrings of the following string:\n",
    "- ```s = \"Winter is coming!\"```\n",
    "    \n",
    "For instance, if the substring is \"s com\", a correct answer is:\n",
    "- ```s[8:13]```\n",
    "    \n",
    "if the substring is \" enW\", a correct answer is:\n",
    "- ```s[6::-2]```\n",
    "\n",
    "To complete this exercise, you have to finish the game. Of course it is possible to try again if you want to improve your time!\n",
    "\n",
    "A suggestion for finding the correct answers more quickly is to write down on paper a table with the index of each character in the string (0: \"W\", 1: \"i\", 2: \"n\", 3: \"t\", ...)."
   ]
  },
  {
   "cell_type": "code",
   "execution_count": null,
   "id": "c3f79cb7-30c0-46c8-8f61-1606338bf3d7",
   "metadata": {
    "deletable": false,
    "editable": true
   },
   "outputs": [],
   "source": [
    "# Run this cell to start the game!\n",
    "import lab03utils\n",
    "lab03utils.string_slicing_game()"
   ]
  },
  {
   "cell_type": "markdown",
   "id": "95fb4e06-19b1-431f-9091-1074ad54185e",
   "metadata": {
    "deletable": false,
    "editable": true
   },
   "source": [
    "<img src=\"icons/problem.png\" style=\"float:left; margin-right: 20px; margin-top: 30px\">\n",
    "\n",
    "<br>\n",
    "\n",
    "## Exercise 2: Caesar's cipher\n",
    "<p style=\"clear: both\" />\n",
    "\n",
    "Caesar's cipher is one of the simplest *encryption* techniques. It is a *substitution cipher* in which each character is replaced by a character at a given number of positions down the alphabet. For instance, with a positive shift of 2, A would be replaced by C, B would become D, and so on.  \n",
    "\n",
    "Complete the following cell with a Python program that encrypts the string contained in variable *plaintext* using Caesar's cipher by shifting the Unicode characters by 7 positions: for instance, character 'A' (codepoint 65) should become character 'H' (codepoint 72). You can use Python functions ```ord()``` and ```chr()```, to get the codepoint of any unicode character and to get the character corresponding to a given codepoint, respectively.\n",
    "- ```chr('A')``` returns 65\n",
    "- ```ord(65)``` returns 'A'\n",
    "\n",
    "Note that in a real Cesar's cipher the alphabet is actually *rotated*: for instance, if the alphabet is \"A..Z\" and the shift is two positions, Z should become B. In this exercise you can ignore this issue, since the unicode range of characters is much larger than the ones contained in the string to be encrypted."
   ]
  },
  {
   "cell_type": "code",
   "execution_count": null,
   "id": "f5e26d94-12e1-4af0-981b-89ea30e8f4ba",
   "metadata": {
    "deletable": false,
    "editable": true,
    "tags": [
     "exercise"
    ]
   },
   "outputs": [],
   "source": [
    "# The text to be encrypted\n",
    "plaintext = \"And so he spoke, and so he spoke, that lord of Castamere, But now the rains weep o'er his hall, with no one there to hear.\"\n",
    "\n",
    "# The encrypted text\n",
    "ciphertext = \"\"\n",
    "\n",
    "# Write the encryption program here\n",
    "...\n",
    "\n",
    "print(\"The encrypted text is:\", ciphertext)"
   ]
  },
  {
   "cell_type": "markdown",
   "id": "80748c0c-39bd-4602-a9e5-441c25d844b5",
   "metadata": {
    "deletable": false,
    "editable": true,
    "tags": []
   },
   "source": [
    "<img src=\"icons/check.png\" style=\"float:left; margin-right: 10px;\">\n",
    "\n",
    "<br>\n",
    "\n",
    "Run the following cell to check if the encrypted text is correct."
   ]
  },
  {
   "cell_type": "code",
   "execution_count": null,
   "id": "eda39e59-18ea-41c1-8254-585fa146deec",
   "metadata": {
    "deletable": false,
    "editable": true,
    "tags": []
   },
   "outputs": [],
   "source": [
    "lab03utils.test_es_3(globals())"
   ]
  },
  {
   "cell_type": "markdown",
   "id": "ab9f5ca1-43c7-49d4-b4e9-e8f53968cc6a",
   "metadata": {
    "deletable": false,
    "editable": true,
    "tags": []
   },
   "source": [
    "<img src=\"icons/problem.png\" style=\"float:left; margin-right: 20px; margin-top: 30px\">\n",
    "\n",
    "<br>\n",
    "\n",
    "## Exercise 3: Breaking Caesar's cipher\n",
    "<p style=\"clear: both\" />\n",
    "\n",
    "You obtained a secret message encrypted with Caesar's cipher. \n",
    "You don't know how many positions the characters have been moved by, but you know it's a value between -15 and + 15.  \n",
    "Write a Python program that implements a [brute force](https://en.wikipedia.org/wiki/Brute-force_attack) (exhausitve enumeration) method to decrypt the message."
   ]
  },
  {
   "cell_type": "code",
   "execution_count": null,
   "id": "e300f905-fc58-44c4-af41-d7e2d956fd22",
   "metadata": {
    "deletable": false,
    "editable": true,
    "tags": [
     "exercise"
    ]
   },
   "outputs": [],
   "source": [
    "# The text to be encrypted\n",
    "encrypted_message = \"Li#zh#fdq*w#olyh#wrjhwkhu/#zh*uh#jrqqd#glh#dorqh\"\n",
    "\n",
    "# Write your hacking program here\n",
    "..."
   ]
  },
  {
   "cell_type": "markdown",
   "id": "c259075c-9f8b-4ddd-8dcf-1fae9fd2975b",
   "metadata": {
    "deletable": false,
    "editable": true
   },
   "source": [
    "<img src=\"icons/problem.png\" style=\"float:left; margin-right: 20px; margin-top: 30px\">\n",
    "\n",
    "<br>\n",
    "\n",
    "## Exercise 4: Guess the number!\n",
    "<p style=\"clear: both\" />\n",
    "\n",
    "Write a Python program that:\n",
    "\n",
    "1. Asks the user to enter a number N between 10 and 1000;\n",
    "2. Asks the user to choose a secret number *x* between 1 and N;\n",
    "3. Iteratively uses a binary search approach to guess the number with as few attempts as possible.\n",
    "\n",
    "*Example:*\n",
    "\n",
    "> Please enter a number between 10 and 1000: 50  \n",
    "> Please choose a secret number between 1 and 50 and press enter 42  \n",
    "> My guess is 25, but it is too low.  \n",
    "> My guess is 38, but it is too low.  \n",
    "> My guess is 44, but it is too high.  \n",
    "> My guess is 41, but it is too low.  \n",
    "> My guess is 42 and it is correct! I did it in 5 attempts.  "
   ]
  },
  {
   "cell_type": "code",
   "execution_count": null,
   "id": "0062125e-0a08-4a08-9017-728ec14124a0",
   "metadata": {
    "deletable": false,
    "editable": true,
    "tags": [
     "exercise"
    ]
   },
   "outputs": [],
   "source": [
    "# Write the Python program here\n",
    "..."
   ]
  },
  {
   "cell_type": "markdown",
   "id": "db87c91b-69c1-49f2-b92f-964888654a66",
   "metadata": {
    "deletable": false,
    "editable": true,
    "tags": []
   },
   "source": [
    "<img src=\"icons/problem.png\" style=\"float:left; margin-right: 20px; margin-top: 30px\">\n",
    "\n",
    "<br>\n",
    "\n",
    "## Exercise 5: Rock Paper Scissors\n",
    "\n",
    "<p style=\"clear: both\" />\n",
    "\n",
    "Write a Python program that enables two users to play the [*Rock Paper Scissors*](https://en.wikipedia.org/wiki/Rock_paper_scissors) game.  \n",
    "Each player will enter either \"R\" for rock, \"P\" for paper, or \"S\" for scissors: the program should announce the winner and ask if the players want to play another round (expected answer: \"Y\" for yes, or \"N\" for no).\n",
    "\n",
    "*Example:*\n",
    "\n",
    "    Welcome to a new round of Rock, Paper, Scissors.\n",
    "    Player 1 (R/P/S): R\n",
    "    Player 2 (R/P/S): X\n",
    "    Please enter \"R\", \"P\", or \"S\"\n",
    "    Player 2 (R/P/S): P\n",
    "    Paper beats Rock: Player 2 wins.\n",
    "    Play again (Y/N)? Y\n",
    "\n",
    "    Welcome to a new round of Rock, Paper, Scissors.\n",
    "    Player 1 (R/P/S): S\n",
    "    Player 2 (R/P/S): S\n",
    "    Tie!\n",
    "    Play again (Y/N)? Y\n",
    "\n",
    "    Welcome to a new round of Rock, Paper, Scissors.\n",
    "    Player 1 (R/P/S): S\n",
    "    Player 2 (R/P/S): P\n",
    "    Scissors beats Paper: Player 1 wins.\n",
    "    Play again (Y/N)? N\n",
    "\n",
    "If you want, you may use some Unicode symbols to enrich the output of the program, such as \"\\u26F0\", \"\\U0001F9FB\", \"\\u2702\", or the ones you prefer.\n",
    "\n",
    "Note that we understand this program is not very useful since Player 2 can always see what Player 1 chooses: please ignore this issue."
   ]
  },
  {
   "cell_type": "code",
   "execution_count": null,
   "id": "32e96a06-f7bd-4c04-9065-63be18244759",
   "metadata": {
    "deletable": false,
    "editable": true,
    "tags": [
     "exercise"
    ]
   },
   "outputs": [],
   "source": [
    "# Write the Python program here\n",
    "..."
   ]
  }
 ],
 "metadata": {
  "kernelspec": {
   "display_name": "Python 3 (ipykernel)",
   "language": "python",
   "name": "python3"
  },
  "language_info": {
   "codemirror_mode": {
    "name": "ipython",
    "version": 3
   },
   "file_extension": ".py",
   "mimetype": "text/x-python",
   "name": "python",
   "nbconvert_exporter": "python",
   "pygments_lexer": "ipython3",
   "version": "3.10.9"
  },
  "toc-autonumbering": false,
  "toc-showcode": true,
  "toc-showmarkdowntxt": true,
  "toc-showtags": true
 },
 "nbformat": 4,
 "nbformat_minor": 5
}

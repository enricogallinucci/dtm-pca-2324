{
 "cells": [
  {
   "cell_type": "markdown",
   "id": "60d2c302-1d4b-470d-94b2-6f455c4e4e1c",
   "metadata": {
    "deletable": false,
    "editable": true
   },
   "source": [
    "<img src=\"icons/header.png\">"
   ]
  },
  {
   "cell_type": "markdown",
   "id": "1ce8d48f-24ef-4db1-8dbf-406d0dd72d15",
   "metadata": {
    "deletable": false,
    "editable": true
   },
   "source": [
    "# Lab 3: Iterations and working with strings"
   ]
  },
  {
   "cell_type": "markdown",
   "id": "c5ae5e09-92b7-43eb-9b11-86513ce39423",
   "metadata": {
    "deletable": false,
    "editable": true,
    "tags": []
   },
   "source": [
    "Welcome to the third lab of the course. This lab covers:\n",
    "- Control flow with while and for loops\n",
    "- String slicing\n",
    "- Manipulating and comparing strings"
   ]
  },
  {
   "cell_type": "markdown",
   "id": "9a114ce5-d867-494d-9c86-92d32ae83469",
   "metadata": {
    "tags": []
   },
   "source": [
    "<img src=\"icons/problem.png\" style=\"float:left; margin-right: 20px; margin-top: 30px\">\n",
    "\n",
    "<br>\n",
    "\n",
    "## Exercise 1: For and while loops\n",
    "\n",
    "<p style=\"clear: both\" />\n",
    "\n",
    "### For\n",
    "\n",
    "- Print the square of all numbers from 1 to 5 (included) in the form \"The square of 1 is 1\"\n",
    "- Print the overall sum of all even numbers from 2 to 20 (included)\n",
    "- Ask the user for an input number $n$ and print all numbers from $n$ backwards to its square root (included); if the numbers to print are more than 20, stop and write \"There are too many numbers to print\"\n",
    "\n",
    "### While\n",
    "\n",
    "- Convert the last exercise for the for-cycle to a while-cycle\n",
    "- Ask the user for an input number $n$ and print the number of iterations required to make it <=10 by dividing it by 3\n",
    "- Write a countdown from 5 to 0 that, after the one, divides the previous number in half; stop it after 20 iterations!"
   ]
  },
  {
   "cell_type": "code",
   "execution_count": null,
   "id": "e2829f4f-5133-4997-b90d-f0c68d90cf08",
   "metadata": {},
   "outputs": [],
   "source": [
    "# FOR-1\n",
    "..."
   ]
  },
  {
   "cell_type": "code",
   "execution_count": null,
   "id": "4f628df6-1145-4476-b96c-3cc0fedd32df",
   "metadata": {},
   "outputs": [],
   "source": [
    "# FOR-2\n",
    "..."
   ]
  },
  {
   "cell_type": "code",
   "execution_count": null,
   "id": "b9be0562-22a4-4549-8fd3-62b310f9b25c",
   "metadata": {},
   "outputs": [],
   "source": [
    "# FOR-3\n",
    "..."
   ]
  },
  {
   "cell_type": "code",
   "execution_count": null,
   "id": "a5f23dbd-d238-4917-8f20-8beb43fad901",
   "metadata": {},
   "outputs": [],
   "source": [
    "# WHILE-1\n",
    "..."
   ]
  },
  {
   "cell_type": "code",
   "execution_count": null,
   "id": "329d5e59-452d-4d84-8df8-3087cb83041d",
   "metadata": {},
   "outputs": [],
   "source": [
    "# WHILE-2\n",
    "..."
   ]
  },
  {
   "cell_type": "code",
   "execution_count": null,
   "id": "aea66063-b360-4938-8bfd-a4935a368d2d",
   "metadata": {},
   "outputs": [],
   "source": [
    "# WHILE-3\n",
    "..."
   ]
  },
  {
   "cell_type": "markdown",
   "id": "bf1f33e8-b848-4b9e-ac72-1e0975f3e644",
   "metadata": {
    "tags": []
   },
   "source": [
    "<img src=\"icons/problem.png\" style=\"float:left; margin-right: 20px; margin-top: 30px\">\n",
    "\n",
    "<br>\n",
    "\n",
    "## Exercise 2: Fibonacci\n",
    "\n",
    "<p style=\"clear: both\" />\n",
    "\n",
    "Print all the Fibonacci numbers that are lower than 10000 (start from 0 and 1).\n",
    " - _Print them in a single line: \"0, 1, 1, 2, 3, 5, 8, ...\"_"
   ]
  },
  {
   "cell_type": "code",
   "execution_count": null,
   "id": "a8da6b79-8ff1-4c20-8d5c-088721cafcdd",
   "metadata": {},
   "outputs": [],
   "source": [
    "# Write your Python program here\n",
    "..."
   ]
  },
  {
   "cell_type": "markdown",
   "id": "e734e5bf-5653-4320-bf81-0cca87fadf22",
   "metadata": {
    "deletable": false,
    "editable": true,
    "tags": []
   },
   "source": [
    "<img src=\"icons/problem.png\" style=\"float:left; margin-right: 20px; margin-top: 30px\">\n",
    "\n",
    "<br>\n",
    "\n",
    "## Exercise 3: Are you a string slicing master?\n",
    "\n",
    "<p style=\"clear: both\" />\n",
    "\n",
    "String slicing in Pyton is a powerful tool for extracting substrings. It is very important to become proficient in using this functionality because, as we will see later, it is not limited to strings, but is used in many other data structures.  \n",
    "Running the next cell will start a game where you will be asked to find slicing expressions to produce specific substrings of the following string:\n",
    "- ```s = \"Winter is coming!\"```\n",
    "    \n",
    "For instance, if the substring is \"s com\", a correct answer is:\n",
    "- ```s[8:13]```\n",
    "    \n",
    "if the substring is \" enW\", a correct answer is:\n",
    "- ```s[6::-2]```\n",
    "\n",
    "To complete this exercise, you have to finish the game. Of course it is possible to try again if you want to improve your time!\n",
    "\n",
    "A suggestion for finding the correct answers more quickly is to write down on paper a table with the index of each character in the string (0: \"W\", 1: \"i\", 2: \"n\", 3: \"t\", ...)."
   ]
  },
  {
   "cell_type": "code",
   "execution_count": null,
   "id": "c3f79cb7-30c0-46c8-8f61-1606338bf3d7",
   "metadata": {
    "deletable": false,
    "editable": true
   },
   "outputs": [],
   "source": [
    "# Run this cell to start the game!\n",
    "import lab03utils\n",
    "lab03utils.string_slicing_game()"
   ]
  },
  {
   "cell_type": "markdown",
   "id": "95fb4e06-19b1-431f-9091-1074ad54185e",
   "metadata": {
    "deletable": false,
    "editable": true
   },
   "source": [
    "<img src=\"icons/problem.png\" style=\"float:left; margin-right: 20px; margin-top: 30px\">\n",
    "\n",
    "<br>\n",
    "\n",
    "## Exercise 4: Caesar's cipher\n",
    "<p style=\"clear: both\" />\n",
    "\n",
    "Caesar's cipher is one of the simplest *encryption* techniques. It is a *substitution cipher* in which each character is replaced by a character at a given number of positions down the alphabet. For instance, with a positive shift of 2, A would be replaced by C, B would become D, and so on.  \n",
    "\n",
    "Complete the following cell with a Python program that encrypts the string contained in variable *plaintext* using Caesar's cipher by shifting the Unicode characters by 7 positions: for instance, character 'A' (codepoint 65) should become character 'H' (codepoint 72). You can use Python functions ```ord()``` and ```chr()```, to get the codepoint of any unicode character and to get the character corresponding to a given codepoint, respectively.\n",
    "- ```chr('A')``` returns 65\n",
    "- ```ord(65)``` returns 'A'\n",
    "\n",
    "Note that in a real Cesar's cipher the alphabet is actually *rotated*: for instance, if the alphabet is \"A..Z\" and the shift is two positions, Z should become B. In this exercise you can ignore this issue, since the unicode range of characters is much larger than the ones contained in the string to be encrypted."
   ]
  },
  {
   "cell_type": "code",
   "execution_count": null,
   "id": "f5e26d94-12e1-4af0-981b-89ea30e8f4ba",
   "metadata": {
    "deletable": false,
    "editable": true,
    "tags": [
     "exercise"
    ]
   },
   "outputs": [],
   "source": [
    "# The text to be encrypted\n",
    "plaintext = \"And so he spoke, and so he spoke, that lord of Castamere, But now the rains weep o'er his hall, with no one there to hear.\"\n",
    "\n",
    "# The encrypted text\n",
    "ciphertext = \"\"\n",
    "\n",
    "# Write the encryption program here\n",
    "...\n",
    "\n",
    "print(\"The encrypted text is:\", ciphertext)"
   ]
  },
  {
   "cell_type": "markdown",
   "id": "80748c0c-39bd-4602-a9e5-441c25d844b5",
   "metadata": {
    "deletable": false,
    "editable": true,
    "tags": []
   },
   "source": [
    "<img src=\"icons/check.png\" style=\"float:left; margin-right: 10px;\">\n",
    "\n",
    "<br>\n",
    "\n",
    "Run the following cell to check if the encrypted text is correct."
   ]
  },
  {
   "cell_type": "code",
   "execution_count": null,
   "id": "eda39e59-18ea-41c1-8254-585fa146deec",
   "metadata": {
    "deletable": false,
    "editable": true,
    "tags": []
   },
   "outputs": [],
   "source": [
    "lab03utils.test_es_3(globals())"
   ]
  },
  {
   "cell_type": "markdown",
   "id": "ab9f5ca1-43c7-49d4-b4e9-e8f53968cc6a",
   "metadata": {
    "deletable": false,
    "editable": true,
    "tags": []
   },
   "source": [
    "<img src=\"icons/problem.png\" style=\"float:left; margin-right: 20px; margin-top: 30px\">\n",
    "\n",
    "<br>\n",
    "\n",
    "## Exercise 5: Breaking Caesar's cipher\n",
    "<p style=\"clear: both\" />\n",
    "\n",
    "You obtained a secret message encrypted with Caesar's cipher. \n",
    "You don't know how many positions the characters have been moved by, but you know it's a value between -15 and + 15.  \n",
    "Write a Python program that implements a [brute force](https://en.wikipedia.org/wiki/Brute-force_attack) (exhausitve enumeration) method to decrypt the message."
   ]
  },
  {
   "cell_type": "code",
   "execution_count": null,
   "id": "e300f905-fc58-44c4-af41-d7e2d956fd22",
   "metadata": {
    "deletable": false,
    "editable": true,
    "tags": [
     "exercise"
    ]
   },
   "outputs": [],
   "source": [
    "# The text to be encrypted\n",
    "encrypted_message = \"Li#zh#fdq*w#olyh#wrjhwkhu/#zh*uh#jrqqd#glh#dorqh\"\n",
    "\n",
    "# Write your hacking program here\n",
    "..."
   ]
  },
  {
   "cell_type": "markdown",
   "id": "db87c91b-69c1-49f2-b92f-964888654a66",
   "metadata": {
    "deletable": false,
    "editable": true,
    "tags": []
   },
   "source": [
    "<img src=\"icons/problem.png\" style=\"float:left; margin-right: 20px; margin-top: 30px\">\n",
    "\n",
    "<br>\n",
    "\n",
    "## (Extra) Exercise 6: Rock Paper Scissors\n",
    "\n",
    "<p style=\"clear: both\" />\n",
    "\n",
    "Write a Python program that enables two users to play the [*Rock Paper Scissors*](https://en.wikipedia.org/wiki/Rock_paper_scissors) game.  \n",
    "Each player will enter either \"R\" for rock, \"P\" for paper, or \"S\" for scissors: the program should announce the winner and ask if the players want to play another round (expected answer: \"Y\" for yes, or \"N\" for no).\n",
    "\n",
    "*Example:*\n",
    "\n",
    "    Welcome to a new round of Rock, Paper, Scissors.\n",
    "    Player 1 (R/P/S): R\n",
    "    Player 2 (R/P/S): X\n",
    "    Please enter \"R\", \"P\", or \"S\"\n",
    "    Player 2 (R/P/S): P\n",
    "    Paper beats Rock: Player 2 wins.\n",
    "    Play again (Y/N)? Y\n",
    "\n",
    "    Welcome to a new round of Rock, Paper, Scissors.\n",
    "    Player 1 (R/P/S): S\n",
    "    Player 2 (R/P/S): S\n",
    "    Tie!\n",
    "    Play again (Y/N)? Y\n",
    "\n",
    "    Welcome to a new round of Rock, Paper, Scissors.\n",
    "    Player 1 (R/P/S): S\n",
    "    Player 2 (R/P/S): P\n",
    "    Scissors beats Paper: Player 1 wins.\n",
    "    Play again (Y/N)? N\n",
    "\n",
    "If you want, you may use some Unicode symbols to enrich the output of the program, such as \"\\u26F0\", \"\\U0001F9FB\", \"\\u2702\", or the ones you prefer.\n",
    "\n",
    "Note that we understand this program is not very useful since Player 2 can always see what Player 1 chooses: please ignore this issue."
   ]
  },
  {
   "cell_type": "code",
   "execution_count": null,
   "id": "32e96a06-f7bd-4c04-9065-63be18244759",
   "metadata": {
    "deletable": false,
    "editable": true,
    "tags": [
     "exercise"
    ]
   },
   "outputs": [],
   "source": [
    "# Write the Python program here\n",
    "..."
   ]
  },
  {
   "cell_type": "markdown",
   "id": "873c794b-11fa-49d3-9692-094593ff4167",
   "metadata": {},
   "source": [
    "<img src=\"icons/problem.png\" style=\"float:left; margin-right: 20px; margin-top: 30px\">\n",
    "\n",
    "<br>\n",
    "\n",
    "## (Extra) Exercise 7: The maze\n",
    "<p style=\"clear: both\" />\n",
    "\n",
    "In this exercise a Python module will be loaded: it contains a set of functions to create, display, and interact with a maze.  \n",
    "Complete all the steps described in the cells below."
   ]
  },
  {
   "cell_type": "code",
   "execution_count": null,
   "id": "1b8eac28-7432-4c79-89c3-569df2d4be73",
   "metadata": {},
   "outputs": [],
   "source": [
    "# Running the following Python code makes available a set of functions to create a maze and interact with it.\n",
    "# Note: importing Python modules will be explained later in the course, for now just run this cell and have faith that it works.\n",
    "from lab02utils import *"
   ]
  },
  {
   "cell_type": "code",
   "execution_count": null,
   "id": "f10e502a-86b0-43cf-9f9e-9cfc1ef898ec",
   "metadata": {},
   "outputs": [],
   "source": [
    "# The following Python function will create the maze and display it in the notebook just below this cell.\n",
    "start_maze()"
   ]
  },
  {
   "cell_type": "markdown",
   "id": "c03a4a62-a453-4944-bfb4-b0a6464eea5d",
   "metadata": {},
   "source": [
    "### Setup the window layout\n",
    "\n",
    "In the next exercises it will be important to see the maze and at the same time be able to scroll down the notebook, in order to read and edit the cells below. Arrange your JupyterLab layout as follows:\n",
    "- Create a new view of this notebook (or, if you prefer, create a view only for the output of the above cell, using the appropriate command);\n",
    "- Scroll and resize the new view so that you can see the maze at the right side of your screen and you can use the other view on the left to scroll down to work on the other cells.\n",
    "\n",
    "Your layout should look similar to this one:\n",
    "\n",
    "<img src=\"images/sample_layout.png\" style=\"margin-top: 30px\">\n"
   ]
  },
  {
   "cell_type": "markdown",
   "id": "5741ccd0-6e6b-4455-854f-ee2e9017f194",
   "metadata": {},
   "source": [
    "### Moving the hero\n",
    "\n",
    "In the next cell, test the following functions:  \n",
    "- ```hero_rotate_left()``` - The hero turns to the left\n",
    "- ```hero_rotate_right()``` - The hero turns to the right\n",
    "- ```hero_move()``` - The hero attempts to move forward: returns True if the movement was succesfull, otherwise False.\n",
    "    \n",
    "In particular, check the return value of ```hero_move()``` in the two cases (when he can move forward and when he can't).  \n",
    "If you want to move the hero back to the initial position, you can just run the previous code cell again (the one that calls ```start_maze()```)."
   ]
  },
  {
   "cell_type": "code",
   "execution_count": null,
   "id": "ce094999-1cba-44af-91b7-c6585a64b568",
   "metadata": {},
   "outputs": [],
   "source": [
    "# Write a Python program to test the three above functions\n",
    "..."
   ]
  },
  {
   "cell_type": "markdown",
   "id": "ac80b526-dafe-4d3d-854e-0688924969ba",
   "metadata": {},
   "source": [
    "### Solve the maze\n",
    "\n",
    "Write a Python program to help the hero find the exit of the maze. Your program should implement the *Wall follower* algorithm (see https://en.wikipedia.org/wiki/Maze-solving_algorithm#Wall_follower), using the *left-hand rule* or the *right-hand rule*. For instance, the left-hand rule can be summarized as follows: if there is no wall at the left, then rotate left and move forward; otherwise if there is a wall in front, then rotate right, otherwise move forward.  \n",
    "\n",
    "Some of the following functions can be used, together with the ones already mentioned, to write your program:\n",
    "- ```wall_in_front()``` - True if there is a wall in front of the hero.\n",
    "- ```wall_at_right()``` - True if there is a wall on the right of the hero.\n",
    "- ```wall_at_left()``` - True if there is a wall on the left of the hero.\n",
    "- ```maze_solved()``` - True if there hero finally exited the maze.\n",
    "    \n",
    "_Suggestion: in case your program enters an infinite loop, or you want to terminate it in advance, the command \"Interrupt Kernel\" can come in handy._"
   ]
  },
  {
   "cell_type": "code",
   "execution_count": null,
   "id": "68dae7de-9b2e-45ae-936f-f22f8acf54e0",
   "metadata": {},
   "outputs": [],
   "source": [
    "# Write your Python program here\n",
    "..."
   ]
  }
 ],
 "metadata": {
  "kernelspec": {
   "display_name": "Python 3 (ipykernel)",
   "language": "python",
   "name": "python3"
  },
  "language_info": {
   "codemirror_mode": {
    "name": "ipython",
    "version": 3
   },
   "file_extension": ".py",
   "mimetype": "text/x-python",
   "name": "python",
   "nbconvert_exporter": "python",
   "pygments_lexer": "ipython3",
   "version": "3.11.4"
  },
  "toc-autonumbering": false,
  "toc-showcode": true,
  "toc-showmarkdowntxt": true,
  "toc-showtags": true
 },
 "nbformat": 4,
 "nbformat_minor": 5
}

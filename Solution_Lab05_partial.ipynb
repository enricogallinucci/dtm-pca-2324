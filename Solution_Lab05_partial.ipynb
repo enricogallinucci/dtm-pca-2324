{
 "cells": [
  {
   "cell_type": "markdown",
   "id": "134e6ce3",
   "metadata": {
    "deletable": true,
    "editable": true
   },
   "source": [
    "<img src=\"icons/header.png\">"
   ]
  },
  {
   "cell_type": "markdown",
   "id": "c6ba906d",
   "metadata": {
    "deletable": true,
    "editable": true
   },
   "source": [
    "# Lab 5: Data structures"
   ]
  },
  {
   "cell_type": "markdown",
   "id": "732f34fe",
   "metadata": {
    "deletable": true,
    "editable": true,
    "tags": []
   },
   "source": [
    "Welcome to the fifth lab of the course. This lab covers:\n",
    "- Working with lists and tuples\n",
    "- Working with sets and dictionaries"
   ]
  },
  {
   "cell_type": "markdown",
   "id": "2f3256ae",
   "metadata": {
    "deletable": true,
    "editable": true,
    "tags": []
   },
   "source": [
    "<img src=\"icons/problem.png\" style=\"float:left; margin-right: 20px; margin-top: 30px\">\n",
    "\n",
    "<br>\n",
    "\n",
    "## Exercise 1: Tuple basics\n",
    "\n",
    "<p style=\"clear: both\" />\n",
    "\n",
    "In the following cell, some tuples have been created for you. Write and test the following functions:\n",
    "- 'printTupleElements(t)' to iterate over the elements of 't' and print each of them\n",
    "- 'intersectTuples(t1,t2)' to return the intersection of two tuples\n",
    "- 'unionTuples(t1,t2)' to return the union of two tuples\n",
    "- 'deleteFromTuple(t,n)' to return a tuple without the n-th element (0-based)"
   ]
  },
  {
   "cell_type": "code",
   "execution_count": null,
   "id": "a4acc2a0-8941-495c-bb32-0cd6748f3a39",
   "metadata": {
    "tags": []
   },
   "outputs": [],
   "source": [
    "t1 = ('a','b','c')\n",
    "t2 = ('d','c','b')\n",
    "\n",
    "def printTupleElements(t):\n",
    "    for el in t:\n",
    "        print(el)\n",
    "\n",
    "def intersectTuples(t1,t2):\n",
    "    t3 = ()\n",
    "    for el in t1:\n",
    "        if(el in t2):\n",
    "            t3 = t3 + (el,)\n",
    "    return t3\n",
    "\n",
    "def unionTuples(t1,t2):\n",
    "    t3 = ()\n",
    "    for el in t1:\n",
    "        t3 = t3 + (el,)\n",
    "    for el in t2:\n",
    "        if(el not in t3):\n",
    "            t3 = t3 + (el,)\n",
    "    return t3\n",
    "    \n",
    "def deleteFromTuple(t,n):\n",
    "    i = 0\n",
    "    t3 = ()\n",
    "    for i in range(len(t)):\n",
    "        if(i!=n):\n",
    "            t3 = t3 + (t[i],)\n",
    "    return t3"
   ]
  },
  {
   "cell_type": "code",
   "execution_count": null,
   "id": "f258f8aa-1857-4d57-a7b7-8cb12146db6c",
   "metadata": {
    "tags": []
   },
   "outputs": [],
   "source": [
    "printTupleElements(t1)"
   ]
  },
  {
   "cell_type": "code",
   "execution_count": null,
   "id": "49cad0f9-78ac-4a1b-9923-a9ce3b989d40",
   "metadata": {
    "tags": []
   },
   "outputs": [],
   "source": [
    "printTupleElements(t2)"
   ]
  },
  {
   "cell_type": "code",
   "execution_count": null,
   "id": "b63595a1-a3f3-468f-a3c8-004764e39254",
   "metadata": {
    "tags": []
   },
   "outputs": [],
   "source": [
    "intersectTuples(t1,t2)"
   ]
  },
  {
   "cell_type": "code",
   "execution_count": null,
   "id": "95c8726d-9501-4eb4-b77b-c720e0e5e669",
   "metadata": {
    "tags": []
   },
   "outputs": [],
   "source": [
    "unionTuples(t1,t2)"
   ]
  },
  {
   "cell_type": "code",
   "execution_count": null,
   "id": "ef9c3592-aed7-4525-9a7c-b7f9ae9fbfe0",
   "metadata": {
    "tags": []
   },
   "outputs": [],
   "source": [
    "deleteFromTuple(t1,0)"
   ]
  },
  {
   "cell_type": "code",
   "execution_count": null,
   "id": "013e750a-96d6-4865-a367-9dd998797490",
   "metadata": {
    "tags": []
   },
   "outputs": [],
   "source": [
    "deleteFromTuple(t1,2)"
   ]
  },
  {
   "cell_type": "markdown",
   "id": "feeb7e50-44da-4ce7-8d2f-98f0cfe316e6",
   "metadata": {},
   "source": [
    "## New exercises\n",
    "\n",
    "Define the union and the intersection on a variable number of tuples"
   ]
  },
  {
   "cell_type": "code",
   "execution_count": null,
   "id": "55f0e183-e421-4197-9a84-34a07ee49d05",
   "metadata": {},
   "outputs": [],
   "source": [
    "def unionTuples(*tuples):\n",
    "    # Initialize the result to empty\n",
    "    newTuple = ()\n",
    "    # Iterate on all the tuples in input\n",
    "    for t in tuples:\n",
    "        # Iterate on all the elements of the current tuple t\n",
    "        for el in t:\n",
    "            # If the current element el does not exists in the result, add it\n",
    "            if (el not in newTuple):\n",
    "                newTuple = newTuple + (el,)\n",
    "    return newTuple"
   ]
  },
  {
   "cell_type": "code",
   "execution_count": null,
   "id": "1e8c427b-2a77-48e1-899e-bb178eaa4666",
   "metadata": {},
   "outputs": [],
   "source": [
    "def intersectTuples(*tuples):\n",
    "    # Initialize the result to empty\n",
    "    newTuple = ()\n",
    "    # Iterate on all the elements of the first tuple\n",
    "    for el in tuples[0]:\n",
    "        # Check if the element exists in every other tuple\n",
    "        # Initialize the boolean variable 'existsInAll' to True\n",
    "        #   and put it to False if the element is not found in (at least) one tuple;\n",
    "        #   in the end, add the element to the reuslt only if 'existsInAll' is still True\n",
    "        existsInAll = True\n",
    "        for t in tuples:\n",
    "            if el not in t:\n",
    "                existsInAll = False\n",
    "        if existsInAll:\n",
    "            newTuple += (el,)\n",
    "    return newTuple"
   ]
  },
  {
   "cell_type": "markdown",
   "id": "e4da566c-53af-4c5b-83a9-7e52860a9d75",
   "metadata": {
    "editable": true,
    "tags": []
   },
   "source": [
    "<img src=\"icons/problem.png\" style=\"float:left; margin-right: 20px; margin-top: 30px\">\n",
    "\n",
    "<br>\n",
    "\n",
    "## Exercise 2: List basics\n",
    "\n",
    "<p style=\"clear: both\" />\n",
    "\n",
    "In the following cell, some lists have been created for you. Write and test the following functions:\n",
    "- 'printListElements(l)' to iterate over the elements of 'l' and print each of them\n",
    "- 'intersectLists(l1,l2)' to return the intersection of two lists\n",
    "- 'unionLists(l1,l2)' to return the union of two lists\n",
    "- 'deleteFromList(l,n)' to return a list without the n-th element (0-based)"
   ]
  },
  {
   "cell_type": "code",
   "execution_count": null,
   "id": "3bc31d97-9edb-44bb-84d3-207ed9cf0313",
   "metadata": {
    "tags": []
   },
   "outputs": [],
   "source": [
    "l1 = ['a','b','c']\n",
    "l2 = ['d','c','b']\n",
    "\n",
    "def printListElements(l):\n",
    "    for el in l:\n",
    "        print(el)\n",
    "\n",
    "def intersectLists(l1,l2):\n",
    "    l3 = []\n",
    "    for el in l1:\n",
    "        if(el in l2):\n",
    "            l3.append(el)\n",
    "    return l3\n",
    "\n",
    "def unionLists(l1,l2):\n",
    "    l3 = l1[:]\n",
    "    for el in l2:\n",
    "        if(el not in l3):\n",
    "            l3.extend(el)\n",
    "    return l3\n",
    "\n",
    "# returns a new list\n",
    "def deleteFromList(l,n):\n",
    "    l_new = l[:]\n",
    "    del(l_new[n])\n",
    "    return l_new\n",
    "\n",
    "# mutates the list given in input\n",
    "def deleteFromList_mutable(l,n):\n",
    "    del(l[n])"
   ]
  },
  {
   "cell_type": "code",
   "execution_count": null,
   "id": "fef5850e-5b3e-45e8-b7a6-0508bc9a400c",
   "metadata": {
    "tags": []
   },
   "outputs": [],
   "source": [
    "printListElements(l1)"
   ]
  },
  {
   "cell_type": "code",
   "execution_count": null,
   "id": "3013897e-0a12-4662-8d88-549a4856d30d",
   "metadata": {
    "tags": []
   },
   "outputs": [],
   "source": [
    "printListElements(l2)"
   ]
  },
  {
   "cell_type": "code",
   "execution_count": null,
   "id": "72633f47-44de-484b-a716-0365242aa95a",
   "metadata": {
    "tags": []
   },
   "outputs": [],
   "source": [
    "intersectLists(l1,l2)"
   ]
  },
  {
   "cell_type": "code",
   "execution_count": null,
   "id": "062c668f-3c42-4610-9252-4cef318b40d6",
   "metadata": {
    "tags": []
   },
   "outputs": [],
   "source": [
    "unionLists(l1,l2)"
   ]
  },
  {
   "cell_type": "code",
   "execution_count": null,
   "id": "354c0ca4-be20-422c-a290-1ceb98a1d566",
   "metadata": {
    "tags": []
   },
   "outputs": [],
   "source": [
    "deleteFromList(l1,0)"
   ]
  },
  {
   "cell_type": "code",
   "execution_count": null,
   "id": "6912f2e1-9d37-4329-b205-d6ffc7dae857",
   "metadata": {
    "tags": []
   },
   "outputs": [],
   "source": [
    "deleteFromList(l1,2)"
   ]
  },
  {
   "cell_type": "code",
   "execution_count": null,
   "id": "15931e73-6bc9-49d9-adc8-d46de9b1d036",
   "metadata": {
    "tags": []
   },
   "outputs": [],
   "source": [
    "deleteFromList_mutable(l1,0)\n",
    "print(l1)"
   ]
  },
  {
   "cell_type": "markdown",
   "id": "bec88b39-b22d-4cef-a353-66fe9fa7083c",
   "metadata": {
    "editable": true,
    "tags": []
   },
   "source": [
    "<img src=\"icons/problem.png\" style=\"float:left; margin-right: 20px; margin-top: 30px\">\n",
    "\n",
    "<br>\n",
    "\n",
    "## Exercise 3: Set basics\n",
    "\n",
    "<p style=\"clear: both\" />\n",
    "\n",
    "In the following cell, some sets have been created for you. Write and test the following functions:\n",
    "- 'printSetElements(s)' to iterate over the elements of 's' and print each of them\n",
    "- 'intersectSets(s1,s2)' to return the intersection of two sets\n",
    "- 'unionSets(s1,s2)' to return the union of two sets\n",
    "- 'deleteFromSet(s,el)' to return a set without the 'el' element"
   ]
  },
  {
   "cell_type": "code",
   "execution_count": null,
   "id": "9a858f89-3b70-48aa-9fc4-fa16515c3b23",
   "metadata": {
    "tags": []
   },
   "outputs": [],
   "source": [
    "s1 = {'a','b','c'}\n",
    "s2 = {'d','c','b'}\n",
    "\n",
    "def printSetElements(s):\n",
    "    for el in s:\n",
    "        print(el)\n",
    "\n",
    "def intersectSets(s1,s2):\n",
    "    return s1 & s2\n",
    "\n",
    "def unionSets(s1,s2):\n",
    "    return s1 | s2\n",
    "\n",
    "# returns a new set:\n",
    "def deleteFromSet(s,el):\n",
    "    s_new = set()\n",
    "    for it in s:\n",
    "        if it != el:\n",
    "            s_new.add(it)\n",
    "    return s_new\n",
    "\n",
    "# mutates the set given in input\n",
    "def deleteFromSet_mutable(s,el):\n",
    "    s.remove(el)"
   ]
  },
  {
   "cell_type": "code",
   "execution_count": null,
   "id": "ba6d3d8b-0ddf-436d-b4fa-4b8354dd2fd3",
   "metadata": {
    "tags": []
   },
   "outputs": [],
   "source": [
    "printSetElements(s1)"
   ]
  },
  {
   "cell_type": "code",
   "execution_count": null,
   "id": "2eb62565-53ca-415f-aa2b-b5c9f0940f08",
   "metadata": {
    "tags": []
   },
   "outputs": [],
   "source": [
    "printSetElements(s2)"
   ]
  },
  {
   "cell_type": "code",
   "execution_count": null,
   "id": "5bf7bea5-b519-421b-99a5-aa57fbebe3cd",
   "metadata": {
    "tags": []
   },
   "outputs": [],
   "source": [
    "intersectSets(s1,s2)"
   ]
  },
  {
   "cell_type": "code",
   "execution_count": null,
   "id": "c188dc1d-799a-4786-babb-d79f01a90708",
   "metadata": {
    "tags": []
   },
   "outputs": [],
   "source": [
    "unionSets(s1,s2)"
   ]
  },
  {
   "cell_type": "code",
   "execution_count": null,
   "id": "0b92c333-1ed9-45f6-8f25-20e0e81b430c",
   "metadata": {
    "tags": []
   },
   "outputs": [],
   "source": [
    "deleteFromSet(s1,'a')"
   ]
  },
  {
   "cell_type": "code",
   "execution_count": null,
   "id": "152b2d07-c0fb-4c9c-b7c7-d145c67f9c4c",
   "metadata": {
    "tags": []
   },
   "outputs": [],
   "source": [
    "deleteFromSet_mutable(s1,'a')\n",
    "print(s1)"
   ]
  },
  {
   "cell_type": "markdown",
   "id": "4920efbb-52ee-43a6-aa23-8402ee654d7c",
   "metadata": {
    "editable": true,
    "tags": []
   },
   "source": [
    "<img src=\"icons/problem.png\" style=\"float:left; margin-right: 20px; margin-top: 30px\">\n",
    "\n",
    "<br>\n",
    "\n",
    "## Exercise 4: Dictionary basics\n",
    "\n",
    "<p style=\"clear: both\" />\n",
    "\n",
    "In the following cell, some dictionaries have been created for you. Write and test the following functions:\n",
    "- 'printDictElements(d)' to iterate over the elements of 'd' and print each of them\n",
    "- 'intersectDicts(d1,d2)' to return a dictionary containing only the keys that appear in both input dictionaries (the value must be the sum of the values on the input dictionaries);\n",
    "- 'unionDicts(d1,d2)' to return dictionary containing all keys appearing in the two input dictionaries (as above, for common keys, the value must be the sum of the values on the input dictionaries);\n",
    "- 'deleteFromDict(d,k)' to return a dictionary without the element with key 'k'"
   ]
  },
  {
   "cell_type": "code",
   "execution_count": null,
   "id": "bbfad72d-b0cf-41eb-84e3-4797e6b7c919",
   "metadata": {
    "tags": []
   },
   "outputs": [],
   "source": [
    "d1 = {'a':1,'b':2,'c':3}\n",
    "d2 = {'d':4,'c':5,'b':6}\n",
    "\n",
    "def printDictElements(d):\n",
    "    for el in d:\n",
    "        print(el)\n",
    "\n",
    "def intersectDicts(d1,d2):\n",
    "    d3 = {}\n",
    "    for k in d1.keys():\n",
    "        if k in d2.keys():\n",
    "            d3[k] = d1[k] + d2[k]\n",
    "    return d3\n",
    "\n",
    "def unionDicts(d1,d2):\n",
    "    d3 = {}\n",
    "    for k in d1.keys():\n",
    "        if k in d2.keys():\n",
    "            d3[k] = d1[k] + d2[k]\n",
    "        else:\n",
    "            d3[k] = d1[k]  \n",
    "    for k in d2.keys():\n",
    "        if k not in d1.keys():\n",
    "            d3[k] = d2[k]  \n",
    "    return d3\n",
    "\n",
    "# returns a new dict:\n",
    "def deleteFromDict(d,k):\n",
    "    d_new = {}\n",
    "    for j in d.keys():\n",
    "        if j != k:\n",
    "            d_new[j] = d[j]\n",
    "    return d_new\n",
    "\n",
    "# mutates the dict given in input\n",
    "def deleteFromDict_mutable(d,k):\n",
    "    del(d[k])"
   ]
  },
  {
   "cell_type": "code",
   "execution_count": null,
   "id": "8a3e0a3b-e181-4baa-9a91-401ee3fc1094",
   "metadata": {
    "tags": []
   },
   "outputs": [],
   "source": [
    "printDictElements(d1)"
   ]
  },
  {
   "cell_type": "code",
   "execution_count": null,
   "id": "0c824f73-9bf9-4ea6-8e43-b2cd8616c1ec",
   "metadata": {
    "tags": []
   },
   "outputs": [],
   "source": [
    "printDictElements(d2)"
   ]
  },
  {
   "cell_type": "code",
   "execution_count": null,
   "id": "c1efc252-f85b-4b99-8565-d937e9fe5d0a",
   "metadata": {
    "tags": []
   },
   "outputs": [],
   "source": [
    "intersectDicts(d1,d2)"
   ]
  },
  {
   "cell_type": "code",
   "execution_count": null,
   "id": "ab60721e-1e2e-4393-b05e-3fa7d7c4fa1c",
   "metadata": {
    "tags": []
   },
   "outputs": [],
   "source": [
    "unionDicts(d1,d2)"
   ]
  },
  {
   "cell_type": "code",
   "execution_count": null,
   "id": "514646a5-2ea2-4fbc-9d2c-b9ad96429b32",
   "metadata": {
    "tags": []
   },
   "outputs": [],
   "source": [
    "deleteFromDict(d1,'a')"
   ]
  },
  {
   "cell_type": "code",
   "execution_count": null,
   "id": "54bb2174-475d-4e39-817f-267fef920b70",
   "metadata": {
    "tags": []
   },
   "outputs": [],
   "source": [
    "deleteFromDict_mutable(d1,'a')\n",
    "print(d1)"
   ]
  },
  {
   "cell_type": "markdown",
   "id": "c45218ff-7dc5-43fa-844c-afc48f51e07a",
   "metadata": {
    "editable": true,
    "tags": []
   },
   "source": [
    "<img src=\"icons/problem.png\" style=\"float:left; margin-right: 20px; margin-top: 30px\">\n",
    "\n",
    "<br>\n",
    "\n",
    "## Exercise 5: A list in the menu\n",
    "\n",
    "<p style=\"clear: both\" />\n",
    "\n",
    "Take a look at this program, implementing a restaurant menu without using data structures and loops: the code is long and repetitive (thus difficult to read and to maintain).\n",
    "\n",
    "Test the Python program in the following cell, then improve it by using a list to store the name of the dishes and loops where appropriate. Remember that while the index of the first menu item is 1, Python lists start from 0."
   ]
  },
  {
   "cell_type": "code",
   "execution_count": null,
   "id": "18c576f5",
   "metadata": {
    "deletable": true,
    "editable": true,
    "tags": []
   },
   "outputs": [],
   "source": [
    "# Copy this program to a new cell and improve it using a list and loops\n",
    "\n",
    "d1 = \"Garlic Bread with olive oil\"\n",
    "d2 = \"Pappardelle pasta with wild boar sauce\"\n",
    "d3 = \"Barbecued T-bone steak\"\n",
    "d4 = \"Roast potatoes with rosemary\"\n",
    "d5 = \"Grandmother's Cake\"\n",
    "\n",
    "print(\"*** Menu ***\")\n",
    "print(\"1.\", d1)\n",
    "print(\"2.\", d2)\n",
    "print(\"3.\", d3)\n",
    "print(\"4.\", d4)\n",
    "print(\"5.\", d5)\n",
    "\n",
    "order = int(input(\"Which number would you like to order?\"))\n",
    "if order == 1:\n",
    "    print(\"One \" + d1 + \" coming!\")\n",
    "elif order == 2:\n",
    "    print(\"One \" + d2 + \" coming!\")\n",
    "elif order == 3:\n",
    "    print(\"One \" + d3 + \" coming!\")\n",
    "elif order == 4:\n",
    "    print(\"One \" + d4 + \" coming!\")\n",
    "elif order == 5:\n",
    "    print(\"One \" + d5 + \" coming!\")\n",
    "else:\n",
    "    print(\"Sorry, not a valid choice.\")    "
   ]
  },
  {
   "cell_type": "code",
   "execution_count": null,
   "id": "f57f2cc3",
   "metadata": {
    "deletable": true,
    "editable": true,
    "tags": [
     "exercise"
    ]
   },
   "outputs": [],
   "source": [
    "dishes = [\"Garlic Bread with olive oil\",\n",
    "          \"Pappardelle pasta with wild boar sauce\",\n",
    "          \"Barbecued T-bone steak\",\n",
    "          \"Roast potatoes with rosemary\",\n",
    "          \"Grandmother's Cake\"]\n",
    "\n",
    "print(\"*** Menu ***\")         \n",
    "for i in range(len(dishes)):  \n",
    "    print(\"Continue here!\")"
   ]
  }
 ],
 "metadata": {
  "kernelspec": {
   "display_name": "Python 3 (ipykernel)",
   "language": "python",
   "name": "python3"
  },
  "language_info": {
   "codemirror_mode": {
    "name": "ipython",
    "version": 3
   },
   "file_extension": ".py",
   "mimetype": "text/x-python",
   "name": "python",
   "nbconvert_exporter": "python",
   "pygments_lexer": "ipython3",
   "version": "3.10.9"
  },
  "toc-autonumbering": false,
  "toc-showcode": true,
  "toc-showmarkdowntxt": true,
  "toc-showtags": true
 },
 "nbformat": 4,
 "nbformat_minor": 5
}

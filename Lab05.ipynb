{
 "cells": [
  {
   "cell_type": "markdown",
   "id": "134e6ce3",
   "metadata": {
    "deletable": true,
    "editable": true
   },
   "source": [
    "<img src=\"icons/header.png\">"
   ]
  },
  {
   "cell_type": "markdown",
   "id": "c6ba906d",
   "metadata": {
    "deletable": true,
    "editable": true
   },
   "source": [
    "# Lab 5: Data structures"
   ]
  },
  {
   "cell_type": "markdown",
   "id": "732f34fe",
   "metadata": {
    "deletable": true,
    "editable": true,
    "tags": []
   },
   "source": [
    "Welcome to the fifth lab of the course. This lab covers:\n",
    "- Working with lists and tuples\n",
    "- Working with sets and dictionaries"
   ]
  },
  {
   "cell_type": "markdown",
   "id": "2f3256ae",
   "metadata": {
    "deletable": true,
    "editable": true,
    "tags": []
   },
   "source": [
    "<img src=\"icons/problem.png\" style=\"float:left; margin-right: 20px; margin-top: 30px\">\n",
    "\n",
    "<br>\n",
    "\n",
    "## Exercise 1: Tuple basics\n",
    "\n",
    "<p style=\"clear: both\" />\n",
    "\n",
    "In the following cell, some tuples have been created for you. Write and test the following functions:\n",
    "- 'printTupleElements(t)' to iterate over the elements of 't' and print each of them\n",
    "- 'intersectTuples(t1,t2)' to return the intersection of two tuples\n",
    "- 'unionTuples(t1,t2)' to return the union of two tuples\n",
    "- 'deleteFromTuple(t,n)' to return a tuple without the n-th element (0-based)"
   ]
  },
  {
   "cell_type": "code",
   "execution_count": null,
   "id": "a4acc2a0-8941-495c-bb32-0cd6748f3a39",
   "metadata": {},
   "outputs": [],
   "source": [
    "t1 = ('a','b','c')\n",
    "t2 = ('d','c','b')\n",
    "\n",
    "# Write the Python functions here\n",
    "..."
   ]
  },
  {
   "cell_type": "markdown",
   "id": "e4da566c-53af-4c5b-83a9-7e52860a9d75",
   "metadata": {
    "editable": true,
    "tags": []
   },
   "source": [
    "<img src=\"icons/problem.png\" style=\"float:left; margin-right: 20px; margin-top: 30px\">\n",
    "\n",
    "<br>\n",
    "\n",
    "## Exercise 2: List basics\n",
    "\n",
    "<p style=\"clear: both\" />\n",
    "\n",
    "In the following cell, some lists have been created for you. Write and test the following functions:\n",
    "- 'printListElements(l)' to iterate over the elements of 'l' and print each of them\n",
    "- 'intersectLists(l1,l2)' to return the intersection of two lists\n",
    "- 'unionLists(l1,l2)' to return the union of two lists\n",
    "- 'deleteFromList(l,n)' to return a list without the n-th element (0-based)"
   ]
  },
  {
   "cell_type": "code",
   "execution_count": null,
   "id": "3bc31d97-9edb-44bb-84d3-207ed9cf0313",
   "metadata": {},
   "outputs": [],
   "source": [
    "l1 = ['a','b','c']\n",
    "l2 = ['d','c','b']\n",
    "\n",
    "# Write the Python functions here\n",
    "..."
   ]
  },
  {
   "cell_type": "markdown",
   "id": "bec88b39-b22d-4cef-a353-66fe9fa7083c",
   "metadata": {
    "editable": true,
    "tags": []
   },
   "source": [
    "<img src=\"icons/problem.png\" style=\"float:left; margin-right: 20px; margin-top: 30px\">\n",
    "\n",
    "<br>\n",
    "\n",
    "## Exercise 3: Set basics\n",
    "\n",
    "<p style=\"clear: both\" />\n",
    "\n",
    "In the following cell, some sets have been created for you. Write and test the following functions:\n",
    "- 'printSetElements(s)' to iterate over the elements of 's' and print each of them\n",
    "- 'intersectSets(s1,s2)' to return the intersection of two sets\n",
    "- 'unionSets(s1,s2)' to return the union of two sets\n",
    "- 'deleteFromSet(s,el)' to return a set without the 'el' element"
   ]
  },
  {
   "cell_type": "code",
   "execution_count": null,
   "id": "9a858f89-3b70-48aa-9fc4-fa16515c3b23",
   "metadata": {},
   "outputs": [],
   "source": [
    "s1 = {'a','b','c'}\n",
    "s2 = {'d','c','b'}\n",
    "\n",
    "# Write the Python functions here\n",
    "..."
   ]
  },
  {
   "cell_type": "markdown",
   "id": "4920efbb-52ee-43a6-aa23-8402ee654d7c",
   "metadata": {
    "editable": true,
    "tags": []
   },
   "source": [
    "<img src=\"icons/problem.png\" style=\"float:left; margin-right: 20px; margin-top: 30px\">\n",
    "\n",
    "<br>\n",
    "\n",
    "## Exercise 4: Dictionary basics\n",
    "\n",
    "<p style=\"clear: both\" />\n",
    "\n",
    "In the following cell, some dictionaries have been created for you. Write and test the following functions:\n",
    "- 'printDictElements(d)' to iterate over the elements of 'd' and print each of them\n",
    "- 'intersectDicts(d1,d2)' to return a dictionary containing only the keys that appear in both input dictionaries (the value must be the sum of the values on the input dictionaries);\n",
    "- 'unionDicts(d1,d2)' to return dictionary containing all keys appearing in the two input dictionaries (as above, for common keys, the value must be the sum of the values on the input dictionaries);\n",
    "- 'deleteFromDict(d,k)' to return a dictionary without the element with key 'k'"
   ]
  },
  {
   "cell_type": "code",
   "execution_count": null,
   "id": "bbfad72d-b0cf-41eb-84e3-4797e6b7c919",
   "metadata": {},
   "outputs": [],
   "source": [
    "d1 = {'a':1,'b':2,'c':3}\n",
    "d2 = {'d':4,'c':5,'b':6}\n",
    "\n",
    "# Write the Python functions here\n",
    "..."
   ]
  },
  {
   "cell_type": "code",
   "execution_count": null,
   "id": "8a3e0a3b-e181-4baa-9a91-401ee3fc1094",
   "metadata": {},
   "outputs": [],
   "source": [
    "deleteFromDict(d1,'a')"
   ]
  },
  {
   "cell_type": "markdown",
   "id": "c45218ff-7dc5-43fa-844c-afc48f51e07a",
   "metadata": {
    "editable": true,
    "tags": []
   },
   "source": [
    "<img src=\"icons/problem.png\" style=\"float:left; margin-right: 20px; margin-top: 30px\">\n",
    "\n",
    "<br>\n",
    "\n",
    "## Exercise 5: A list in the menu\n",
    "\n",
    "<p style=\"clear: both\" />\n",
    "\n",
    "Take a look at this program, implementing a restaurant menu without using data structures and loops: the code is long and repetitive (thus difficult to read and to maintain).\n",
    "\n",
    "Test the Python program in the following cell, then improve it by using a list to store the name of the dishes and loops where appropriate. Remember that while the index of the first menu item is 1, Python lists start from 0."
   ]
  },
  {
   "cell_type": "code",
   "execution_count": null,
   "id": "18c576f5",
   "metadata": {
    "deletable": true,
    "editable": true,
    "tags": []
   },
   "outputs": [],
   "source": [
    "# Copy this program to a new cell and improve it using a list and loops\n",
    "\n",
    "d1 = \"Garlic Bread with olive oil\"\n",
    "d2 = \"Pappardelle pasta with wild boar sauce\"\n",
    "d3 = \"Barbecued T-bone steak\"\n",
    "d4 = \"Roast potatoes with rosemary\"\n",
    "d5 = \"Grandmother's Cake\"\n",
    "\n",
    "print(\"*** Menu ***\")\n",
    "print(\"1.\", d1)\n",
    "print(\"2.\", d2)\n",
    "print(\"3.\", d3)\n",
    "print(\"4.\", d4)\n",
    "print(\"5.\", d5)\n",
    "\n",
    "order = int(input(\"Which number would you like to order?\"))\n",
    "if order == 1:\n",
    "    print(\"One \" + d1 + \" coming!\")\n",
    "elif order == 2:\n",
    "    print(\"One \" + d2 + \" coming!\")\n",
    "elif order == 3:\n",
    "    print(\"One \" + d3 + \" coming!\")\n",
    "elif order == 4:\n",
    "    print(\"One \" + d4 + \" coming!\")\n",
    "elif order == 5:\n",
    "    print(\"One \" + d5 + \" coming!\")\n",
    "else:\n",
    "    print(\"Sorry, not a valid choice.\")    "
   ]
  },
  {
   "cell_type": "markdown",
   "id": "09c10bc4",
   "metadata": {
    "deletable": true,
    "editable": true,
    "tags": []
   },
   "source": [
    "<img src=\"icons/problem.png\" style=\"float:left; margin-right: 20px; margin-top: 30px\">\n",
    "\n",
    "<br>\n",
    "\n",
    "## Exercise 6: List of strings\n",
    "\n",
    "<p style=\"clear: both\" />\n",
    "\n",
    "Write a Python function named *analyze_strings* that takes a list of strings as its only parameter. The function must return a tuple (n1, n2, l), where:\n",
    "- s1 is the length of the shortest string;\n",
    "- n2 is the length of the longest string;\n",
    "- l is a list containing, for each input string, a tuple (c1, c2, s), where c1 and c2 are the first and last characters in the string, respectively, and s is the string reversed.\n",
    "\n",
    "For example,\n",
    "\n",
    "```analyze_strings([\"One\", \"Two\", \"Three\"])```\n",
    "    \n",
    "must return:\n",
    "\n",
    "```(3, 5, [('O', 'e', 'enO'), ('T', 'o', 'owT'), ('T', 'e', 'eerhT')])```\n",
    "    \n",
    "You can assume that the input list is not empty and that it does not contain empty strings. You can use the *list comprehension* syntax (```[expr for elem in iterable if test]```) to create lists in a more compact manner."
   ]
  },
  {
   "cell_type": "code",
   "execution_count": null,
   "id": "c0655894",
   "metadata": {
    "deletable": true,
    "editable": true,
    "tags": [
     "exercise"
    ]
   },
   "outputs": [],
   "source": [
    "# Write the Python function here\n",
    "def analyze_strings(p):\n",
    "    # Write the Python function here"
   ]
  },
  {
   "cell_type": "markdown",
   "id": "3692d1be",
   "metadata": {
    "deletable": true,
    "editable": true,
    "tags": []
   },
   "source": [
    "<img src=\"icons/check.png\" style=\"float:left; margin-right: 10px;\">\n",
    "\n",
    "<br>\n",
    "\n",
    "Run the following cell to perform a few tests on your function."
   ]
  },
  {
   "cell_type": "code",
   "execution_count": null,
   "id": "4f72ee5d",
   "metadata": {
    "deletable": true,
    "editable": true,
    "tags": []
   },
   "outputs": [],
   "source": [
    "import lab05utils\n",
    "lab05utils.test_analyze_strings(globals())"
   ]
  },
  {
   "cell_type": "markdown",
   "id": "184bd1e9",
   "metadata": {
    "editable": true,
    "tags": []
   },
   "source": [
    "<img src=\"icons/problem.png\" style=\"float:left; margin-right: 20px; margin-top: 30px\">\n",
    "\n",
    "<br>\n",
    "\n",
    "## Exercise 7: Combining two lists\n",
    "\n",
    "<p style=\"clear: both\" />\n",
    "\n",
    "Write a Python function called *combine_lists* that takes two input parameters. The first is a list of positive integer numbers, the second is a list of strings. You can assume the two lists contain the same number of elements. The function must return a list of tuples (n, s, t), where:\n",
    "- n is the corresponding number in the first input list, \n",
    "- s is the corresponding string in the second input list, \n",
    "- t is a tuple containing n times the string s.\n",
    "\n",
    "For example,\n",
    "\n",
    "    combine_lists([2, 1, 3], [\"One\", \"Two\", \"Three\"])\n",
    "    \n",
    "must return:\n",
    "\n",
    "    [(2, 'One', ('One', 'One')),\n",
    "     (1, 'Two', ('Two',)),\n",
    "     (3, 'Three', ('Three', 'Three', 'Three'))]\n",
    "    \n",
    "Suggestion: the *zip* built-in function (https://docs.python.org/3/library/functions.html#zip) may be useful to implement a concise solution using the *list comprehension* syntax."
   ]
  },
  {
   "cell_type": "code",
   "execution_count": null,
   "id": "25d12bfe-e606-434b-93c8-e7556bd9bc52",
   "metadata": {
    "editable": true,
    "tags": [
     "exercise"
    ]
   },
   "outputs": [],
   "source": [
    "# Write the Python function here\n",
    "def combine_lists(numbers, strings):\n",
    "    ..."
   ]
  },
  {
   "cell_type": "markdown",
   "id": "01011933",
   "metadata": {
    "editable": true,
    "tags": []
   },
   "source": [
    "<img src=\"icons/check.png\" style=\"float:left; margin-right: 10px;\">\n",
    "\n",
    "<br>\n",
    "\n",
    "Run the following cell to perform a few tests on your function."
   ]
  },
  {
   "cell_type": "code",
   "execution_count": null,
   "id": "931bb066",
   "metadata": {
    "editable": true,
    "tags": []
   },
   "outputs": [],
   "source": [
    "lab05utils.test_combine_lists(globals())"
   ]
  },
  {
   "cell_type": "markdown",
   "id": "b298bf2c",
   "metadata": {
    "editable": true,
    "tags": []
   },
   "source": [
    "<img src=\"icons/problem.png\" style=\"float:left; margin-right: 20px; margin-top: 30px\">\n",
    "\n",
    "<br>\n",
    "\n",
    "## Exercise 8: Histogram of letters\n",
    "\n",
    "<p style=\"clear: both\" />\n",
    "\n",
    "Write a Python function called *create_histogram* that takes a string as input parameter and performs the following operations:\n",
    "- converts all the characters to uppercase;\n",
    "- removes any non-alphabetic character, such as spaces or punctuation;\n",
    "  - *Hint: use the ```.isalpha()``` method of strings*\n",
    "- counts the occurrences of each letter in the text and creates a dictionary that associates to each letter its number of occurrences;\n",
    "- returns a list of tuples (l, h), where l is a letter and h a string containing as many asterisks as many times the word appears in the text; the list of tuples must be sorted according to the alphabetic order of the letters.\n",
    "\n",
    "For example,\n",
    "\n",
    "```create_histogram(\"If we can't live together, we're gonna die alone.\")```\n",
    "    \n",
    "must return:\n",
    "\n",
    "    [('A', '***'),\n",
    "     ('C', '*'),\n",
    "     ('D', '*'),\n",
    "     ('E', '********'),\n",
    "     ('F', '*'),\n",
    "     ('G', '**'),\n",
    "     ('H', '*'),\n",
    "     ('I', '***'),\n",
    "     ('L', '**'),\n",
    "     ('N', '****'),\n",
    "     ('O', '***'),\n",
    "     ('R', '**'),\n",
    "     ('T', '***'),\n",
    "     ('V', '*'),\n",
    "     ('W', '**')]"
   ]
  },
  {
   "cell_type": "code",
   "execution_count": null,
   "id": "cca32765-5b4c-4d65-9db1-a152da040c68",
   "metadata": {
    "editable": true,
    "tags": [
     "exercise"
    ]
   },
   "outputs": [],
   "source": [
    "# Write the Python function here\n",
    "def create_histogram(text):\n",
    "    ..."
   ]
  },
  {
   "cell_type": "markdown",
   "id": "412ff041",
   "metadata": {
    "editable": true,
    "tags": []
   },
   "source": [
    "<img src=\"icons/check.png\" style=\"float:left; margin-right: 10px;\">\n",
    "\n",
    "<br>\n",
    "\n",
    "Run the following cell to perform a few tests on your function."
   ]
  },
  {
   "cell_type": "code",
   "execution_count": null,
   "id": "a14df351",
   "metadata": {
    "editable": true,
    "tags": []
   },
   "outputs": [],
   "source": [
    "lab05utils.test_create_histogram(globals())"
   ]
  },
  {
   "cell_type": "markdown",
   "id": "f5b56e41",
   "metadata": {
    "editable": true,
    "tags": []
   },
   "source": [
    "<img src=\"icons/problem.png\" style=\"float:left; margin-right: 20px; margin-top: 30px\">\n",
    "\n",
    "<br>\n",
    "\n",
    "## Exercise 9: Find common words in two strings\n",
    "\n",
    "<p style=\"clear: both\" />\n",
    "\n",
    "Write a Python function called *find_common_words* that takes two strings as input arguments and returns the sorted list of common words. The function should use space and punctuation characters as word separators and do not distinguish between uppercase and lowercase letters.\n",
    "\n",
    "For example,\n",
    "\n",
    "```text1 = \"And so he spoke, and so he spoke, that lord of Castamere, But now the rains weep o'er his hall, with no one there to hear.\"```  \n",
    "```text2 = \"No one sang the words, but Catelyn knew \\\"The Rains of Castamere\\\" when she heard it.\"```  \n",
    "```find_common_words(text1,text2)```\n",
    "    \n",
    "must return:\n",
    "\n",
    "    ['but', 'castamere', 'no', 'of', 'one', 'rains', 'the']\n",
    "    \n",
    "Hints:\n",
    "- Manually replace punctuation characters with spaces\n",
    "- Use the ```split()``` function to transform a text into a list of words, then transform the result into a set\n",
    "- Remember not to replicate the code"
   ]
  },
  {
   "cell_type": "code",
   "execution_count": null,
   "id": "b1f0b3bb",
   "metadata": {
    "editable": true,
    "tags": [
     "exercise"
    ]
   },
   "outputs": [],
   "source": [
    "# Write the Python function here\n",
    "def find_common_words(s1, s2):\n",
    "    ..."
   ]
  },
  {
   "cell_type": "markdown",
   "id": "f70f5fc8-e1e0-49cc-a9b0-0e95507a4f88",
   "metadata": {
    "editable": true,
    "tags": []
   },
   "source": [
    "<img src=\"icons/problem.png\" style=\"float:left; margin-right: 20px; margin-top: 30px\">\n",
    "\n",
    "<br>\n",
    "\n",
    "## Exercise 10: Word counting\n",
    "\n",
    "<p style=\"clear: both\" />\n",
    "\n",
    "Write a Python function called *word_count* that takes the content of a file (using the ```lab_utils.readFromFile(path)```), splits the content into (lower case) words, counts the number of occurrences for each word and shows the ones that appear at least $n$ times.\n",
    "\n",
    "For example, file 'files/sheep.txt' contains the following riddle:\n",
    "\n",
    "    over the bench, the sheep lives\n",
    "    under the bench, the sheep dies\n",
    "\n",
    "Running ```word_count('files/sheep.txt',2)``` must return:\n",
    "\n",
    "    {'the': 4, 'bench': 2, 'sheep': 2}\n",
    "\n",
    "Hints:\n",
    "- Notice that the ```lab_utils.readFromFile(path)``` returns a list of lines of text, which could be empty\n",
    "- Punctuation must be removed as in Exercise 9 (you could define a function for that)\n",
    "- Always put words into lower case\n",
    "- The exercise is similar to Exercise 8, but we are counting words instead of letters\n",
    "- Use $n=2$ for 'files/sheep.txt', $n=3$ for 'files/lost.txt', and $n=1000$ for 'files/divine_comedy.txt'"
   ]
  },
  {
   "cell_type": "code",
   "execution_count": null,
   "id": "9975446e-15d8-47cc-b127-f53d00a3b500",
   "metadata": {},
   "outputs": [],
   "source": [
    "# Write the Python functions here\n",
    "import lab_utils\n",
    "\n",
    "def remove_punctuation(t):\n",
    "    ...\n",
    "    \n",
    "def word_count(path,n):\n",
    "    ..."
   ]
  },
  {
   "cell_type": "markdown",
   "id": "c4fbf434",
   "metadata": {
    "editable": true,
    "tags": []
   },
   "source": [
    "<img src=\"icons/check.png\" style=\"float:left; margin-right: 10px;\">\n",
    "\n",
    "<br>\n",
    "\n",
    "Run the following cell to perform a few tests on your function."
   ]
  },
  {
   "cell_type": "code",
   "execution_count": null,
   "id": "feef6339",
   "metadata": {
    "editable": true,
    "tags": []
   },
   "outputs": [],
   "source": [
    "import lab05utils\n",
    "lab05utils.test_word_count(globals())"
   ]
  }
 ],
 "metadata": {
  "kernelspec": {
   "display_name": "Python 3 (ipykernel)",
   "language": "python",
   "name": "python3"
  },
  "language_info": {
   "codemirror_mode": {
    "name": "ipython",
    "version": 3
   },
   "file_extension": ".py",
   "mimetype": "text/x-python",
   "name": "python",
   "nbconvert_exporter": "python",
   "pygments_lexer": "ipython3",
   "version": "3.10.9"
  },
  "toc-autonumbering": false,
  "toc-showcode": true,
  "toc-showmarkdowntxt": true,
  "toc-showtags": true
 },
 "nbformat": 4,
 "nbformat_minor": 5
}

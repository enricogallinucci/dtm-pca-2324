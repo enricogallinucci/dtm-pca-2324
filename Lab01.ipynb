{
 "cells": [
  {
   "cell_type": "markdown",
   "id": "60d2c302-1d4b-470d-94b2-6f455c4e4e1c",
   "metadata": {
    "deletable": false,
    "editable": true
   },
   "source": [
    "<img src=\"icons/header.png\">"
   ]
  },
  {
   "cell_type": "markdown",
   "id": "1ce8d48f-24ef-4db1-8dbf-406d0dd72d15",
   "metadata": {
    "deletable": false,
    "editable": true
   },
   "source": [
    "# Lab 1: First steps"
   ]
  },
  {
   "cell_type": "markdown",
   "id": "c5ae5e09-92b7-43eb-9b11-86513ce39423",
   "metadata": {
    "deletable": false,
    "editable": true,
    "tags": []
   },
   "source": [
    "Welcome to the first lab of the course. This lab covers:\n",
    "- running the Python interpreter from the command line;\n",
    "- executing a simple Python program with the Python interpreter;\n",
    "- basic usage of JupyterLab;\n",
    "- editing and running a simple Python program in JupyterLab;\n",
    "- debugging of wrong Python commands."
   ]
  },
  {
   "cell_type": "markdown",
   "id": "e734e5bf-5653-4320-bf81-0cca87fadf22",
   "metadata": {
    "deletable": false,
    "editable": true,
    "tags": []
   },
   "source": [
    "<img src=\"icons/problem.png\" style=\"float:left; margin-right: 20px; margin-top: 30px\">\n",
    "\n",
    "<br>\n",
    "\n",
    "## Exercise 1: Python interpreter\n",
    "\n",
    "<p style=\"clear: both\" />\n",
    "\n",
    "1. Access the command line interface of your PC. \n",
    " - If you are using Windows: locate and open the \"Anaconda Prompt\" (it is like the command prompt, but it makes sure that you are able to use anaconda programs without having to change directories). \n",
    " - If you are using Linux or Mac, simply open a terminal window.\n",
    "2. Check the version of the python interpreter by running \"python --version\": you should obtain something similar to \"Python 3.8.8\".\n",
    "1. Execute the interpreter by running \"python\" without any parameters: the interpreter should print a welcome message stating its version number and a copyright notice, before printing the first prompt \">>>\".\n",
    "1. Write a Python instruction that prints your name to the screen: press enter to let the interpreter execute it.\n",
    "1. Write the Python expression to compute $(\\frac{10}{3})^2$, press enter so that the interpreter shows the result.\n",
    "1. Use the command \"exit()\" to quit the interpreter."
   ]
  },
  {
   "cell_type": "markdown",
   "id": "c9f26e41-2b3a-43cd-87e4-51381fa698a5",
   "metadata": {
    "deletable": false,
    "editable": true,
    "tags": []
   },
   "source": [
    "<img src=\"icons/problem.png\" style=\"float:left; margin-right: 20px; margin-top: 30px\">\n",
    "\n",
    "<br>\n",
    "\n",
    "## Exercise 2: Creating and executing a Python program\n",
    "\n",
    "<p style=\"clear: both\" />\n",
    "\n",
    "Take the beginning of the [Lorem ipsum](https://en.wikipedia.org/wiki/Lorem_ipsum) placeholder text:\n",
    "\n",
    "> Lorem ipsum dolor sit amet,  \n",
    "> consectetur adipisci elit,  \n",
    "> sed do eiusmod tempor incidunt  \n",
    "> ut labore et dolore magna aliqua  \n",
    "\n",
    "1. Create a text file containing the Python instructions <u>to print</u> the four lines.\n",
    "1. Save the text file as \"lorem.py\".\n",
    "1. Execute it from the command line interface, passing its path as a command-line parameter to the interpreter. For instance, if you are using Windows and saved the file in folder \"c:\\temp\", you may type ```python \"c:\\temp\\lorem.py\"```; alternatively you may change the current folder to that where the file is located in and then simply type ```python \"lorem.py\"```."
   ]
  },
  {
   "cell_type": "markdown",
   "id": "60dd90e0-5342-4e6b-92f0-44b6d9a00045",
   "metadata": {
    "deletable": false,
    "editable": true,
    "tags": []
   },
   "source": [
    "<img src=\"icons/problem.png\" style=\"float:left; margin-right: 20px; margin-top: 30px\">\n",
    "\n",
    "<br>\n",
    "\n",
    "## Exercise 3: Practice with JupyterLab\n",
    "\n",
    "<p style=\"clear: both\" />\n",
    "\n",
    "JupyterLab consists of a main work area containing tabs of documents, a collapsible left sidebar, and a menu bar. This lab is written in the form of a *Jupyter notebook*, the main document used in JupyterLab.  \n",
    "Jupyter notebooks are documents that combine source code (written in Python or other languages) with descriptive text (written in a Markdown, a simple markup language for formatting text, or directly in HTML), equations (written in LaTeX), images and other rich output.  \n",
    "1. Practice with JupyterLab interface. If you want, you may read some documentation at https://jupyterlab.readthedocs.io/en/stable/user/interface.html, or look for other simple tutorials online. After that, you should be able to: \n",
    "    - create a new notebook;\n",
    "    - save a notebook;\n",
    "    - save a notebook with a different name;\n",
    "    - create a new view of a notebook;\n",
    "    - arrange open notebooks in different ways by dragging their tabs with the mouse.\n",
    "2. Practice with notebook cells by following the instructions in the cells below and running them."
   ]
  },
  {
   "cell_type": "code",
   "execution_count": null,
   "id": "96078b9b-cf39-4545-9730-d380a0863d4b",
   "metadata": {
    "deletable": false,
    "editable": true
   },
   "outputs": [],
   "source": [
    "# This is a code cell containing some Python code: \n",
    "# 1. Execute it using the appropiate button in the toolbar, or with the Ctrl+Enter keyboard shortcut\n",
    "# 2. Note the output below the cell.\n",
    "# 3. Find a command to clear the output of the cell, then run the cell again.\n",
    "\n",
    "print(\"Hello: I am Python code executed from a notebook cell.\")"
   ]
  },
  {
   "cell_type": "code",
   "execution_count": null,
   "id": "7c829666-5773-4933-8a44-493a26726728",
   "metadata": {
    "deletable": false,
    "editable": true,
    "tags": [
     "exercise"
    ]
   },
   "outputs": [],
   "source": [
    "# Jupyter notebooks have two different modes: Edit and Command. The former is used for modifying the contents of a cell, \n",
    "# the latter is used to modify cells (select, add, delete, copy and paste cells, etc.)\n",
    "# 1. Find where the status bar (at the bottom) shows the current mode\n",
    "# 2. Change the mode to \"Command\" by pressing Esc and to \"Edit\" by pressing Enter\n",
    "# 3. Use the Edit Mode to modify this cell, adding a second print statement. Run this cell to check the output.\n",
    "# 4. Use the Command Mode to copy this cell and paste it below, duplicating it.\n",
    "\n",
    "print(\"First message\")\n",
    "..."
   ]
  },
  {
   "cell_type": "code",
   "execution_count": null,
   "id": "bac3cf10-46c0-4f5b-b7fc-57770bb6b3f3",
   "metadata": {
    "deletable": false,
    "editable": true,
    "tags": []
   },
   "outputs": [],
   "source": [
    "# The output of the last statement in a code cell is always shown, without the need of using print()\n",
    "print(\"Sample output with print\")\n",
    "3 * 11 # Last statement: the result is the output of the cell"
   ]
  },
  {
   "cell_type": "code",
   "execution_count": null,
   "id": "091f4aad-db49-48bc-a956-b8f0ee70b5c6",
   "metadata": {
    "deletable": false,
    "editable": true,
    "tags": []
   },
   "outputs": [],
   "source": [
    "# This cell assigns a value to a new variable named 'counter'\n",
    "counter = 0"
   ]
  },
  {
   "cell_type": "code",
   "execution_count": null,
   "id": "78c720c5-3d87-4e07-a890-84596344192f",
   "metadata": {
    "deletable": false,
    "editable": true,
    "tags": []
   },
   "outputs": [],
   "source": [
    "# Once a variable has been defined, it can be used in any cell\n",
    "counter # The output of this cell is the value stored in the variable"
   ]
  },
  {
   "cell_type": "code",
   "execution_count": null,
   "id": "a4a06af4-b97b-4e9c-b247-b0205f6be2dc",
   "metadata": {
    "deletable": false,
    "editable": true,
    "tags": []
   },
   "outputs": [],
   "source": [
    "# Run this cell multiple times\n",
    "counter = counter + 1\n",
    "print('Execution count:', counter)"
   ]
  },
  {
   "cell_type": "markdown",
   "id": "c50017c9-3d08-4db9-8d36-2d8aeb7cd258",
   "metadata": {
    "deletable": false,
    "editable": true
   },
   "source": [
    "Python code from any cell is run in a separate process called 'Kernel'. The Kernel can be interrupted or restarted.\n",
    "- Find and use the command to restart the kernel (note: only \"Restart Kernel\", not \"Restart Kernel and Run ...\"), then try to execute *only* the previous cell, which uses the variable 'counter'. You should see an error (something like \"NameError: name 'counter' is not defined\"), since no variable named 'counter' has been defined, yet. \n",
    "- Running the cells in the proper order will fix this."
   ]
  },
  {
   "cell_type": "markdown",
   "id": "c7e3a351-f499-4ba8-a21a-7b0edc19c505",
   "metadata": {
    "deletable": false,
    "editable": true,
    "exclude_input": true,
    "tags": []
   },
   "source": [
    "<img src=\"icons/problem.png\" style=\"float:left; margin-right: 20px; margin-top: 30px\">\n",
    "\n",
    "<br>\n",
    "\n",
    "## Exercise 4: A simple Python program in JupyterLab\n",
    "\n",
    "<p style=\"clear: both\" />\n",
    "\n",
    "In the next cell, write a Python program that creates the following variables:\n",
    "- 'n1' is the number $\\frac{6!}{m}$, where $m$ is the number of minutes in a day;\n",
    "- 'n2' is computed as $15^2 + 4^3 - 3^5$;\n",
    "- 'n3' is the minimum between (i) the multiplication between n1 and n2, and (ii) the ratio between n2 and n1;\n",
    "- 'n4' is the conversion of 'n3' to integer;\n",
    "- 'n5' is the conversion of 'n3'+0.5 to integer;\n",
    "- 'n6' adds 0.5 to the conversion of 'n3' to integer;\n",
    "- 'n7' is the type of 'n6';\n",
    "- 'n8' is the number $\\frac{4+3}{5-1}$;\n",
    "- 'n9' is initially created as the absolute value of $-2^3$; then, in another line, 'n9' is incremented by 5 using the += operator.\n",
    "\n",
    "Finally, print a line that says \"My results are:\", followed by all the variables."
   ]
  },
  {
   "cell_type": "code",
   "execution_count": null,
   "id": "ae6865b2-de23-4ebc-8149-13e900386ac8",
   "metadata": {
    "deletable": false,
    "editable": true,
    "tags": [
     "exercise"
    ]
   },
   "outputs": [],
   "source": [
    "# Write the Python program here\n",
    "..."
   ]
  },
  {
   "cell_type": "markdown",
   "id": "40885c0c-205f-4c88-82ee-75feac810aa0",
   "metadata": {
    "deletable": false,
    "editable": true,
    "tags": []
   },
   "source": [
    "<img src=\"icons/check.png\" style=\"float:left; margin-right: 10px;\">\n",
    "\n",
    "<br>\n",
    "\n",
    "Run the following cell to check whether the result of the previous program is correct or not."
   ]
  },
  {
   "cell_type": "code",
   "execution_count": null,
   "id": "61b248d3-4df6-4c7f-ae82-e8d1ff836748",
   "metadata": {
    "deletable": false,
    "editable": true,
    "tags": []
   },
   "outputs": [],
   "source": [
    "import lab01utils\n",
    "lab01utils.test_es_4(globals())"
   ]
  },
  {
   "cell_type": "markdown",
   "id": "260a4990-0c57-4a1b-be28-74ada4bec670",
   "metadata": {
    "deletable": false,
    "editable": true,
    "tags": []
   },
   "source": [
    "<img src=\"icons/problem.png\" style=\"float:left; margin-right: 20px; margin-top: 30px\">\n",
    "\n",
    "<br>\n",
    "\n",
    "## Exercise 5: Debugging\n",
    "\n",
    "<p style=\"clear: both\" />\n",
    "\n",
    "The Python program in the cell below contains several errors: correct them and run the last cell to check the result."
   ]
  },
  {
   "cell_type": "code",
   "execution_count": null,
   "id": "dc47b995-707b-4f1d-afc0-61b1c46f77f9",
   "metadata": {
    "deletable": false,
    "editable": true,
    "tags": [
     "exercise"
    ]
   },
   "outputs": [],
   "source": [
    "pi = 3,14159\n",
    "radius = 42\n",
    "area_of_the_circle = pi * (radius ^ 2) # Computes the area of the circle\n",
    "circumference = 2 ** pi ** r           # Computes the circumference\n",
    "min_value = MIN(area_of_the_circle; circumference) # Computes the minimum of the two values\n",
    "\n",
    "int_circumference = int[circumference]  # Converts the circumference to an integer number\n",
    "\n",
    "type_of_circumference = Type(circumference) # Stores the type of variable \"circumference\"\n",
    "\n",
    "type_of_int_circumference = type[int_circumference] # Stores the type of variable \"circumference\"\n",
    "\n",
    "print(\"Area:\", area_of_the_circle)\n",
    "print(\"Circumference:\", circumference)\n",
    "print(\"Minimum value:\", min_value)\n",
    "print(\"Circumference (truncated to integer)\", int_circumference)\n",
    "print(\"Variable types:\", type_of_circumference, type_of_int_circumference)"
   ]
  },
  {
   "cell_type": "markdown",
   "id": "80748c0c-39bd-4602-a9e5-441c25d844b5",
   "metadata": {
    "deletable": false,
    "editable": true,
    "tags": []
   },
   "source": [
    "<img src=\"icons/check.png\" style=\"float:left; margin-right: 10px;\">\n",
    "\n",
    "<br>\n",
    "\n",
    "Run the following cell to check whether the previous program is now correct or not."
   ]
  },
  {
   "cell_type": "code",
   "execution_count": null,
   "id": "eda39e59-18ea-41c1-8254-585fa146deec",
   "metadata": {
    "deletable": false,
    "editable": true,
    "tags": []
   },
   "outputs": [],
   "source": [
    "lab01utils.test_es_5(globals())"
   ]
  },
  {
   "cell_type": "code",
   "execution_count": null,
   "id": "6b4099ca-8108-4dee-bd22-a0bee2b57a30",
   "metadata": {
    "deletable": false,
    "editable": true
   },
   "outputs": [],
   "source": []
  }
 ],
 "metadata": {
  "kernelspec": {
   "display_name": "Python 3 (ipykernel)",
   "language": "python",
   "name": "python3"
  },
  "language_info": {
   "codemirror_mode": {
    "name": "ipython",
    "version": 3
   },
   "file_extension": ".py",
   "mimetype": "text/x-python",
   "name": "python",
   "nbconvert_exporter": "python",
   "pygments_lexer": "ipython3",
   "version": "3.10.9"
  },
  "toc-autonumbering": false,
  "toc-showcode": true,
  "toc-showmarkdowntxt": true,
  "toc-showtags": true
 },
 "nbformat": 4,
 "nbformat_minor": 5
}

{
 "cells": [
  {
   "cell_type": "markdown",
   "id": "60d2c302-1d4b-470d-94b2-6f455c4e4e1c",
   "metadata": {
    "deletable": true,
    "editable": true
   },
   "source": [
    "<img src=\"icons/header.png\">"
   ]
  },
  {
   "cell_type": "markdown",
   "id": "675a7fdd-a835-4694-828b-36beba756f0c",
   "metadata": {
    "editable": true
   },
   "source": [
    "# Lab 3: Iterations and working with strings"
   ]
  },
  {
   "cell_type": "markdown",
   "id": "6b2258a8-9e89-4a30-ba96-11d37104f18d",
   "metadata": {
    "editable": true,
    "tags": []
   },
   "source": [
    "Welcome to the third lab of the course. This lab covers:\n",
    "- Control flow with while and for loops\n",
    "- String slicing\n",
    "- Manipulating and comparing strings"
   ]
  },
  {
   "cell_type": "markdown",
   "id": "232e1f9f-b3ef-4397-aa9a-e23d6c2d5412",
   "metadata": {
    "tags": []
   },
   "source": [
    "<img src=\"icons/problem.png\" style=\"float:left; margin-right: 20px; margin-top: 30px\">\n",
    "\n",
    "<br>\n",
    "\n",
    "## Exercise 1: For and while loops\n",
    "\n",
    "<p style=\"clear: both\" />\n",
    "\n",
    "### For\n",
    "\n",
    "- Print the square of all numbers from 1 to 5 (included) in the form \"The square of 1 is 1\"\n",
    "- Print the overall sum of all even numbers from 2 to 20 (included)\n",
    "- Ask the user for an input number $n$ and print all numbers from $n$ backwards to its square root (included); if the numbers to print are more than 20, stop and write \"There are too many numbers to print\"\n",
    "\n",
    "### While\n",
    "\n",
    "- Convert the last exercise for the for-cycle to a while-cycle\n",
    "- Ask the user for an input number $n$ and print the number of iterations required to make it <=10 by dividing it by 3\n",
    "- Write a countdown from 5 to 0 that, after the one, divides the previous number in half; stop it after 20 iterations!"
   ]
  },
  {
   "cell_type": "code",
   "execution_count": null,
   "id": "ba2fc5a2-c993-4fe2-a54c-5063f82f1b53",
   "metadata": {
    "tags": []
   },
   "outputs": [],
   "source": [
    "# FOR-1\n",
    "for i in range(1,6):\n",
    "  print(\"The square of\",i,\"is\",i**2)"
   ]
  },
  {
   "cell_type": "code",
   "execution_count": null,
   "id": "3dcd9f82-8b6e-4164-aa8b-f76f1f49c10a",
   "metadata": {
    "tags": []
   },
   "outputs": [],
   "source": [
    "# FOR-2\n",
    "sum = 0\n",
    "for i in range(2,21,2):\n",
    "  sum += i\n",
    "print(\"The overall sum of all even numbers from 2 to 20 is\",sum)"
   ]
  },
  {
   "cell_type": "code",
   "execution_count": null,
   "id": "a79a429c-dbde-4b59-8644-d931ac020d6f",
   "metadata": {
    "tags": []
   },
   "outputs": [],
   "source": [
    "# FOR-3\n",
    "n = int(input(\"Input a whole number\"))\n",
    "max = 20\n",
    "for i in range(n,int(n**0.5)-1,-1):\n",
    "  print(i)\n",
    "  max = max-1\n",
    "  if(max==0):\n",
    "    break"
   ]
  },
  {
   "cell_type": "code",
   "execution_count": null,
   "id": "813d726a-3573-430a-aeca-dc58835b714d",
   "metadata": {
    "tags": []
   },
   "outputs": [],
   "source": [
    "# WHILE-1\n",
    "n = int(input(\"Input a whole number\"))\n",
    "max = 20\n",
    "i = n\n",
    "while i>=int(n**0.5) and max>0:\n",
    "  print(i)\n",
    "  max = max-1\n",
    "  i = i-1"
   ]
  },
  {
   "cell_type": "code",
   "execution_count": null,
   "id": "1720bdf2-0f39-4fd4-ad56-5ae017ea191f",
   "metadata": {
    "tags": []
   },
   "outputs": [],
   "source": [
    "# WHILE-2\n",
    "n = int(input(\"Input a whole number\"))\n",
    "iter = 0\n",
    "i = n\n",
    "while(i>10):\n",
    "  i = i/3\n",
    "  iter = iter+1\n",
    "print(\"It took\",iter,\"iterations to reduce\",n,\"below 10 by dividing it by 3\")"
   ]
  },
  {
   "cell_type": "code",
   "execution_count": null,
   "id": "1b4bf4b2-28fe-4401-b850-86c1a43e7c24",
   "metadata": {
    "tags": []
   },
   "outputs": [],
   "source": [
    "# WHILE-3\n",
    "n = 5\n",
    "max = 20\n",
    "while(n>0 and max>0):\n",
    "  print(n)\n",
    "  max = max-1\n",
    "  if(n>1):\n",
    "    n = n-1\n",
    "  else:\n",
    "    n = n/2"
   ]
  }
 ],
 "metadata": {
  "kernelspec": {
   "display_name": "Python 3 (ipykernel)",
   "language": "python",
   "name": "python3"
  },
  "language_info": {
   "codemirror_mode": {
    "name": "ipython",
    "version": 3
   },
   "file_extension": ".py",
   "mimetype": "text/x-python",
   "name": "python",
   "nbconvert_exporter": "python",
   "pygments_lexer": "ipython3",
   "version": "3.11.4"
  },
  "toc-autonumbering": false,
  "toc-showcode": true,
  "toc-showmarkdowntxt": true,
  "toc-showtags": true
 },
 "nbformat": 4,
 "nbformat_minor": 5
}

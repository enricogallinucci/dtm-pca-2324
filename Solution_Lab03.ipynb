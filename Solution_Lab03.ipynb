{
 "cells": [
  {
   "cell_type": "markdown",
   "id": "60d2c302-1d4b-470d-94b2-6f455c4e4e1c",
   "metadata": {
    "deletable": true,
    "editable": true
   },
   "source": [
    "<img src=\"icons/header.png\">"
   ]
  },
  {
   "cell_type": "markdown",
   "id": "675a7fdd-a835-4694-828b-36beba756f0c",
   "metadata": {
    "editable": true
   },
   "source": [
    "# Lab 3: Iterations and working with strings"
   ]
  },
  {
   "cell_type": "markdown",
   "id": "6b2258a8-9e89-4a30-ba96-11d37104f18d",
   "metadata": {
    "editable": true,
    "tags": []
   },
   "source": [
    "Welcome to the third lab of the course. This lab covers:\n",
    "- Control flow with while and for loops\n",
    "- String slicing\n",
    "- Manipulating and comparing strings"
   ]
  },
  {
   "cell_type": "markdown",
   "id": "232e1f9f-b3ef-4397-aa9a-e23d6c2d5412",
   "metadata": {
    "tags": []
   },
   "source": [
    "<img src=\"icons/problem.png\" style=\"float:left; margin-right: 20px; margin-top: 30px\">\n",
    "\n",
    "<br>\n",
    "\n",
    "## Exercise 1: For and while loops\n",
    "\n",
    "<p style=\"clear: both\" />\n",
    "\n",
    "### For\n",
    "\n",
    "- Print the square of all numbers from 1 to 5 (included) in the form \"The square of 1 is 1\"\n",
    "- Print the overall sum of all even numbers from 2 to 20 (included)\n",
    "- Ask the user for an input number $n$ and print all numbers from $n$ backwards to its square root (included); if the numbers to print are more than 20, stop and write \"There are too many numbers to print\"\n",
    "\n",
    "### While\n",
    "\n",
    "- Convert the last exercise for the for-cycle to a while-cycle\n",
    "- Ask the user for an input number $n$ and print the number of iterations required to make it <=10 by dividing it by 3\n",
    "- Write a countdown from 5 to 0 that, after the one, divides the previous number in half; stop it after 20 iterations!"
   ]
  },
  {
   "cell_type": "code",
   "execution_count": null,
   "id": "ba2fc5a2-c993-4fe2-a54c-5063f82f1b53",
   "metadata": {
    "tags": []
   },
   "outputs": [],
   "source": [
    "# FOR-1\n",
    "for i in range(1,6):\n",
    "  print(\"The square of\",i,\"is\",i**2)"
   ]
  },
  {
   "cell_type": "code",
   "execution_count": null,
   "id": "3dcd9f82-8b6e-4164-aa8b-f76f1f49c10a",
   "metadata": {
    "tags": []
   },
   "outputs": [],
   "source": [
    "# FOR-2\n",
    "sum = 0\n",
    "for i in range(2,21,2):\n",
    "  sum += i\n",
    "print(\"The overall sum of all even numbers from 2 to 20 is\",sum)"
   ]
  },
  {
   "cell_type": "code",
   "execution_count": null,
   "id": "a79a429c-dbde-4b59-8644-d931ac020d6f",
   "metadata": {
    "tags": []
   },
   "outputs": [],
   "source": [
    "# FOR-3\n",
    "n = int(input(\"Input a whole number\"))\n",
    "max = 20\n",
    "for i in range(n,int(n**0.5)-1,-1):\n",
    "  print(i)\n",
    "  max = max-1\n",
    "  if(max==0):\n",
    "    break"
   ]
  },
  {
   "cell_type": "code",
   "execution_count": null,
   "id": "813d726a-3573-430a-aeca-dc58835b714d",
   "metadata": {
    "tags": []
   },
   "outputs": [],
   "source": [
    "# WHILE-1\n",
    "n = int(input(\"Input a whole number\"))\n",
    "max = 20\n",
    "i = n\n",
    "while i>=int(n**0.5) and max>0:\n",
    "  print(i)\n",
    "  max = max-1\n",
    "  i = i-1"
   ]
  },
  {
   "cell_type": "code",
   "execution_count": null,
   "id": "1720bdf2-0f39-4fd4-ad56-5ae017ea191f",
   "metadata": {
    "tags": []
   },
   "outputs": [],
   "source": [
    "# WHILE-2\n",
    "n = int(input(\"Input a whole number\"))\n",
    "iter = 0\n",
    "i = n\n",
    "while(i>10):\n",
    "  i = i/3\n",
    "  iter = iter+1\n",
    "print(\"It took\",iter,\"iterations to reduce\",n,\"below 10 by dividing it by 3\")"
   ]
  },
  {
   "cell_type": "code",
   "execution_count": null,
   "id": "1b4bf4b2-28fe-4401-b850-86c1a43e7c24",
   "metadata": {
    "tags": []
   },
   "outputs": [],
   "source": [
    "# WHILE-3\n",
    "n = 5\n",
    "max = 20\n",
    "while(n>0 and max>0):\n",
    "  print(n)\n",
    "  max = max-1\n",
    "  if(n>1):\n",
    "    n = n-1\n",
    "  else:\n",
    "    n = n/2"
   ]
  },
  {
   "cell_type": "markdown",
   "id": "d860c788-f8e6-47e7-9b6f-b0278a97fd61",
   "metadata": {
    "tags": []
   },
   "source": [
    "<img src=\"icons/problem.png\" style=\"float:left; margin-right: 20px; margin-top: 30px\">\n",
    "\n",
    "<br>\n",
    "\n",
    "## Exercise 2: Fibonacci\n",
    "\n",
    "<p style=\"clear: both\" />\n",
    "\n",
    "Print all the Fibonacci numbers that are lower than 10000 (start from 0 and 1).\n",
    " - _Print them in a single line: \"0, 1, 1, 2, 3, 5, 8, ...\"_"
   ]
  },
  {
   "cell_type": "code",
   "execution_count": null,
   "id": "b5c183c3-6dba-48f4-8682-6acf619002e3",
   "metadata": {
    "tags": []
   },
   "outputs": [],
   "source": [
    "prev = 0\n",
    "n = 1\n",
    "output = str(prev)\n",
    "\n",
    "while(n<10000):\n",
    "  output = output + \", \" + str(n)\n",
    "  newn = n+prev\n",
    "  prev = n\n",
    "  n = newn\n",
    "\n",
    "print(output)"
   ]
  },
  {
   "cell_type": "markdown",
   "id": "e734e5bf-5653-4320-bf81-0cca87fadf22",
   "metadata": {
    "deletable": true,
    "editable": true,
    "tags": []
   },
   "source": [
    "<img src=\"icons/problem.png\" style=\"float:left; margin-right: 20px; margin-top: 30px\">\n",
    "\n",
    "<br>\n",
    "\n",
    "## Exercise 3: Are you a string slicing master?\n",
    "\n",
    "<p style=\"clear: both\" />\n",
    "\n",
    "String slicing in Pyton is a powerful tool for extracting substrings. It is very important to become proficient in using this functionality because, as we will see later, it is not limited to strings, but is used in many other data structures.  \n",
    "Running the next cell will start a game where you will be asked to find slicing expressions to produce specific substrings of the following string:\n",
    "- ```s = \"Winter is coming!\"```\n",
    "    \n",
    "For instance, if the substring is \"s com\", a correct answer is:\n",
    "- ```s[8:13]```\n",
    "    \n",
    "if the substring is \" enW\", a correct answer is:\n",
    "- ```s[6::-2]```\n",
    "\n",
    "To complete this exercise, you have to finish the game. Of course it is possible to try again if you want to improve your time!\n",
    "\n",
    "A suggestion for finding the correct answers more quickly is to write down on paper a table with the index of each character in the string (0: \"W\", 1: \"i\", 2: \"n\", 3: \"t\", ...)."
   ]
  },
  {
   "cell_type": "code",
   "execution_count": null,
   "id": "c3f79cb7-30c0-46c8-8f61-1606338bf3d7",
   "metadata": {
    "deletable": true,
    "editable": true
   },
   "outputs": [],
   "source": [
    "# Run this cell to start the game!\n",
    "import lab03utils\n",
    "lab03utils.string_slicing_game()"
   ]
  },
  {
   "cell_type": "markdown",
   "id": "95fb4e06-19b1-431f-9091-1074ad54185e",
   "metadata": {
    "deletable": true,
    "editable": true
   },
   "source": [
    "<img src=\"icons/problem.png\" style=\"float:left; margin-right: 20px; margin-top: 30px\">\n",
    "\n",
    "<br>\n",
    "\n",
    "## Exercise 4: Caesar's cipher\n",
    "<p style=\"clear: both\" />\n",
    "\n",
    "Caesar's cipher is one of the simplest *encryption* techniques. It is a *substitution cipher* in which each character is replaced by a character at a given number of positions down the alphabet. For instance, with a positive shift of 2, A would be replaced by C, B would become D, and so on.  \n",
    "\n",
    "Complete the following cell with a Python program that encrypts the string contained in variable *plaintext* using Caesar's cipher by shifting the Unicode characters by 7 positions: for instance, character 'A' (codepoint 65) should become character 'H' (codepoint 72). You can use Python functions ```ord()``` and ```chr()```, to get the codepoint of any unicode character and to get the character corresponding to a given codepoint, respectively.\n",
    "- ```ord('A')``` returns 65\n",
    "- ```chr(65)``` returns 'A'\n",
    "\n",
    "Note that in a real Caesar's cipher the alphabet is actually *rotated*: for instance, if the alphabet is \"A..Z\" and the shift is two positions, Z should become B. In this exercise you can ignore this issue, since the unicode range of characters is much larger than the ones contained in the string to be encrypted."
   ]
  },
  {
   "cell_type": "code",
   "execution_count": null,
   "id": "f5e26d94-12e1-4af0-981b-89ea30e8f4ba",
   "metadata": {
    "deletable": true,
    "editable": true,
    "tags": [
     "exercise"
    ]
   },
   "outputs": [],
   "source": [
    "# The text to be encrypted\n",
    "import lab03utils\n",
    "plaintext = \"And so he spoke, and so he spoke, that lord of Castamere, But now the rains weep o'er his hall, with no one there to hear.\"\n",
    "\n",
    "# The encrypted text\n",
    "ciphertext = \"\"\n",
    "\n",
    "# Write the encryption program here\n",
    "for c in plaintext:\n",
    "    ciphertext += chr(ord(c) + 7)\n",
    "\n",
    "print(\"The encrypted text is:\", ciphertext)"
   ]
  },
  {
   "cell_type": "markdown",
   "id": "80748c0c-39bd-4602-a9e5-441c25d844b5",
   "metadata": {
    "deletable": true,
    "editable": true,
    "tags": []
   },
   "source": [
    "<img src=\"icons/check.png\" style=\"float:left; margin-right: 10px;\">\n",
    "\n",
    "<br>\n",
    "\n",
    "Run the following cell to check if the encrypted text is correct."
   ]
  },
  {
   "cell_type": "code",
   "execution_count": null,
   "id": "eda39e59-18ea-41c1-8254-585fa146deec",
   "metadata": {
    "deletable": true,
    "editable": true,
    "tags": []
   },
   "outputs": [],
   "source": [
    "lab03utils.test_es_3(globals())"
   ]
  },
  {
   "cell_type": "markdown",
   "id": "ab9f5ca1-43c7-49d4-b4e9-e8f53968cc6a",
   "metadata": {
    "deletable": true,
    "editable": true,
    "tags": []
   },
   "source": [
    "<img src=\"icons/problem.png\" style=\"float:left; margin-right: 20px; margin-top: 30px\">\n",
    "\n",
    "<br>\n",
    "\n",
    "## Exercise 5: Breaking Caesar's cipher\n",
    "<p style=\"clear: both\" />\n",
    "\n",
    "You obtained a secret message encrypted with Caesar's cipher. \n",
    "You don't know how many positions the characters have been moved by, but you know it's a value between -15 and + 15.  \n",
    "Write a Python program that implements a [brute force](https://en.wikipedia.org/wiki/Brute-force_attack) (exhausitve enumeration) method to decrypt the message."
   ]
  },
  {
   "cell_type": "code",
   "execution_count": null,
   "id": "e300f905-fc58-44c4-af41-d7e2d956fd22",
   "metadata": {
    "deletable": true,
    "editable": true,
    "tags": [
     "exercise"
    ]
   },
   "outputs": [],
   "source": [
    "# The text to be encrypted\n",
    "encrypted_message = \"Li#zh#fdq*w#olyh#wrjhwkhu/#zh*uh#jrqqd#glh#dorqh\"\n",
    "\n",
    "# Write your hacking program here\n",
    "for k in range(-15, 16):\n",
    "    t = \"\"\n",
    "    for c in encrypted_message:\n",
    "        t += chr(ord(c) + k)\n",
    "    print(t)"
   ]
  },
  {
   "cell_type": "markdown",
   "id": "db87c91b-69c1-49f2-b92f-964888654a66",
   "metadata": {
    "deletable": true,
    "editable": true,
    "tags": []
   },
   "source": [
    "<img src=\"icons/problem.png\" style=\"float:left; margin-right: 20px; margin-top: 30px\">\n",
    "\n",
    "<br>\n",
    "\n",
    "## (Extra) Exercise 6: Rock Paper Scissors\n",
    "\n",
    "<p style=\"clear: both\" />\n",
    "\n",
    "Write a Python program that enables two users to play the [*Rock Paper Scissors*](https://en.wikipedia.org/wiki/Rock_paper_scissors) game.  \n",
    "Each player will enter either \"R\" for rock, \"P\" for paper, or \"S\" for scissors: the program should announce the winner and ask if the players want to play another round (expected answer: \"Y\" for yes, or \"N\" for no).\n",
    "\n",
    "*Example:*\n",
    "\n",
    "    Welcome to a new round of Rock, Paper, Scissors.\n",
    "    Player 1 (R/P/S): R\n",
    "    Player 2 (R/P/S): X\n",
    "    Please enter \"R\", \"P\", or \"S\"\n",
    "    Player 2 (R/P/S): P\n",
    "    Paper beats Rock: Player 2 wins.\n",
    "    Play again (Y/N)? Y\n",
    "\n",
    "    Welcome to a new round of Rock, Paper, Scissors.\n",
    "    Player 1 (R/P/S): S\n",
    "    Player 2 (R/P/S): S\n",
    "    Tie!\n",
    "    Play again (Y/N)? Y\n",
    "\n",
    "    Welcome to a new round of Rock, Paper, Scissors.\n",
    "    Player 1 (R/P/S): S\n",
    "    Player 2 (R/P/S): P\n",
    "    Scissors beats Paper: Player 1 wins.\n",
    "    Play again (Y/N)? N\n",
    "\n",
    "If you want, you may use some Unicode symbols to enrich the output of the program, such as \"\\u26F0\", \"\\U0001F9FB\", \"\\u2702\", or the ones you prefer.\n",
    "\n",
    "Note that we understand this program is not very useful since Player 2 can always see what Player 1 chooses: please ignore this issue."
   ]
  },
  {
   "cell_type": "code",
   "execution_count": null,
   "id": "32e96a06-f7bd-4c04-9065-63be18244759",
   "metadata": {
    "deletable": true,
    "editable": true,
    "tags": [
     "exercise"
    ]
   },
   "outputs": [],
   "source": [
    "# Write the Python program here\n",
    "print(\"Welcome to a new round of Rock, Paper, Scissors.\")\n",
    "while True:\n",
    "    while True:\n",
    "        p1 = input(\"Player 1 (R/P/S):\")\n",
    "        if p1 in \"RPS\":\n",
    "            break\n",
    "        print('Please enter \"R\", \"P\", or \"S\"')\n",
    "        \n",
    "    while True:\n",
    "        p2 = input(\"Player 2 (R/P/S):\")\n",
    "        if p2 in \"RPS\":\n",
    "            break\n",
    "        print('Please enter \"R\", \"P\", or \"S\"')\n",
    "    \n",
    "    if p1 == p2:\n",
    "        print(\"Tie!\")\n",
    "    elif p1 == \"R\":\n",
    "        if p2 == \"S\":\n",
    "            print(\"✊ beats ✌: Player 1 wins.\")\n",
    "        else: # p2 == \"P\"\n",
    "            print(\"✋ beats ✊: Player 2 wins.\")\n",
    "    elif p1 == \"P\":\n",
    "        if p2 == \"R\":\n",
    "            print(\"✋ beats ✊: Player 1 wins.\")\n",
    "        else: # p2 == \"S\"\n",
    "            print(\"✌ beats ✋: Player 2 wins.\")\n",
    "    else: # p1 == \"S\"\n",
    "        if p2 == \"R\":\n",
    "            print(\"✊ beats ✌: Player 2 wins.\")\n",
    "        else: # p2 == \"P\"\n",
    "            print(\"✌ beats ✋: Player 1 wins.\")\n",
    "            \n",
    "    if input(\"Play again (Y/N)?\") == \"N\":\n",
    "        break"
   ]
  },
  {
   "cell_type": "markdown",
   "id": "eb836287-79f5-456c-8387-ffb8f2689d6c",
   "metadata": {},
   "source": [
    "<img src=\"icons/problem.png\" style=\"float:left; margin-right: 20px; margin-top: 30px\">\n",
    "\n",
    "<br>\n",
    "\n",
    "## (Extra) Exercise 7: The maze\n",
    "<p style=\"clear: both\" />\n",
    "\n",
    "In this exercise a Python module will be loaded: it contains a set of functions to create, display, and interact with a maze.  \n",
    "Complete all the steps described in the cells below."
   ]
  },
  {
   "cell_type": "code",
   "execution_count": null,
   "id": "b8ecb5bc-88fc-4c54-893a-d9952d6a8917",
   "metadata": {},
   "outputs": [],
   "source": [
    "# Running the following Python code makes available a set of functions to create a maze and interact with it.\n",
    "# Note: importing Python modules will be explained later in the course, for now just run this cell and have faith that it works.\n",
    "from lab02utils import *"
   ]
  },
  {
   "cell_type": "code",
   "execution_count": null,
   "id": "89743567-bb00-499c-932e-beaf24b4cdda",
   "metadata": {},
   "outputs": [],
   "source": [
    "# The following Python function will create the maze and display it in the notebook just below this cell.\n",
    "start_maze()"
   ]
  },
  {
   "cell_type": "markdown",
   "id": "02e2b00e-6195-4c8e-be35-27adf790769e",
   "metadata": {},
   "source": [
    "### Setup the window layout\n",
    "\n",
    "In the next exercises it will be important to see the maze and at the same time be able to scroll down the notebook, in order to read and edit the cells below. Arrange your JupyterLab layout as follows:\n",
    "- Create a new view of this notebook (or, if you prefer, create a view only for the output of the above cell, using the appropriate command);\n",
    "- Scroll and resize the new view so that you can see the maze at the right side of your screen and you can use the other view on the left to scroll down to work on the other cells.\n",
    "\n",
    "Your layout should look similar to this one:\n",
    "\n",
    "<img src=\"images/sample_layout.png\" style=\"margin-top: 30px\">\n"
   ]
  },
  {
   "cell_type": "markdown",
   "id": "3dc702f6-2356-47a8-9551-c7d9b60480e0",
   "metadata": {},
   "source": [
    "### Moving the hero\n",
    "\n",
    "In the next cell, test the following functions:  \n",
    "- ```hero_rotate_left()``` - The hero turns to the left\n",
    "- ```hero_rotate_right()``` - The hero turns to the right\n",
    "- ```hero_move()``` - The hero attempts to move forward: returns True if the movement was succesfull, otherwise False.\n",
    "    \n",
    "In particular, check the return value of ```hero_move()``` in the two cases (when he can move forward and when he can't).  \n",
    "If you want to move the hero back to the initial position, you can just run the previous code cell again (the one that calls ```start_maze()```)."
   ]
  },
  {
   "cell_type": "code",
   "execution_count": null,
   "id": "0d75ab44-af05-482e-a284-001c110a697f",
   "metadata": {
    "editable": true,
    "tags": [
     "exercise"
    ]
   },
   "outputs": [],
   "source": [
    "# Write a Python program to test the three above functions\n",
    "hero_rotate_left()\n",
    "hero_rotate_left()\n",
    "hero_move()\n",
    "hero_move()\n",
    "hero_rotate_right()"
   ]
  },
  {
   "cell_type": "markdown",
   "id": "36b27e3a-a8d7-400c-b6dc-8e1d27efb26e",
   "metadata": {
    "editable": true
   },
   "source": [
    "### Solve the maze\n",
    "\n",
    "Write a Python program to help the hero find the exit of the maze. Your program should implement the *Wall follower* algorithm (see https://en.wikipedia.org/wiki/Maze-solving_algorithm#Wall_follower), using the *left-hand rule* or the *right-hand rule*. For instance, the left-hand rule can be summarized as follows: if there is no wall at the left, then rotate left and move forward; otherwise if there is a wall in front, then rotate right, otherwise move forward.  \n",
    "\n",
    "Some of the following functions can be used, together with the ones already mentioned, to write your program:\n",
    "- ```wall_in_front()``` - True if there is a wall in front of the hero.\n",
    "- ```wall_at_right()``` - True if there is a wall on the right of the hero.\n",
    "- ```wall_at_left()``` - True if there is a wall on the left of the hero.\n",
    "- ```maze_solved()``` - True if there hero finally exited the maze.\n",
    "    \n",
    "_Suggestion: in case your program enters an infinite loop, or you want to terminate it in advance, the command \"Interrupt Kernel\" can come in handy._"
   ]
  },
  {
   "cell_type": "code",
   "execution_count": null,
   "id": "928efc8a-02b1-4f61-a193-3e0bbfe6b690",
   "metadata": {
    "editable": true,
    "tags": [
     "exercise"
    ]
   },
   "outputs": [],
   "source": [
    "# Write your Python program here\n",
    "while not maze_solved():\n",
    "    if not wall_at_left():\n",
    "        hero_rotate_left()\n",
    "    if not hero_move():\n",
    "        hero_rotate_right()\n",
    "print(\"Maze solved!\")"
   ]
  }
 ],
 "metadata": {
  "kernelspec": {
   "display_name": "Python 3 (ipykernel)",
   "language": "python",
   "name": "python3"
  },
  "language_info": {
   "codemirror_mode": {
    "name": "ipython",
    "version": 3
   },
   "file_extension": ".py",
   "mimetype": "text/x-python",
   "name": "python",
   "nbconvert_exporter": "python",
   "pygments_lexer": "ipython3",
   "version": "3.11.4"
  },
  "toc-autonumbering": false,
  "toc-showcode": true,
  "toc-showmarkdowntxt": true,
  "toc-showtags": true
 },
 "nbformat": 4,
 "nbformat_minor": 5
}
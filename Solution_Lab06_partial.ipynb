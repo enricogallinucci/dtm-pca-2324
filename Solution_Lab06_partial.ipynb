{
 "cells": [
  {
   "cell_type": "markdown",
   "id": "f216d371",
   "metadata": {
    "deletable": true,
    "editable": true
   },
   "source": [
    "<img src=\"icons/header.png\">"
   ]
  },
  {
   "cell_type": "markdown",
   "id": "f5d6bef9",
   "metadata": {
    "deletable": true,
    "editable": true
   },
   "source": [
    "# Lab 6: Functions and lambdas"
   ]
  },
  {
   "cell_type": "markdown",
   "id": "0ec7dfe9",
   "metadata": {
    "deletable": true,
    "editable": true,
    "tags": []
   },
   "source": [
    "Welcome to the seventh lab of the course. This lab covers:\n",
    "- Global and function scope\n",
    "- Functions as objects and anonymous functions\n",
    "- List comprehension and set comprehension"
   ]
  },
  {
   "cell_type": "markdown",
   "id": "8b435cb5",
   "metadata": {
    "deletable": true,
    "editable": true,
    "tags": []
   },
   "source": [
    "<img src=\"icons/problem.png\" style=\"float:left; margin-right: 20px; margin-top: 30px\">\n",
    "\n",
    "<br>\n",
    "\n",
    "## Exercise 1: Find the error\n",
    "\n",
    "<p style=\"clear: both\" />\n",
    "\n",
    "In the following Python program, the function *change_num* does not work as expected. Modify it to fix the error.\n"
   ]
  },
  {
   "cell_type": "code",
   "execution_count": null,
   "id": "7569255d",
   "metadata": {
    "deletable": true,
    "editable": true,
    "tags": []
   },
   "outputs": [],
   "source": [
    "myNum = 0\n",
    "\n",
    "def print_num():\n",
    "    print(f\"Current num: {myNum}\")"
   ]
  },
  {
   "cell_type": "code",
   "execution_count": null,
   "id": "13c86a87",
   "metadata": {
    "deletable": true,
    "editable": true,
    "tags": [
     "exercise"
    ]
   },
   "outputs": [],
   "source": [
    "# Wrong definition\n",
    "def change_num(newNum):\n",
    "    myNum = newNum"
   ]
  },
  {
   "cell_type": "code",
   "execution_count": null,
   "id": "472d7f68-dd1c-4f38-a45b-47d8cb22d727",
   "metadata": {
    "editable": true,
    "tags": [
     "exercise"
    ]
   },
   "outputs": [],
   "source": [
    "# Correct definition\n",
    "def change_num(newNum):\n",
    "    global myNum\n",
    "    myNum = newNum"
   ]
  },
  {
   "cell_type": "code",
   "execution_count": null,
   "id": "5f754026",
   "metadata": {
    "deletable": true,
    "editable": true,
    "tags": []
   },
   "outputs": [],
   "source": [
    "inputNum = int(input(\"Give a number\"))\n",
    "change_num(inputNum)\n",
    "print_num()"
   ]
  },
  {
   "cell_type": "markdown",
   "id": "50d3019d",
   "metadata": {
    "editable": true,
    "tags": []
   },
   "source": [
    "<img src=\"icons/problem.png\" style=\"float:left; margin-right: 20px; margin-top: 30px\">\n",
    "\n",
    "<br>\n",
    "\n",
    "## Exercise 2: Lambda basics\n",
    "\n",
    "<p style=\"clear: both\" />\n",
    "\n",
    "Lambda functions are useful when you want to parametrize some behaviors. Look at the following example, which parameterizes how *x* and *y* are meant to be used depending on a given parameter *n*."
   ]
  },
  {
   "cell_type": "code",
   "execution_count": null,
   "id": "430c73de-b08f-452f-aa70-d693d8c35fe6",
   "metadata": {
    "tags": []
   },
   "outputs": [],
   "source": [
    "import random\n",
    "r = [\n",
    "    lambda x,y: x+y, # Sum\n",
    "    lambda x,y: x-y, # Difference\n",
    "    lambda x,y: x*y  # Multiplication\n",
    "]\n",
    "n = random.randrange(0,3,1)\n",
    "print(f\"Random number is {n}\")\n",
    "r[n](2,3)"
   ]
  },
  {
   "cell_type": "markdown",
   "id": "f0988310-db06-44fe-bbe7-2a37644c9625",
   "metadata": {},
   "source": [
    "## 2.1 Histogram of letters\n",
    "\n",
    "Consider this code from Lab05, Exercise 8"
   ]
  },
  {
   "cell_type": "code",
   "execution_count": null,
   "id": "8c7f1531-f2c8-4809-bb64-1779724f7962",
   "metadata": {
    "tags": []
   },
   "outputs": [],
   "source": [
    "def create_histogram(text):\n",
    "    text = \"\".join([c for c in text.upper() if c.isalpha()])\n",
    "    d = {}\n",
    "    for l in text:\n",
    "        d[l] = d.get(l, 0) + 1\n",
    "    return [(l, \"*\" * d[l]) for l in sorted(d.keys())]"
   ]
  },
  {
   "cell_type": "markdown",
   "id": "a848ae74-24b5-4fba-923c-333a3401067e",
   "metadata": {
    "tags": []
   },
   "source": [
    "The function ```def create_histogram(text):``` must become ```def create_histogram(text,fun):``` where *fun* is a lambda function that determines the output that you should provide for each letter givent its count *cnt*\n",
    "- Calling ```create_histogram(\"If we can't live together, we're gonna die alone.\", lambda cnt: cnt*'*')``` returns the same output that was returned in Lab05\n",
    "  - ```[('A', '***'), ('C', '*'), ...```\n",
    "- Calling ```create_histogram(\"If we can't live together, we're gonna die alone.\", lambda cnt: cnt)``` just returns the number of occurrences of the letter\n",
    "  - ```[('A', 3), ('C', 1), ...```\n",
    "- Calling ```create_histogram(\"If we can't live together, we're gonna die alone.\", lambda cnt: cnt*'.')``` returns a dot for every occurrence\n",
    "  - ```[('A', '...'), ('C', '.'), ...```"
   ]
  },
  {
   "cell_type": "code",
   "execution_count": null,
   "id": "442d9b14-046a-48f5-9bdf-4df37ea3feae",
   "metadata": {
    "tags": []
   },
   "outputs": [],
   "source": [
    "def create_histogram(text,fun):\n",
    "    text = \"\".join([c for c in text.upper() if c.isalpha()])\n",
    "    d = {}\n",
    "    for l in text:\n",
    "        d[l] = d.get(l, 0) + 1\n",
    "    return [(l, fun(d[l])) for l in sorted(d.keys())]"
   ]
  },
  {
   "cell_type": "code",
   "execution_count": null,
   "id": "2faa3622-3c2a-4b79-9a4d-5bb5550b934a",
   "metadata": {
    "tags": []
   },
   "outputs": [],
   "source": [
    "create_histogram(\"If we can't live together, we're gonna die alone.\", lambda cnt: cnt*'*')"
   ]
  },
  {
   "cell_type": "code",
   "execution_count": null,
   "id": "6eb5c1f4-260b-45b1-96b4-ce49908cc0d5",
   "metadata": {
    "tags": []
   },
   "outputs": [],
   "source": [
    "create_histogram(\"If we can't live together, we're gonna die alone.\", lambda cnt: cnt)"
   ]
  },
  {
   "cell_type": "code",
   "execution_count": null,
   "id": "c76a9ced-26cd-4de7-bb03-85776954e1c1",
   "metadata": {
    "tags": []
   },
   "outputs": [],
   "source": [
    "create_histogram(\"If we can't live together, we're gonna die alone.\", lambda cnt: cnt*'.')"
   ]
  },
  {
   "cell_type": "markdown",
   "id": "3f5924ad-6588-401d-a252-94be10c9cd41",
   "metadata": {},
   "source": [
    "## 2.2 Compare strings\n",
    "\n",
    "Consider the following two sets:"
   ]
  },
  {
   "cell_type": "code",
   "execution_count": null,
   "id": "bd3822fa-7916-42a8-8acb-da72a74749f2",
   "metadata": {
    "tags": []
   },
   "outputs": [],
   "source": [
    "s1 = {\"a\",\"b\",\"c\"}\n",
    "s2 = {\"b\",\"c\",\"d\"}"
   ]
  },
  {
   "cell_type": "markdown",
   "id": "792945c2-df53-48d3-a6fc-962d93c25538",
   "metadata": {},
   "source": [
    "Define *comparators* a LIST of lambda function that compute:\n",
    "- The union of two strings\n",
    "- The difference of two strings\n",
    "- The intersection of two strings\n",
    "\n",
    "(If you don't remember how this is done, check Slides 5bis). \n",
    "\n",
    "Then, define a function ```compare_strings(fun,s1,s2)``` that applies to *s1* and *s2* the function *fun* given in input and returns the result."
   ]
  },
  {
   "cell_type": "code",
   "execution_count": null,
   "id": "e12c4ae4-98ae-4a7c-9123-d52edb1e94b8",
   "metadata": {
    "tags": []
   },
   "outputs": [],
   "source": [
    "comparators = [\n",
    "    lambda x,y: x | y, # Union\n",
    "    lambda x,y: x & y, # Intersection\n",
    "    lambda x,y: x - y  # Difference\n",
    "]"
   ]
  },
  {
   "cell_type": "code",
   "execution_count": null,
   "id": "92abca27-acc7-4506-8585-510260e24a53",
   "metadata": {
    "tags": []
   },
   "outputs": [],
   "source": [
    "def compare_strings(fun,s1,s2):\n",
    "    return fun(s1,s2)"
   ]
  },
  {
   "cell_type": "code",
   "execution_count": null,
   "id": "d7efc75d-455d-45b0-a62f-5d2966088f52",
   "metadata": {
    "tags": []
   },
   "outputs": [],
   "source": [
    "compare_strings(comparators[2],s1,s2)"
   ]
  },
  {
   "cell_type": "markdown",
   "id": "9cf5cc02-a001-4801-bffb-ecb4f39e8461",
   "metadata": {},
   "source": [
    "## 2.3 Word counting\n",
    "\n",
    "Consider this code from Lab05, Exercise 10"
   ]
  },
  {
   "cell_type": "code",
   "execution_count": null,
   "id": "13f3ba93-373c-459f-8759-76154d1e5dde",
   "metadata": {
    "tags": []
   },
   "outputs": [],
   "source": [
    "import lab_utils\n",
    "\n",
    "def remove_punctuation(t):\n",
    "    for c in t:\n",
    "        if not c.isalpha():\n",
    "            t = t.replace(c,\" \")\n",
    "    return t\n",
    "    \n",
    "def word_count(path,n):\n",
    "    txt = lab_utils.readFromFile(path)\n",
    "    dict = {}\n",
    "    for line in txt:\n",
    "        line = remove_punctuation(line.lower())\n",
    "        for word in line.split():\n",
    "            dict[word] = dict.get(word, 0) + 1\n",
    "    return {w: dict[w] for w in dict.keys() if dict[w]>=n}"
   ]
  },
  {
   "cell_type": "markdown",
   "id": "7e8cbb81-b05d-4325-8075-a23dce857f0d",
   "metadata": {},
   "source": [
    "The function ```def word_count(path,n):``` must become ```word_count(path,fun):``` where *fun* is a lambda function that takes in input a word *w* and the number of found occurrences *n* and determines **WHICH** words should be returned\n",
    "- Call ```word_count('files/lost.txt', ...):``` in a way that it returns the same output that was returned in Lab05 (i.e., only words that appear at least 3 times)\n",
    "- Call ```word_count('files/lost.txt', ...):``` in a way that it returns only words that begin with the letter \"a\"\n",
    "- Call ```word_count('files/lost.txt', ...):``` in a way that it returns only words that are at least 10 characters long\n",
    "- Call ```word_count('files/lost.txt', ...):``` in a way that it returns only words that contain the letter \"p\" and that appear at least twice"
   ]
  },
  {
   "cell_type": "code",
   "execution_count": null,
   "id": "9bee82fc-f38d-4f08-8d98-bcea7ca5c5e0",
   "metadata": {
    "tags": []
   },
   "outputs": [],
   "source": [
    "def word_count(path,fun):\n",
    "    txt = lab_utils.readFromFile(path)\n",
    "    dict = {}\n",
    "    for line in txt:\n",
    "        line = remove_punctuation(line.lower())\n",
    "        for word in line.split():\n",
    "            dict[word] = dict.get(word, 0) + 1\n",
    "    return {w: dict[w] for w in dict.keys() if fun(w,dict[w])}"
   ]
  },
  {
   "cell_type": "code",
   "execution_count": null,
   "id": "7387009c-ffcd-4bff-9113-b36d91a9bc81",
   "metadata": {
    "tags": []
   },
   "outputs": [],
   "source": [
    "word_count('files/lost.txt', lambda w,n: n>3)"
   ]
  },
  {
   "cell_type": "code",
   "execution_count": null,
   "id": "71d735b5-1c77-4b93-b9b9-715c7490a113",
   "metadata": {
    "tags": []
   },
   "outputs": [],
   "source": [
    "word_count('files/lost.txt', lambda w,n: w[0]==\"a\")"
   ]
  },
  {
   "cell_type": "code",
   "execution_count": null,
   "id": "ea4c1b49-2b05-4eb2-9cce-0856eba43e12",
   "metadata": {
    "tags": []
   },
   "outputs": [],
   "source": [
    "word_count('files/lost.txt', lambda w,n: len(w)>=10)"
   ]
  },
  {
   "cell_type": "code",
   "execution_count": null,
   "id": "809e1418-356a-4da2-9c09-7ecfb2f41943",
   "metadata": {
    "tags": []
   },
   "outputs": [],
   "source": [
    "word_count('files/lost.txt', lambda w,n: \"p\" in w and n>=2)"
   ]
  },
  {
   "cell_type": "markdown",
   "id": "ff5666f1-b858-4bfb-a31b-231a0e92117f",
   "metadata": {
    "editable": true,
    "tags": []
   },
   "source": [
    "<img src=\"icons/problem.png\" style=\"float:left; margin-right: 20px; margin-top: 30px\">\n",
    "\n",
    "<br>\n",
    "\n",
    "## Exercise 3: The shortest program to find the shortest string\n",
    "\n",
    "<p style=\"clear: both\" />\n",
    "\n",
    "The following Python program looks for the shortest string in a list using a loop. Read the documentation of the Python built-in *min* function (https://docs.python.org/3/library/functions.html#min), to understand how to use the *key* argument, then write a better implementation of the program consisting in a single line of code and test it."
   ]
  },
  {
   "cell_type": "code",
   "execution_count": null,
   "id": "e03cfa37",
   "metadata": {
    "tags": [
     "exercise"
    ]
   },
   "outputs": [],
   "source": [
    "planets = [\"Mercury\", \"Venus\", \"Earth\", \"Mars\", \"Jupiter\", \"Saturn\", \"Uranus\", \"Neptune\"]\n",
    "\n",
    "p_min = None\n",
    "len_min = 0\n",
    "for p in planets:\n",
    "    l = len(p)\n",
    "    if not p_min or l < len_min:\n",
    "        p_min, len_min = p, l\n",
    "\n",
    "print(\"Shortest one:\", p_min)"
   ]
  },
  {
   "cell_type": "code",
   "execution_count": null,
   "id": "15e06c6a-3baf-4946-9c83-b3dfa2cd543a",
   "metadata": {},
   "outputs": [],
   "source": [
    "min(planets, key=len)"
   ]
  },
  {
   "cell_type": "code",
   "execution_count": null,
   "id": "86efb9b2-f892-407a-9466-804e12315da5",
   "metadata": {},
   "outputs": [],
   "source": [
    "min(planets, key=lambda x: len(x))"
   ]
  },
  {
   "cell_type": "markdown",
   "id": "26ca47d5",
   "metadata": {
    "editable": true,
    "tags": []
   },
   "source": [
    "<img src=\"icons/problem.png\" style=\"float:left; margin-right: 20px; margin-top: 30px\">\n",
    "\n",
    "<br>\n",
    "\n",
    "## Exercise 4: Sorting grades\n",
    "\n",
    "<p style=\"clear: both\" />\n",
    "\n",
    "You have a list of tuples, *grades*, where each tuple contains a grade received by a student on a course. The format is: (student_id, student_name, course, grade, laude); note that *laude* is a boolean value denoting the \"30 cum laude\" grade.\n",
    "\n",
    "Write code that uses the Python built-in function *sorted* (https://docs.python.org/3/library/functions.html#sorted) in combination with lambda functions to sort the list as follows:\n",
    "- Sort by student id\n",
    "- Sort by name\n",
    "- Sort by grades\n",
    "- Sort by decreasing grades\n",
    "- Sort by decreasing grades; in case of parity, give precedence to laudes\n",
    "- Sort by decreasing grades; in case of parity, give precedence to laudes; in case of parity, sort alphabetically\n",
    "\n",
    "Finally:\n",
    "- Use list comprehension to return a new list with the names of students with a grade on 'Database systems'\n",
    "- (Extra) Considering the last sorting function above, replace the *grades* list with a call to the *filter* function (https://docs.python.org/3/library/functions.html#filter) that keeps only occurrences of the 'Database systems' course"
   ]
  },
  {
   "cell_type": "code",
   "execution_count": null,
   "id": "31105484",
   "metadata": {
    "editable": true,
    "tags": []
   },
   "outputs": [],
   "source": [
    "grades = [\n",
    " (42, 'Alice', 'Programming and computer architectures', 18, False),\n",
    " (42, 'Alice', 'Database systems', 18, False),\n",
    " (1, 'Bob', 'Fundamentals of accounting', 23, False),\n",
    " (1, 'Bob', 'Fundamentals of management and organization', 30, False),\n",
    " (2, 'Chuck', 'Fundamentals of finance and banking', 28, False),\n",
    " (5, 'Dan', 'Fundamentals of accounting', 24, False),\n",
    " (5, 'Dan', 'Operating systems, networks and web', 23, False),\n",
    " (4, 'Eve', 'Fundamentals of management and organization', 24, False),\n",
    " (4, 'Eve', 'Fundamentals of accounting', 30, False),\n",
    " (99, 'Frank', 'Fundamentals of finance and banking', 23, False),\n",
    " (1, 'Bob', 'Programming and computer architectures', 30, True),\n",
    " (5, 'Dan', 'Database systems', 25, False),\n",
    " (99, 'Frank', 'Fundamentals of management and organization', 26, False),\n",
    " (99, 'Frank', 'Programming and computer architectures', 25, False),\n",
    " (99, 'Frank', 'Database systems', 27, False),\n",
    " (2, 'Chuck', 'Operating systems, networks and web', 26, False),\n",
    " (4, 'Eve', 'Operating systems, networks and web', 30, True),\n",
    " (42, 'Alice', 'Fundamentals of finance and banking', 29, False),\n",
    " (2, 'Chuck', 'Fundamentals of management and organization', 30, True),\n",
    " (99, 'Frank', 'Operating systems, networks and web', 22, False),\n",
    " (2, 'Chuck', 'Database systems', 30, False),\n",
    " (5, 'Dan', 'Fundamentals of finance and banking', 30, False),\n",
    " (2, 'Chuck', 'Fundamentals of accounting', 28, False),\n",
    " (1, 'Bob', 'Operating systems, networks and web', 24, False),\n",
    " (1, 'Bob', 'Database systems', 24, False),\n",
    " (5, 'Dan', 'Fundamentals of management and organization', 19, False),\n",
    " (5, 'Dan', 'Programming and computer architectures', 30, False),\n",
    " (2, 'Chuck', 'Programming and computer architectures', 23, False),\n",
    " (99, 'Frank', 'Fundamentals of accounting', 18, False),\n",
    " (1, 'Bob', 'Fundamentals of finance and banking', 22, False),\n",
    " (4, 'Eve', 'Programming and computer architectures', 24, False),\n",
    " (4, 'Eve', 'Fundamentals of finance and banking', 20, False),\n",
    " (42, 'Alice', 'Fundamentals of accounting', 30, False),\n",
    " (42, 'Alice', 'Operating systems, networks and web', 18, False)\n",
    "]"
   ]
  }
 ],
 "metadata": {
  "kernelspec": {
   "display_name": "Python 3 (ipykernel)",
   "language": "python",
   "name": "python3"
  },
  "language_info": {
   "codemirror_mode": {
    "name": "ipython",
    "version": 3
   },
   "file_extension": ".py",
   "mimetype": "text/x-python",
   "name": "python",
   "nbconvert_exporter": "python",
   "pygments_lexer": "ipython3",
   "version": "3.11.4"
  },
  "toc-autonumbering": false,
  "toc-showcode": true,
  "toc-showmarkdowntxt": true,
  "toc-showtags": true
 },
 "nbformat": 4,
 "nbformat_minor": 5
}

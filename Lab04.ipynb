{
 "cells": [
  {
   "cell_type": "markdown",
   "id": "60d2c302-1d4b-470d-94b2-6f455c4e4e1c",
   "metadata": {
    "deletable": true,
    "editable": true
   },
   "source": [
    "<img src=\"icons/header.png\">"
   ]
  },
  {
   "cell_type": "markdown",
   "id": "1ce8d48f-24ef-4db1-8dbf-406d0dd72d15",
   "metadata": {
    "deletable": true,
    "editable": true
   },
   "source": [
    "# Lab 4: Functions and methods"
   ]
  },
  {
   "cell_type": "markdown",
   "id": "c5ae5e09-92b7-43eb-9b11-86513ce39423",
   "metadata": {
    "deletable": true,
    "editable": true,
    "tags": []
   },
   "source": [
    "Welcome to the fourth lab of the course. This lab covers:\n",
    "- Defining and calling functions\n",
    "- Abstraction and decomposition"
   ]
  },
  {
   "source": [
    "<img src=\"icons/problem.png\" style=\"float:left; margin-right: 20px; margin-top: 30px\">\n",
    "\n",
    "<br>\n",
    "\n",
    "## Exercise 0: Warm-up\n",
    "\n",
    "<p style=\"clear: both\" />\n",
    "\n",
    "Implement the following functions:\n",
    "- a function 'pow' that takes in input a number x and returns x**2\n",
    "- a function 'fahrenheit' that takes in input a number of °C degrees and returns the corresponding value in °F\n",
    "- a function 'rectangleArea' that takes in input two numbers (length and breadth) returns the calculation of the area of the rectangle"
   ],
   "cell_type": "markdown",
   "metadata": {}
  },
  {
   "cell_type": "code",
   "execution_count": null,
   "metadata": {},
   "outputs": [],
   "source": [
    "# Write the Python function here\n",
    "def pow(...):\n",
    "    ..."
   ]
  },
  {
   "cell_type": "code",
   "execution_count": null,
   "metadata": {},
   "outputs": [],
   "source": [
    "# Write the Python function here\n",
    "def fahrenheit(...):\n",
    "    ..."
   ]
  },
  {
   "cell_type": "code",
   "execution_count": null,
   "metadata": {},
   "outputs": [],
   "source": [
    "# Write the Python function here\n",
    "def rectangleArea(...):\n",
    "    ..."
   ]
  },
  {
   "cell_type": "markdown",
   "id": "e734e5bf-5653-4320-bf81-0cca87fadf22",
   "metadata": {
    "deletable": true,
    "editable": true,
    "tags": []
   },
   "source": [
    "<img src=\"icons/problem.png\" style=\"float:left; margin-right: 20px; margin-top: 30px\">\n",
    "\n",
    "<br>\n",
    "\n",
    "## Exercise 1: Let's write some functions\n",
    "\n",
    "<p style=\"clear: both\" />\n",
    "\n",
    "Take the solution of Exercise 1 from Lab02 and re-write it by implementing:\n",
    "- a function 'yearIsValid' that returns ```True``` or ```False``` depending on whether 'yborn' is valid\n",
    "- a function 'numOddOrEven' that returns \"odd\" or \"even\" if a number is odd or even\n",
    "- a function 'generation' that returns the name of the generation given the year in input *IF* the year is valid; otherwise, it returns ```None```\n",
    "- a function 'createEmail' that creates the @studio.unibo.it email address; this function should do the following:\n",
    "  - it mandatorily requires in input the first and last name\n",
    "  - it optionally accepts in input the middle name and an integer indicating how many students have already been created with the same names;\n",
    "  - transforms all names in lower case;\n",
    "  - if the middle name is given, the username should be in the format 'fname.mname.lname';\n",
    "  - if the integer is given, its value +1 should be written after the last name\n",
    "  - the length of the whole username (i.e., the string before the '@') should not exceed 30 characters; if the string is too long, you should (in this order):\n",
    "    1. remove vocals from the middle name, if any;\n",
    "    1. if still too long, remove vocals from the first name;\n",
    "    1. if still too long, truncate the final part of the last name;\n",
    "    1. if still too long, return None\n",
    "\n",
    "The 'createEmail' function is a bit complex; it is useful to break it down into more functions:\n",
    "- 'removeVocalsFromString', to just handle to removal of vocals from a generic string\n",
    "- 'emailPrefix', to just handle the creation of the part that preceeds '@studio.unibo.it'\n",
    "- 'createEmail', to implement the rules to create the username\n",
    "    "
   ]
  },
  {
   "cell_type": "code",
   "execution_count": null,
   "id": "c3f79cb7-30c0-46c8-8f61-1606338bf3d7",
   "metadata": {
    "deletable": true,
    "editable": true,
    "tags": [
     "exercise"
    ]
   },
   "outputs": [],
   "source": [
    "# Write the Python function here\n",
    "from datetime import datetime\n",
    "ytoday = datetime.today().year\n",
    "\n",
    "def yearIsValid(...):\n",
    "  ..."
   ]
  },
  {
   "cell_type": "code",
   "execution_count": null,
   "id": "0838e69a-4d98-4e87-9b49-3c129bae81aa",
   "metadata": {
    "editable": true,
    "tags": [
     "exercise"
    ]
   },
   "outputs": [],
   "source": [
    "# Write the Python function here\n",
    "def numOddOrEven(...):\n",
    "  ..."
   ]
  },
  {
   "cell_type": "code",
   "execution_count": null,
   "id": "2e745bd2-6355-4994-8561-d84dc5a2f3cf",
   "metadata": {
    "editable": true,
    "tags": [
     "exercise"
    ]
   },
   "outputs": [],
   "source": [
    "# Write the Python function here\n",
    "def generation(...):\n",
    "  ..."
   ]
  },
  {
   "cell_type": "code",
   "execution_count": null,
   "id": "8e214bcf-b12a-4543-823b-4293f66090e5",
   "metadata": {
    "editable": true,
    "tags": [
     "exercise"
    ]
   },
   "outputs": [],
   "source": [
    "# Write the Python function here\n",
    "def removeVocalsFromString(...):\n",
    "  ..."
   ]
  },
  {
   "cell_type": "code",
   "execution_count": null,
   "id": "4ab2bedd-618d-442a-9208-d083a611e9c5",
   "metadata": {
    "editable": true,
    "tags": [
     "exercise"
    ]
   },
   "outputs": [],
   "source": [
    "# Write the Python function here\n",
    "def emailPrefix(...):\n",
    "  ..."
   ]
  },
  {
   "cell_type": "code",
   "execution_count": null,
   "id": "9db5960e-cc85-4bfa-98eb-89decba816c0",
   "metadata": {
    "editable": true,
    "tags": [
     "exercise"
    ]
   },
   "outputs": [],
   "source": [
    "# Write the Python function here\n",
    "def createEmail(...):\n",
    "  ..."
   ]
  },
  {
   "cell_type": "code",
   "execution_count": null,
   "id": "9184e34f-b9b2-49a8-82fb-ac7d9d83f320",
   "metadata": {
    "editable": true,
    "tags": [
     "exercise"
    ]
   },
   "outputs": [],
   "source": [
    "# Write the Python program\n",
    "fname = ...\n",
    "mname = ...\n",
    "lname = ...\n",
    "num = ...\n",
    "yborn = ...\n",
    "\n",
    "..."
   ]
  },
  {
   "cell_type": "markdown",
   "id": "7a4701a4-e55a-4e97-a532-f7c96d46a0ee",
   "metadata": {},
   "source": [
    "<img src=\"icons/problem.png\" style=\"float:left; margin-right: 20px; margin-top: 30px\">\n",
    "\n",
    "<br>\n",
    "\n",
    "## Exercise 2: Back to Caesar's cipher\n",
    "\n",
    "<p style=\"clear: both\" />\n",
    "\n",
    "Go back to Exercises 4 and 5 from Lab03 and decompose the encription and decription code into functions:\n",
    "- Define a 'validCharacter' function that verifies that a character is an upper case letter, i.e., between 'A' (codepoint 65) and 'Z' (codepoint 91)\n",
    "  - It returns -1 if the codepoint is below 65, 0 if the codepoint is the correct range, 1 if the codepoint is over 91\n",
    "- Define a 'changeCharacter' function that shifts the codepoint of a single char by $k$ positions\n",
    "  - Check that the input character is valid; if not, returns ```False```\n",
    "  - Implement the rotation: after adding $k$, verify whether the value is between 65 and 91; if not, add (or remove) 26 until the value is in the correct range\n",
    "  - Rely on the the 'validCharacter' function\n",
    "- Define a 'changeWord' function to shift all characters in the word by $k$ positions\n",
    "  - Convert the text to uppercase\n",
    "  - If any character is not valid, break and return ```False```\n",
    "  - Rely on the the 'changeCharacter' function\n",
    "- Define a 'caesar' function to shift a variable number of words by $k$ positions\n",
    "  - If no words are given in input, return an error message\n",
    "  - If k is not given in input, its default value is chosen by the ```random.randint()``` that generates a random number between a minimum and a maximum value (to be given in input)\n",
    "  - Print the value of $k$\n",
    "  - Print one line for every word, in the format \"OLD_WORD --> NEW_WORD\"\n",
    "  - Rely on the the 'changeWord' function"
   ]
  },
  {
   "cell_type": "code",
   "execution_count": null,
   "id": "68536650-eec9-4ba3-aa02-faacde4b0135",
   "metadata": {},
   "outputs": [],
   "source": [
    "def validCharacter(...):\n",
    "  ..."
   ]
  },
  {
   "cell_type": "code",
   "execution_count": null,
   "id": "2f455b55-24e7-4623-ad7a-9268a9ac1dbd",
   "metadata": {},
   "outputs": [],
   "source": [
    "def changeCharacter(...):\n",
    "  ..."
   ]
  },
  {
   "cell_type": "code",
   "execution_count": null,
   "id": "8e2fcc7b-198c-4e24-8772-40e01383e1e8",
   "metadata": {},
   "outputs": [],
   "source": [
    "def changeWord(...):\n",
    "  ..."
   ]
  },
  {
   "cell_type": "code",
   "execution_count": null,
   "id": "e150c6ad-5a7a-47d1-b6c7-dd74398ad1b8",
   "metadata": {},
   "outputs": [],
   "source": [
    "import random\n",
    "def caesar(...):\n",
    "  ..."
   ]
  }
 ],
 "metadata": {
  "kernelspec": {
   "display_name": "Python 3 (ipykernel)",
   "language": "python",
   "name": "python3"
  },
  "language_info": {
   "codemirror_mode": {
    "name": "ipython",
    "version": 3
   },
   "file_extension": ".py",
   "mimetype": "text/x-python",
   "name": "python",
   "nbconvert_exporter": "python",
   "pygments_lexer": "ipython3",
   "version": "3.10.9"
  },
  "toc-autonumbering": false,
  "toc-showcode": true,
  "toc-showmarkdowntxt": true,
  "toc-showtags": true
 },
 "nbformat": 4,
 "nbformat_minor": 5
}